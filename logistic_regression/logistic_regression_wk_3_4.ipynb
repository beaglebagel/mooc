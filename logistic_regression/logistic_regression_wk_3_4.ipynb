{
 "cells": [
  {
   "cell_type": "code",
   "execution_count": 2,
   "metadata": {
    "collapsed": false
   },
   "outputs": [
    {
     "name": "stdout",
     "output_type": "stream",
     "text": [
      "The rmagic extension is already loaded. To reload it, use:\n",
      "  %reload_ext rmagic\n",
      "import finished\n"
     ]
    }
   ],
   "source": [
    "%matplotlib inline\n",
    "%load_ext rmagic\n",
    "# %load_ext rpy2.ipython\n",
    "import math\n",
    "import pandas as pd\n",
    "import numpy as np\n",
    "import matplotlib.pyplot as plt\n",
    "import statsmodels.api as sm\n",
    "from sklearn.linear_model import LogisticRegression\n",
    "from statsmodels.formula.api import logit\n",
    "\n",
    "from IPython.display import display\n",
    "from IPython.display import HTML\n",
    "\n",
    "print 'import finished'"
   ]
  },
  {
   "cell_type": "markdown",
   "metadata": {},
   "source": [
    "# Week 3 - 4\n",
    "Confidence interval estimator of coefficient is $\\hat{\\beta_j} \\pm z_{1-a/2} \\widehat{SE}(\\hat{\\beta_j})$,\n",
    "where $\\widehat{SE}(\\hat{\\beta_j}) = \\sqrt{\\widehat{Var}(\\hat{\\beta_j})} $\n",
    "\n",
    "Confidence interval for the logit for a single subject:\n",
    "\n",
    "- the estimated logit : $\\hat{g}(x) = ln(\\frac{\\pi(x)} {1-\\pi(x)}) = \\sum_{j=0}^p \\hat{\\beta_j}x_j$\n",
    "\n",
    "- the estimate of it's variable : $\\widehat{Var}(\\hat{g}(x)) =  x'[\\widehat{Var}(\\hat{\\beta})]x$\n",
    "\n",
    "- confidence interval of logit: $\\hat{g}(x) \\pm z_{1-a/2} \\widehat{SE}(\\hat{g}(x)) $\n",
    "\n",
    "- confidence interval of estimated logistic probability: \n",
    "    $\\frac{e^{\\hat{g}(x) \\pm z_{1-a/2} \\widehat{SE}(\\hat{g}(x))}} \n",
    "       {1 + e^{\\hat{g}(x) \\pm z_{1-a/2} \\widehat{SE}(\\hat{g}(x))}}$\n",
    "\n",
    "`link function` - function of y that yields linear function of independent variable, linearlity allows the coefficient $\\beta_1$ to indicate the change in dependent variable(y) corresponding to a unit change in the independent variable(x). In other words, **logit transformation** of y is linear to x.\n",
    "\n",
    "- logistic regression's link function: $ln(\\frac{\\pi(x)} {1-\\pi(x)}) = ln(e^{\\beta_0 + \\beta_1x}) = \\beta_0 + \\beta_1x$\n",
    "- **$\\Delta$ in logit for 1 unit $\\Delta$ in x.** : $g(x+1) - g(x)= (\\beta_0 + \\beta_1x + \\beta_1) - (\\beta_0 + \\beta_1x) = \\beta_1$\n",
    "\n",
    "\n",
    "- interpretation of $\\beta_1$ depends on difference between above 2 logit and nature of independent variable x. (dichotomous, polychotomous, continuous, etc..)\n",
    "    - Pr(y=1|x) = $\\pi(x) = \\frac{e^{\\beta_0 + \\beta_1x}} {1 + e^{\\beta_0 + \\beta_1x}}$, Pr(y=0|x) =\n",
    "$1 - \\pi(x) = \\frac{1}{1 + e^{\\beta_0 + \\beta_1x}}$\n",
    "    - Dichotomous case: x is coded as 0, 1\n",
    "        - consider cases of y=0,1 and x=0,1\n",
    "        - the odds of outcome being present among exposed individuals(x=1):\n",
    "            - $\\frac{Pr(y=1|x=1)} {Pr(y=0|x=1)} = \\frac{\\pi(1)} {1-\\pi(1)}$\n",
    "            \n",
    "        - for those not exposed individuals(x=0):\n",
    "            - $\\frac{Pr(y=1|x=0)} {Pr(y=0|x=0)} = \\frac{\\pi(0)} {1-\\pi(0)}$\n",
    "            \n",
    "        - the `odds ratio, log odds ratio(logit difference)` is the ratio of odds (x=1) to odds (x=0)\n",
    "            - OR = $\\frac { \\pi(1) \\> / \\> 1-\\pi(1) } { \\pi(0) \\> / \\> 1-\\pi(0) } = e^{\\beta_1}, \\> ln(OR) = \\beta_1$\n",
    "            - Odds ratio is the odds the outcome **occurs** given **exposure** vs **non-exposure**.\n",
    "            - [Difference between Odds Ratio and Likelihood Ratio](https://www.quora.com/How-can-I-remember-the-differences-between-odds-ratio-hazard-ratio-and-likelihood-ratio-and-in-what-instances-they-should-be-applied)\n",
    "            - [More on odds ratio](http://www.ats.ucla.edu/stat/mult_pkg/faq/general/odds_ratio.htm)\n",
    "        - confidene interval estimation:\n",
    "            - $ln(OR)$ is moren normally distributed than OR, thus is which confidence interval is based on.\n",
    "            - $\\widehat{Var}(\\hat{\\beta_1}) =  [\\frac{1} {a} + \\frac{1} {b} + \\frac{1} {c} + \\frac{1} {d} ]$\n",
    "            - $\\widehat{SE}(\\hat{\\beta_1}) = \\sqrt{\\widehat{Var}(\\hat{\\beta_1})} $, $\\hat{\\beta_1} \\pm z_{1-a/2} \\widehat{SE}(\\hat{\\beta_1})$\n",
    "                        \n",
    "    - Polychotomous case: a variable has 3 or more levels with a fixed number of outcomes\n",
    "        - Referent Group: Primary comparison group when generating odds ratios in logistic regression. It is often the group with the lowest risk/odds of outcome\n",
    "        - Referent Cell Coding: All design variables are coded as 0 for the referent group\n"
   ]
  },
  {
   "cell_type": "markdown",
   "metadata": {},
   "source": [
    "### Exercise 1"
   ]
  },
  {
   "cell_type": "code",
   "execution_count": 15,
   "metadata": {
    "collapsed": false
   },
   "outputs": [
    {
     "name": "stdout",
     "output_type": "stream",
     "text": [
      "Optimization terminated successfully.\n",
      "         Current function value: 0.272933\n",
      "         Iterations 8\n"
     ]
    },
    {
     "data": {
      "text/html": [
       "<table class=\"simpletable\">\n",
       "<caption>Logit Regression Results</caption>\n",
       "<tr>\n",
       "  <th>Dep. Variable:</th>      <td>MYOPIC</td>      <th>  No. Observations:  </th>  <td>   618</td>  \n",
       "</tr>\n",
       "<tr>\n",
       "  <th>Model:</th>               <td>Logit</td>      <th>  Df Residuals:      </th>  <td>   616</td>  \n",
       "</tr>\n",
       "<tr>\n",
       "  <th>Method:</th>               <td>MLE</td>       <th>  Df Model:          </th>  <td>     1</td>  \n",
       "</tr>\n",
       "<tr>\n",
       "  <th>Date:</th>          <td>Sun, 18 Oct 2015</td> <th>  Pseudo R-squ.:     </th>  <td>0.2973</td>  \n",
       "</tr>\n",
       "<tr>\n",
       "  <th>Time:</th>              <td>22:24:37</td>     <th>  Log-Likelihood:    </th> <td> -168.67</td> \n",
       "</tr>\n",
       "<tr>\n",
       "  <th>converged:</th>           <td>True</td>       <th>  LL-Null:           </th> <td> -240.04</td> \n",
       "</tr>\n",
       "<tr>\n",
       "  <th> </th>                      <td> </td>        <th>  LLR p-value:       </th> <td>6.727e-33</td>\n",
       "</tr>\n",
       "</table>\n",
       "<table class=\"simpletable\">\n",
       "<tr>\n",
       "      <td></td>         <th>coef</th>     <th>std err</th>      <th>z</th>      <th>P>|z|</th> <th>[95.0% Conf. Int.]</th> \n",
       "</tr>\n",
       "<tr>\n",
       "  <th>Intercept</th> <td>    0.0540</td> <td>    0.207</td> <td>    0.261</td> <td> 0.794</td> <td>   -0.351     0.459</td>\n",
       "</tr>\n",
       "<tr>\n",
       "  <th>SPHEQ</th>     <td>   -3.8331</td> <td>    0.418</td> <td>   -9.162</td> <td> 0.000</td> <td>   -4.653    -3.013</td>\n",
       "</tr>\n",
       "</table>"
      ],
      "text/plain": [
       "<class 'statsmodels.iolib.summary.Summary'>\n",
       "\"\"\"\n",
       "                           Logit Regression Results                           \n",
       "==============================================================================\n",
       "Dep. Variable:                 MYOPIC   No. Observations:                  618\n",
       "Model:                          Logit   Df Residuals:                      616\n",
       "Method:                           MLE   Df Model:                            1\n",
       "Date:                Sun, 18 Oct 2015   Pseudo R-squ.:                  0.2973\n",
       "Time:                        22:24:37   Log-Likelihood:                -168.67\n",
       "converged:                       True   LL-Null:                       -240.04\n",
       "                                        LLR p-value:                 6.727e-33\n",
       "==============================================================================\n",
       "                 coef    std err          z      P>|z|      [95.0% Conf. Int.]\n",
       "------------------------------------------------------------------------------\n",
       "Intercept      0.0540      0.207      0.261      0.794        -0.351     0.459\n",
       "SPHEQ         -3.8331      0.418     -9.162      0.000        -4.653    -3.013\n",
       "==============================================================================\n",
       "\"\"\""
      ]
     },
     "execution_count": 15,
     "metadata": {},
     "output_type": "execute_result"
    }
   ],
   "source": [
    "myopia2 = pd.read_csv('./data/MYOPIA-fixed.csv')\n",
    "lg2 = logit(formula = 'MYOPIC ~ SPHEQ', data=myopia2)\n",
    "mresult2 = lg2.fit()\n",
    "mresult2.summary()"
   ]
  },
  {
   "cell_type": "markdown",
   "metadata": {},
   "source": [
    "#### exercise 1a\n",
    "95% confidence that the actual SPHEQ coefficient lies between -4.653 and -3.013.\n",
    "- $\\hat{\\beta_{SPHEQ}} \\pm z_{1-a/2} \\widehat{SE}(\\hat{\\beta_{SPHEQ}}) = -3.8331 \\pm 1.96(0.418)$\n",
    "\n",
    "#### exercise 1b\n",
    "With SPHEQ = 2\n",
    "- $\\hat{g}(x) = \\beta_0 + \\beta_1x = 0.054 - 3.8331 * 2 = -7.6122$\n",
    "\n",
    "Covariance Matrix(intercept, SPHEQ):\n",
    "$\\begin{bmatrix} 0.0427 & -0.0634 \\\\ -0.0634 & 0.1751 \\end{bmatrix}$\n",
    "\n",
    "$ \\widehat{Var}(\\hat{g}(x)) = x' [\\widehat{Var}(\\hat{\\beta})] x = \\begin{bmatrix} 1 & 2 \\end{bmatrix} \\begin{bmatrix} 0.0427 & -0.0634 \\\\ -0.0634 & 0.1751 \\end{bmatrix} \\begin{bmatrix} 1 \\\\ 2 \\end{bmatrix} = 0.4894, \n",
    "\\widehat{SE}(\\hat{\\beta}) = 0.6996$\n",
    "\n",
    "Logit 95% confidece interval:\n",
    "- $\\hat{g}(x) \\pm z_{1-a/2} \\widehat{SE}(\\hat{g}(x)) = -7.6122 \\pm 1.96(0.6996) \\to [-8.9834, -6.2410]$\n",
    "\n",
    "Estimated logistic probability:\n",
    "- $\\frac {e^{-7.6122}} {1 + e^{-7.6122}} = 0.00049414$\n",
    "\n",
    "95% confidence interval for estimated logistic probability:\n",
    "- $[ \\frac {e^{-8.9834}} {1 + e^{-8.9834}}, \\frac {e^{-6.2410}} {1 + e^{-6.2410}} ] = [0.0001254, 0.001944]$\n",
    "\n",
    "The probability of having MYOPIA given SPHEQ=2 is 0.0494% with 95% confidence interval [0.01254%, 0.1944%]"
   ]
  },
  {
   "cell_type": "markdown",
   "metadata": {},
   "source": [
    "### Exercise 2"
   ]
  },
  {
   "cell_type": "code",
   "execution_count": 16,
   "metadata": {
    "collapsed": true
   },
   "outputs": [
    {
     "name": "stdout",
     "output_type": "stream",
     "text": [
      "Optimization terminated successfully.\n",
      "         Current function value: 0.480766\n",
      "         Iterations 6\n"
     ]
    },
    {
     "data": {
      "text/html": [
       "<table class=\"simpletable\">\n",
       "<caption>Logit Regression Results</caption>\n",
       "<tr>\n",
       "  <th>Dep. Variable:</th>        <td>STA</td>       <th>  No. Observations:  </th>  <td>   200</td> \n",
       "</tr>\n",
       "<tr>\n",
       "  <th>Model:</th>               <td>Logit</td>      <th>  Df Residuals:      </th>  <td>   198</td> \n",
       "</tr>\n",
       "<tr>\n",
       "  <th>Method:</th>               <td>MLE</td>       <th>  Df Model:          </th>  <td>     1</td> \n",
       "</tr>\n",
       "<tr>\n",
       "  <th>Date:</th>          <td>Sun, 18 Oct 2015</td> <th>  Pseudo R-squ.:     </th>  <td>0.03924</td>\n",
       "</tr>\n",
       "<tr>\n",
       "  <th>Time:</th>              <td>22:24:45</td>     <th>  Log-Likelihood:    </th> <td> -96.153</td>\n",
       "</tr>\n",
       "<tr>\n",
       "  <th>converged:</th>           <td>True</td>       <th>  LL-Null:           </th> <td> -100.08</td>\n",
       "</tr>\n",
       "<tr>\n",
       "  <th> </th>                      <td> </td>        <th>  LLR p-value:       </th> <td>0.005069</td>\n",
       "</tr>\n",
       "</table>\n",
       "<table class=\"simpletable\">\n",
       "<tr>\n",
       "      <td></td>         <th>coef</th>     <th>std err</th>      <th>z</th>      <th>P>|z|</th> <th>[95.0% Conf. Int.]</th> \n",
       "</tr>\n",
       "<tr>\n",
       "  <th>Intercept</th> <td>   -3.0585</td> <td>    0.696</td> <td>   -4.394</td> <td> 0.000</td> <td>   -4.423    -1.694</td>\n",
       "</tr>\n",
       "<tr>\n",
       "  <th>AGE</th>       <td>    0.0275</td> <td>    0.011</td> <td>    2.607</td> <td> 0.009</td> <td>    0.007     0.048</td>\n",
       "</tr>\n",
       "</table>"
      ],
      "text/plain": [
       "<class 'statsmodels.iolib.summary.Summary'>\n",
       "\"\"\"\n",
       "                           Logit Regression Results                           \n",
       "==============================================================================\n",
       "Dep. Variable:                    STA   No. Observations:                  200\n",
       "Model:                          Logit   Df Residuals:                      198\n",
       "Method:                           MLE   Df Model:                            1\n",
       "Date:                Sun, 18 Oct 2015   Pseudo R-squ.:                 0.03924\n",
       "Time:                        22:24:45   Log-Likelihood:                -96.153\n",
       "converged:                       True   LL-Null:                       -100.08\n",
       "                                        LLR p-value:                  0.005069\n",
       "==============================================================================\n",
       "                 coef    std err          z      P>|z|      [95.0% Conf. Int.]\n",
       "------------------------------------------------------------------------------\n",
       "Intercept     -3.0585      0.696     -4.394      0.000        -4.423    -1.694\n",
       "AGE            0.0275      0.011      2.607      0.009         0.007     0.048\n",
       "==============================================================================\n",
       "\"\"\""
      ]
     },
     "execution_count": 16,
     "metadata": {},
     "output_type": "execute_result"
    }
   ],
   "source": [
    "icu = pd.read_csv('./data/icu.csv')\n",
    "iculg2 = logit(formula = 'STA ~ AGE', data=icu)\n",
    "icuresult = iculg2.fit()\n",
    "icuresult.summary()"
   ]
  },
  {
   "cell_type": "markdown",
   "metadata": {},
   "source": [
    "#### exercise 2a\n",
    "95% confidence that the actual AGE coefficient lies between 0.007 and 0.048.\n",
    "- $\\hat{\\beta_{AGE}} \\pm z_{1-a/2} \\widehat{SE}(\\hat{\\beta_{AGE}}) = 0.0275 \\pm 1.96(0.011)$\n",
    "\n",
    "#### exercise 2b\n",
    "\n",
    "With AGE = 60\n",
    "- $\\hat{g}(x) = \\beta_0 + \\beta_1x = -3.0585 + 0.0275 * 60 = -1.4085$\n",
    "\n",
    "Covariance Matrix(intercept, AGE):\n",
    "$\\begin{bmatrix} 0.4846 & -0.007104 \\\\ -0.007104 & 0.000112 \\end{bmatrix}$\n",
    "\n",
    "$ \\widehat{Var}(\\hat{g}(x)) = x' [\\widehat{Var}(\\hat{\\beta})] x = \\begin{bmatrix} 1 & 60 \\end{bmatrix} \\begin{bmatrix} 0.4846 & -0.007104 \\\\ -0.007104 & 0.000112 \\end{bmatrix} \\begin{bmatrix} 1 \\\\ 60 \\end{bmatrix} = 0.03394, \n",
    "\\widehat{SE}(\\hat{\\beta}) = 0.1842$\n",
    "\n",
    "Logit 95% confidece interval:\n",
    "- $\\hat{g}(x) \\pm z_{1-a/2} \\widehat{SE}(\\hat{g}(x)) = -1.4085 \\pm 1.96(0.1842) \\to [-1.7695, -1.0475]$\n",
    "\n",
    "Estimated logistic probability:\n",
    "- $\\frac {e^{-1.4085}} {1 + e^{-1.4085}} = 0.1965$\n",
    "\n",
    "95% confidence interval for estimated logistic probability:\n",
    "- $[ \\frac {e^{-1.7695}} {1 + e^{-1.7695}}, \\frac {e^{-1.0475}} {1 + e^{-1.0475}} ] = [0.1456, 0.2597]$\n",
    "\n",
    "The probability of having STA given AGE=60 is 19.65% with 95% confidence interval [14.56%, 25.97%]"
   ]
  },
  {
   "cell_type": "code",
   "execution_count": 17,
   "metadata": {
    "collapsed": true
   },
   "outputs": [
    {
     "name": "stdout",
     "output_type": "stream",
     "text": [
      "           Intercept       AGE\n",
      "Intercept   0.484586 -0.007104\n",
      "AGE        -0.007104  0.000112\n",
      "0.196470753549\n",
      "0.145604519837\n",
      "0.259705458333\n",
      "0.0339372225345 0.184220581192\n"
     ]
    }
   ],
   "source": [
    "covm = icuresult.cov_params()\n",
    "print covm\n",
    "print math.exp(-1.4085) / (1+math.exp(-1.4085))\n",
    "print math.exp(-1.7695) / (1+math.exp(-1.7695))\n",
    "print math.exp(-1.0475) / (1+math.exp(-1.0475))\n",
    "var = np.array([1,60]).T.dot(icuresult.cov_params()).dot(np.array([1,60]))\n",
    "print var, math.sqrt(var)"
   ]
  },
  {
   "cell_type": "markdown",
   "metadata": {},
   "source": [
    "### Exercise 3"
   ]
  },
  {
   "cell_type": "code",
   "execution_count": 19,
   "metadata": {
    "collapsed": true
   },
   "outputs": [
    {
     "name": "stderr",
     "output_type": "stream",
     "text": [
      "ERROR: Line magic function `%R` not found.\n"
     ]
    }
   ],
   "source": [
    "icu = pd.read_csv('./data/icu.csv')\n",
    "icu['RACE2'] = (icu['RACE'] == 2).astype(int)\n",
    "icu['RACE3'] = (icu['RACE'] == 3).astype(int)\n",
    "# iculg = logit(formula = 'STA ~ AGE + CAN + CPR + INF + RACE2 + RACE3', data=icu)\n",
    "# icuresult = iculg.fit()\n",
    "# display(icuresult.summary())\n",
    "# CALLING LOGITSTIC REGRESSION THROUGH R BECAUSE FOR SOME REASON STATSMODEL'S LOGIT DOESN'T TAKE INF PARAM.\n",
    "%R -i icu print(summary(glm(STA ~ AGE + CAN + CPR + INF + RACE2 + RACE3, data=icu, family=binomial())))"
   ]
  },
  {
   "cell_type": "markdown",
   "metadata": {},
   "source": [
    "#### exercise 3a\n",
    "\n",
    "Coding Design Variable for RACE(1 2 3), need 2 dummy variables to represent 3 RACE groups.\n",
    "\n",
    "RACE | Label | Race2 | Race3\n",
    "-|-|:-:|:-:\n",
    "1 | White | 0 | 0\n",
    "2 | Black | 1 | 0\n",
    "3 | Other | 0 | 1\n",
    "\n",
    "\n",
    "#### exercise 3b\n",
    "\n",
    "Logistic regression model of STA on AGE, CAN, CPR, INF, and RACE\n",
    "- **logistic regression model** : $\\pi(x) = \\frac{e^{\\beta_0 + \\beta_1{AGE} + \\beta_2{CAN} + \\beta_3{CPR} + \\beta_4{INF} + \\beta5{RACE2} + \\beta6{RACE3}}} {1 + e^{\\beta_0 + \\beta_1{AGE} + \\beta_2{CAN} + \\beta_3{CPR} + \\beta_4{INF} + \\beta5{RACE2} + \\beta6{RACE3}}}$, \n",
    "$1 - \\pi(x) = \\frac{1}{1 + e^{\\beta_0 + \\beta_1{AGE} + \\beta_2{CAN} + \\beta_3{CPR} + \\beta_4{INF} + \\beta5{RACE2} + \\beta6{RACE3}}}$\n",
    "- **logit transformation** : $g(x) = ln(\\frac{\\pi(x)} {1-\\pi(x)}) = ln(e^{\\beta_0 + \\beta_1{AGE} + \\beta_2{CAN} + \\beta_3{CPR} + \\beta_4{INF} + \\beta5{RACE2} + \\beta6{RACE3}}) = \\beta_0 + \\beta_1{AGE} + \\beta_2{CAN} + \\beta_3{CPR} + \\beta_4{INF} + \\beta5{RACE2} + \\beta6{RACE3}$\n",
    "\n",
    "#### exercise 3c\n",
    "\n",
    "- **likelihood function** : $\\xi(x_i) = \\Pi_{i=1}^n \\xi(x_i) = \\Pi_{i=1}^n \\pi(x_i)^{y_i}[1-\\pi(x_i)]^{1-y_i}]$\n",
    "    - Xs = {AGE, CAN, CPR, INF, RACE1, RACE2}, 6 variables and 7 different likelihood equations. (y=1 for STA, y=0 for not)\n",
    "\n",
    "- **log likelihood function** : $ln(\\xi(x_i)) = \\sum_{i=1}^n [ y_i ln(\\pi(x_i)) + (1-y_i) ln(1-\\pi(x_i))] $\n",
    "\n",
    "#### exercise 3d\n",
    "\n",
    "- **logistic regression model** : $\\pi(x) = \\frac{e^{-3.51152 + 0.02712*{AGE} + 0.24451*{CAN} + 1.64650*{CPR} + 0.68067*{INF} -0.95708*{RACE2} + 0.25975*{RACE3}}} {1 + e^{-3.51152 + 0.02712*{AGE} + 0.24451*{CAN} + 1.64650*{CPR} + 0.68067*{INF} -0.95708*{RACE2} + 0.25975*{RACE3}}}$\n",
    "- **logit transformation** : $g(x) = -3.51152 + 0.02712*{AGE} + 0.24451*{CAN} + 1.64650*{CPR} + 0.68067*{INF} -0.95708*{RACE2} + 0.25975*{RACE3}$"
   ]
  },
  {
   "cell_type": "markdown",
   "metadata": {},
   "source": [
    "### Exercise 4"
   ]
  },
  {
   "cell_type": "code",
   "execution_count": 20,
   "metadata": {
    "collapsed": true
   },
   "outputs": [
    {
     "name": "stdout",
     "output_type": "stream",
     "text": [
      "Optimization terminated successfully.\n",
      "         Current function value: 0.360585\n",
      "         Iterations 6\n"
     ]
    },
    {
     "data": {
      "text/html": [
       "<table class=\"simpletable\">\n",
       "<caption>Logit Regression Results</caption>\n",
       "<tr>\n",
       "  <th>Dep. Variable:</th>      <td>nas135</td>      <th>  No. Observations:  </th>  <td>   488</td>  \n",
       "</tr>\n",
       "<tr>\n",
       "  <th>Model:</th>               <td>Logit</td>      <th>  Df Residuals:      </th>  <td>   486</td>  \n",
       "</tr>\n",
       "<tr>\n",
       "  <th>Method:</th>               <td>MLE</td>       <th>  Df Model:          </th>  <td>     1</td>  \n",
       "</tr>\n",
       "<tr>\n",
       "  <th>Date:</th>          <td>Sun, 18 Oct 2015</td> <th>  Pseudo R-squ.:     </th>  <td>0.05293</td> \n",
       "</tr>\n",
       "<tr>\n",
       "  <th>Time:</th>              <td>22:25:04</td>     <th>  Log-Likelihood:    </th> <td> -175.97</td> \n",
       "</tr>\n",
       "<tr>\n",
       "  <th>converged:</th>           <td>True</td>       <th>  LL-Null:           </th> <td> -185.80</td> \n",
       "</tr>\n",
       "<tr>\n",
       "  <th> </th>                      <td> </td>        <th>  LLR p-value:       </th> <td>9.204e-06</td>\n",
       "</tr>\n",
       "</table>\n",
       "<table class=\"simpletable\">\n",
       "<tr>\n",
       "      <td></td>         <th>coef</th>     <th>std err</th>      <th>z</th>      <th>P>|z|</th> <th>[95.0% Conf. Int.]</th> \n",
       "</tr>\n",
       "<tr>\n",
       "  <th>Intercept</th> <td>   -2.4749</td> <td>    0.208</td> <td>  -11.884</td> <td> 0.000</td> <td>   -2.883    -2.067</td>\n",
       "</tr>\n",
       "<tr>\n",
       "  <th>female</th>    <td>    1.2260</td> <td>    0.280</td> <td>    4.386</td> <td> 0.000</td> <td>    0.678     1.774</td>\n",
       "</tr>\n",
       "</table>"
      ],
      "text/plain": [
       "<class 'statsmodels.iolib.summary.Summary'>\n",
       "\"\"\"\n",
       "                           Logit Regression Results                           \n",
       "==============================================================================\n",
       "Dep. Variable:                 nas135   No. Observations:                  488\n",
       "Model:                          Logit   Df Residuals:                      486\n",
       "Method:                           MLE   Df Model:                            1\n",
       "Date:                Sun, 18 Oct 2015   Pseudo R-squ.:                 0.05293\n",
       "Time:                        22:25:04   Log-Likelihood:                -175.97\n",
       "converged:                       True   LL-Null:                       -185.80\n",
       "                                        LLR p-value:                 9.204e-06\n",
       "==============================================================================\n",
       "                 coef    std err          z      P>|z|      [95.0% Conf. Int.]\n",
       "------------------------------------------------------------------------------\n",
       "Intercept     -2.4749      0.208    -11.884      0.000        -2.883    -2.067\n",
       "female         1.2260      0.280      4.386      0.000         0.678     1.774\n",
       "==============================================================================\n",
       "\"\"\""
      ]
     },
     "metadata": {},
     "output_type": "display_data"
    },
    {
     "name": "stdout",
     "output_type": "stream",
     "text": [
      "Optimization terminated successfully.\n",
      "         Current function value: 0.351723\n",
      "         Iterations 6\n"
     ]
    },
    {
     "data": {
      "text/html": [
       "<table class=\"simpletable\">\n",
       "<caption>Logit Regression Results</caption>\n",
       "<tr>\n",
       "  <th>Dep. Variable:</th>      <td>nas135</td>      <th>  No. Observations:  </th>  <td>   477</td>  \n",
       "</tr>\n",
       "<tr>\n",
       "  <th>Model:</th>               <td>Logit</td>      <th>  Df Residuals:      </th>  <td>   475</td>  \n",
       "</tr>\n",
       "<tr>\n",
       "  <th>Method:</th>               <td>MLE</td>       <th>  Df Model:          </th>  <td>     1</td>  \n",
       "</tr>\n",
       "<tr>\n",
       "  <th>Date:</th>          <td>Sun, 18 Oct 2015</td> <th>  Pseudo R-squ.:     </th>  <td>0.07025</td> \n",
       "</tr>\n",
       "<tr>\n",
       "  <th>Time:</th>              <td>22:25:04</td>     <th>  Log-Likelihood:    </th> <td> -167.77</td> \n",
       "</tr>\n",
       "<tr>\n",
       "  <th>converged:</th>           <td>True</td>       <th>  LL-Null:           </th> <td> -180.45</td> \n",
       "</tr>\n",
       "<tr>\n",
       "  <th> </th>                      <td> </td>        <th>  LLR p-value:       </th> <td>4.777e-07</td>\n",
       "</tr>\n",
       "</table>\n",
       "<table class=\"simpletable\">\n",
       "<tr>\n",
       "      <td></td>         <th>coef</th>     <th>std err</th>      <th>z</th>      <th>P>|z|</th> <th>[95.0% Conf. Int.]</th> \n",
       "</tr>\n",
       "<tr>\n",
       "  <th>Intercept</th> <td>   -5.5926</td> <td>    0.771</td> <td>   -7.251</td> <td> 0.000</td> <td>   -7.104    -4.081</td>\n",
       "</tr>\n",
       "<tr>\n",
       "  <th>runtime</th>   <td>    0.0155</td> <td>    0.003</td> <td>    5.015</td> <td> 0.000</td> <td>    0.009     0.022</td>\n",
       "</tr>\n",
       "</table>"
      ],
      "text/plain": [
       "<class 'statsmodels.iolib.summary.Summary'>\n",
       "\"\"\"\n",
       "                           Logit Regression Results                           \n",
       "==============================================================================\n",
       "Dep. Variable:                 nas135   No. Observations:                  477\n",
       "Model:                          Logit   Df Residuals:                      475\n",
       "Method:                           MLE   Df Model:                            1\n",
       "Date:                Sun, 18 Oct 2015   Pseudo R-squ.:                 0.07025\n",
       "Time:                        22:25:04   Log-Likelihood:                -167.77\n",
       "converged:                       True   LL-Null:                       -180.45\n",
       "                                        LLR p-value:                 4.777e-07\n",
       "==============================================================================\n",
       "                 coef    std err          z      P>|z|      [95.0% Conf. Int.]\n",
       "------------------------------------------------------------------------------\n",
       "Intercept     -5.5926      0.771     -7.251      0.000        -7.104    -4.081\n",
       "runtime        0.0155      0.003      5.015      0.000         0.009     0.022\n",
       "==============================================================================\n",
       "\"\"\""
      ]
     },
     "metadata": {},
     "output_type": "display_data"
    }
   ],
   "source": [
    "hypo = pd.read_csv('./data/hyponatremia.csv')\n",
    "hypolg = logit(formula='nas135 ~ female', data=hypo)\n",
    "hresult = hypolg.fit()\n",
    "display(hresult.summary())\n",
    "runlg = logit(formula='nas135 ~ runtime', data=hypo)\n",
    "display(runlg.fit().summary())"
   ]
  },
  {
   "cell_type": "markdown",
   "metadata": {},
   "source": [
    "#### exercise 4a\n",
    "\n",
    "$\\beta_0 = -2.4749, \\beta_{female} = 1.2260, \\> e^{1.2260} = 3.41 \\Rightarrow$ \n",
    "   - the (odds/log odds) of nas135 is (3.41%/1.22) times for female of that of male.\n",
    "\n",
    "#### exercise 4b\n",
    "\n",
    "$\\beta_{runtime} = 0.0155, \\> e^{0.0155} = 1.0156 \\Rightarrow$ \n",
    "   - the (odds/log odds) of nas135 increases by (1.0156%/0.0155) for every unit increase of runtime. \n",
    "   \n",
    "#### exercise 4c\n",
    "   - the `odds ratio` is the ratio of odds (nas135 y=1,0 | runtime x=1) to odds (nas135 y=1,0 | runtime x=0) (or odd increase of dependent for every unit increase of independent)\n",
    "       - OR = $\\frac { \\pi(1) \\> / \\> 1-\\pi(1) } { \\pi(0) \\> / \\> 1-\\pi(0) } = e^{\\beta_1} = e^{0.0155} = 1.0156 \\>$\n",
    "       - For every increase in runtime, the odds of nas136 increases by 1.0156%.\n",
    "    \n",
    "#### exercise 4d\n",
    "   - the -5.5926 is the log odds of nas136 of runner finishing marathon with 0 minute. This is impossible. The btter way would be to normalize runtime around it's average so the defualt intercept will correspond to runner of average finishing time.\n",
    "\n",
    "#### exercise 4e\n",
    "Odds ratio for runtime difference of 2 hours(120 minutes).\n",
    "   - OR = $e^{0.0155*120} = 6.42$\n",
    "   - 95% confidece interval: $[e^{0.009*120}, e^{0.022*120}] = [2.94, 14.01]$"
   ]
  },
  {
   "cell_type": "code",
   "execution_count": 21,
   "metadata": {
    "collapsed": true
   },
   "outputs": [
    {
     "name": "stdout",
     "output_type": "stream",
     "text": [
      "Optimization terminated successfully.\n",
      "         Current function value: 0.340125\n",
      "         Iterations 7\n"
     ]
    },
    {
     "data": {
      "text/html": [
       "<table class=\"simpletable\">\n",
       "<caption>Logit Regression Results</caption>\n",
       "<tr>\n",
       "  <th>Dep. Variable:</th>      <td>nas135</td>      <th>  No. Observations:  </th>  <td>   477</td>  \n",
       "</tr>\n",
       "<tr>\n",
       "  <th>Model:</th>               <td>Logit</td>      <th>  Df Residuals:      </th>  <td>   474</td>  \n",
       "</tr>\n",
       "<tr>\n",
       "  <th>Method:</th>               <td>MLE</td>       <th>  Df Model:          </th>  <td>     2</td>  \n",
       "</tr>\n",
       "<tr>\n",
       "  <th>Date:</th>          <td>Sun, 18 Oct 2015</td> <th>  Pseudo R-squ.:     </th>  <td>0.1009</td>  \n",
       "</tr>\n",
       "<tr>\n",
       "  <th>Time:</th>              <td>22:25:08</td>     <th>  Log-Likelihood:    </th> <td> -162.24</td> \n",
       "</tr>\n",
       "<tr>\n",
       "  <th>converged:</th>           <td>True</td>       <th>  LL-Null:           </th> <td> -180.45</td> \n",
       "</tr>\n",
       "<tr>\n",
       "  <th> </th>                      <td> </td>        <th>  LLR p-value:       </th> <td>1.237e-08</td>\n",
       "</tr>\n",
       "</table>\n",
       "<table class=\"simpletable\">\n",
       "<tr>\n",
       "      <td></td>         <th>coef</th>     <th>std err</th>      <th>z</th>      <th>P>|z|</th> <th>[95.0% Conf. Int.]</th> \n",
       "</tr>\n",
       "<tr>\n",
       "  <th>Intercept</th> <td>   -5.7211</td> <td>    0.823</td> <td>   -6.949</td> <td> 0.000</td> <td>   -7.335    -4.107</td>\n",
       "</tr>\n",
       "<tr>\n",
       "  <th>female</th>    <td>    0.9638</td> <td>    0.291</td> <td>    3.312</td> <td> 0.001</td> <td>    0.393     1.534</td>\n",
       "</tr>\n",
       "<tr>\n",
       "  <th>runtime</th>   <td>    0.0142</td> <td>    0.003</td> <td>    4.314</td> <td> 0.000</td> <td>    0.008     0.021</td>\n",
       "</tr>\n",
       "</table>"
      ],
      "text/plain": [
       "<class 'statsmodels.iolib.summary.Summary'>\n",
       "\"\"\"\n",
       "                           Logit Regression Results                           \n",
       "==============================================================================\n",
       "Dep. Variable:                 nas135   No. Observations:                  477\n",
       "Model:                          Logit   Df Residuals:                      474\n",
       "Method:                           MLE   Df Model:                            2\n",
       "Date:                Sun, 18 Oct 2015   Pseudo R-squ.:                  0.1009\n",
       "Time:                        22:25:08   Log-Likelihood:                -162.24\n",
       "converged:                       True   LL-Null:                       -180.45\n",
       "                                        LLR p-value:                 1.237e-08\n",
       "==============================================================================\n",
       "                 coef    std err          z      P>|z|      [95.0% Conf. Int.]\n",
       "------------------------------------------------------------------------------\n",
       "Intercept     -5.7211      0.823     -6.949      0.000        -7.335    -4.107\n",
       "female         0.9638      0.291      3.312      0.001         0.393     1.534\n",
       "runtime        0.0142      0.003      4.314      0.000         0.008     0.021\n",
       "==============================================================================\n",
       "\"\"\""
      ]
     },
     "metadata": {},
     "output_type": "display_data"
    }
   ],
   "source": [
    "hyporf = logit(formula='nas135 ~ female + runtime', data=hypo)\n",
    "display(hyporf.fit().summary())"
   ]
  },
  {
   "cell_type": "markdown",
   "metadata": {},
   "source": [
    "#### exercise 4f\n",
    "   - $\\beta_{female} = 0.9638, \\beta_{runtime} = 0.0142$\n",
    "   - Log odds of nas135 for female runner is 0.9638 times that of male's.\n",
    "   - Log odds of nas135 increases by 0.0142 for every minute increase of runtime.\n",
    "   \n",
    "#### exercise 4g\n",
    "   - Compared to coefficient of the female only model, $\\beta_{female}$ decreases by 21.39% (1.2260 to 0.9638)\n",
    "   \n",
    "#### exercise 4h\n",
    "   - Odds ratio of hyponatremia for female vs male: $e^{\\beta_1} = e^{0.9638} = 2.62 \\>$"
   ]
  },
  {
   "cell_type": "code",
   "execution_count": 22,
   "metadata": {
    "collapsed": true
   },
   "outputs": [
    {
     "data": {
      "text/plain": [
       "<matplotlib.axes._subplots.AxesSubplot at 0x10aa14250>"
      ]
     },
     "execution_count": 22,
     "metadata": {},
     "output_type": "execute_result"
    },
    {
     "data": {
      "image/png": "[encoded data removed]",
      "text/plain": [
       "<matplotlib.figure.Figure at 0x10aa14550>"
      ]
     },
     "metadata": {},
     "output_type": "display_data"
    }
   ],
   "source": [
    "subdf = pd.DataFrame(columns=['runtime','female'])\n",
    "subdf['runtime'] = hypo.runtime\n",
    "subdf['female'] = hypo.female\n",
    "subdf.boxplot(by='female')"
   ]
  },
  {
   "cell_type": "markdown",
   "metadata": {},
   "source": [
    "#### exercise 4i\n",
    "   - there is a positive association between `female` and `runtime` factor since `female` coefficient decreased upon introduction of `runtime` factor. Also becasue `female` coefficient changed(decreased) by almost 21%, and `runtime` also having positive relationship with `nas135`, we can conclude that `runtime` is a confounding factor here."
   ]
  },
  {
   "cell_type": "code",
   "execution_count": 24,
   "metadata": {
    "collapsed": true
   },
   "outputs": [
    {
     "name": "stdout",
     "output_type": "stream",
     "text": [
      "Optimization terminated successfully.\n",
      "         Current function value: 0.339935\n",
      "         Iterations 7\n"
     ]
    },
    {
     "data": {
      "text/html": [
       "<table class=\"simpletable\">\n",
       "<caption>Logit Regression Results</caption>\n",
       "<tr>\n",
       "  <th>Dep. Variable:</th>      <td>nas135</td>      <th>  No. Observations:  </th>  <td>   477</td>  \n",
       "</tr>\n",
       "<tr>\n",
       "  <th>Model:</th>               <td>Logit</td>      <th>  Df Residuals:      </th>  <td>   473</td>  \n",
       "</tr>\n",
       "<tr>\n",
       "  <th>Method:</th>               <td>MLE</td>       <th>  Df Model:          </th>  <td>     3</td>  \n",
       "</tr>\n",
       "<tr>\n",
       "  <th>Date:</th>          <td>Sun, 18 Oct 2015</td> <th>  Pseudo R-squ.:     </th>  <td>0.1014</td>  \n",
       "</tr>\n",
       "<tr>\n",
       "  <th>Time:</th>              <td>22:25:19</td>     <th>  Log-Likelihood:    </th> <td> -162.15</td> \n",
       "</tr>\n",
       "<tr>\n",
       "  <th>converged:</th>           <td>True</td>       <th>  LL-Null:           </th> <td> -180.45</td> \n",
       "</tr>\n",
       "<tr>\n",
       "  <th> </th>                      <td> </td>        <th>  LLR p-value:       </th> <td>5.597e-08</td>\n",
       "</tr>\n",
       "</table>\n",
       "<table class=\"simpletable\">\n",
       "<tr>\n",
       "         <td></td>           <th>coef</th>     <th>std err</th>      <th>z</th>      <th>P>|z|</th> <th>[95.0% Conf. Int.]</th> \n",
       "</tr>\n",
       "<tr>\n",
       "  <th>Intercept</th>      <td>   -6.0067</td> <td>    1.068</td> <td>   -5.626</td> <td> 0.000</td> <td>   -8.099    -3.914</td>\n",
       "</tr>\n",
       "<tr>\n",
       "  <th>female</th>         <td>    1.6644</td> <td>    1.666</td> <td>    0.999</td> <td> 0.318</td> <td>   -1.601     4.930</td>\n",
       "</tr>\n",
       "<tr>\n",
       "  <th>runtime</th>        <td>    0.0154</td> <td>    0.004</td> <td>    3.581</td> <td> 0.000</td> <td>    0.007     0.024</td>\n",
       "</tr>\n",
       "<tr>\n",
       "  <th>female:runtime</th> <td>   -0.0028</td> <td>    0.007</td> <td>   -0.427</td> <td> 0.669</td> <td>   -0.016     0.010</td>\n",
       "</tr>\n",
       "</table>"
      ],
      "text/plain": [
       "<class 'statsmodels.iolib.summary.Summary'>\n",
       "\"\"\"\n",
       "                           Logit Regression Results                           \n",
       "==============================================================================\n",
       "Dep. Variable:                 nas135   No. Observations:                  477\n",
       "Model:                          Logit   Df Residuals:                      473\n",
       "Method:                           MLE   Df Model:                            3\n",
       "Date:                Sun, 18 Oct 2015   Pseudo R-squ.:                  0.1014\n",
       "Time:                        22:25:19   Log-Likelihood:                -162.15\n",
       "converged:                       True   LL-Null:                       -180.45\n",
       "                                        LLR p-value:                 5.597e-08\n",
       "==================================================================================\n",
       "                     coef    std err          z      P>|z|      [95.0% Conf. Int.]\n",
       "----------------------------------------------------------------------------------\n",
       "Intercept         -6.0067      1.068     -5.626      0.000        -8.099    -3.914\n",
       "female             1.6644      1.666      0.999      0.318        -1.601     4.930\n",
       "runtime            0.0154      0.004      3.581      0.000         0.007     0.024\n",
       "female:runtime    -0.0028      0.007     -0.427      0.669        -0.016     0.010\n",
       "==================================================================================\n",
       "\"\"\""
      ]
     },
     "metadata": {},
     "output_type": "display_data"
    }
   ],
   "source": [
    "### exercise 4i\n",
    "hypo = pd.read_csv('./data/hyponatremia.csv')\n",
    "ilg = logit(formula='nas135 ~ female*runtime', data=hypo)\n",
    "iresult = ilg.fit()\n",
    "display(iresult.summary())"
   ]
  },
  {
   "cell_type": "markdown",
   "metadata": {},
   "source": [
    "#### exercise 4j: assess interaction between `female` and `runtime`\n",
    "   - interaction `female vs runtime` of -0.0028 has p-value of non-significant 0.669 > (0.05 95%), thus no interactions."
   ]
  },
  {
   "cell_type": "code",
   "execution_count": 25,
   "metadata": {
    "collapsed": true
   },
   "outputs": [
    {
     "name": "stdout",
     "output_type": "stream",
     "text": [
      "Optimization terminated successfully.\n",
      "         Current function value: 0.339935\n",
      "         Iterations 7\n"
     ]
    },
    {
     "data": {
      "text/html": [
       "<table class=\"simpletable\">\n",
       "<caption>Logit Regression Results</caption>\n",
       "<tr>\n",
       "  <th>Dep. Variable:</th>      <td>nas135</td>      <th>  No. Observations:  </th>  <td>   477</td>  \n",
       "</tr>\n",
       "<tr>\n",
       "  <th>Model:</th>               <td>Logit</td>      <th>  Df Residuals:      </th>  <td>   473</td>  \n",
       "</tr>\n",
       "<tr>\n",
       "  <th>Method:</th>               <td>MLE</td>       <th>  Df Model:          </th>  <td>     3</td>  \n",
       "</tr>\n",
       "<tr>\n",
       "  <th>Date:</th>          <td>Sun, 18 Oct 2015</td> <th>  Pseudo R-squ.:     </th>  <td>0.1014</td>  \n",
       "</tr>\n",
       "<tr>\n",
       "  <th>Time:</th>              <td>22:25:26</td>     <th>  Log-Likelihood:    </th> <td> -162.15</td> \n",
       "</tr>\n",
       "<tr>\n",
       "  <th>converged:</th>           <td>True</td>       <th>  LL-Null:           </th> <td> -180.45</td> \n",
       "</tr>\n",
       "<tr>\n",
       "  <th> </th>                      <td> </td>        <th>  LLR p-value:       </th> <td>5.597e-08</td>\n",
       "</tr>\n",
       "</table>\n",
       "<table class=\"simpletable\">\n",
       "<tr>\n",
       "         <td></td>           <th>coef</th>     <th>std err</th>      <th>z</th>      <th>P>|z|</th> <th>[95.0% Conf. Int.]</th> \n",
       "</tr>\n",
       "<tr>\n",
       "  <th>Intercept</th>      <td>   -6.0067</td> <td>    1.068</td> <td>   -5.626</td> <td> 0.000</td> <td>   -8.099    -3.914</td>\n",
       "</tr>\n",
       "<tr>\n",
       "  <th>female</th>         <td>    1.6644</td> <td>    1.666</td> <td>    0.999</td> <td> 0.318</td> <td>   -1.601     4.930</td>\n",
       "</tr>\n",
       "<tr>\n",
       "  <th>runtime</th>        <td>    0.0154</td> <td>    0.004</td> <td>    3.581</td> <td> 0.000</td> <td>    0.007     0.024</td>\n",
       "</tr>\n",
       "<tr>\n",
       "  <th>female:runtime</th> <td>   -0.0028</td> <td>    0.007</td> <td>   -0.427</td> <td> 0.669</td> <td>   -0.016     0.010</td>\n",
       "</tr>\n",
       "</table>"
      ],
      "text/plain": [
       "<class 'statsmodels.iolib.summary.Summary'>\n",
       "\"\"\"\n",
       "                           Logit Regression Results                           \n",
       "==============================================================================\n",
       "Dep. Variable:                 nas135   No. Observations:                  477\n",
       "Model:                          Logit   Df Residuals:                      473\n",
       "Method:                           MLE   Df Model:                            3\n",
       "Date:                Sun, 18 Oct 2015   Pseudo R-squ.:                  0.1014\n",
       "Time:                        22:25:26   Log-Likelihood:                -162.15\n",
       "converged:                       True   LL-Null:                       -180.45\n",
       "                                        LLR p-value:                 5.597e-08\n",
       "==================================================================================\n",
       "                     coef    std err          z      P>|z|      [95.0% Conf. Int.]\n",
       "----------------------------------------------------------------------------------\n",
       "Intercept         -6.0067      1.068     -5.626      0.000        -8.099    -3.914\n",
       "female             1.6644      1.666      0.999      0.318        -1.601     4.930\n",
       "runtime            0.0154      0.004      3.581      0.000         0.007     0.024\n",
       "female:runtime    -0.0028      0.007     -0.427      0.669        -0.016     0.010\n",
       "==================================================================================\n",
       "\"\"\""
      ]
     },
     "metadata": {},
     "output_type": "display_data"
    }
   ],
   "source": [
    "### exercise 4j\n",
    "hypo = pd.read_csv('./data/hyponatremia.csv')\n",
    "ilg = logit(formula='nas135 ~ female*runtime', data=hypo)\n",
    "iresult = ilg.fit()\n",
    "display(iresult.summary())"
   ]
  },
  {
   "cell_type": "markdown",
   "metadata": {},
   "source": [
    "#### exercise 4k: introduce variable `wtidiff(1 or 0)` to the model.\n",
    "   - interaction of `female` vs `wgain` of -1.0959 has p-value of 0.074, this could be deemed either way depending on the confidence interval. (0.074 > 0.1 90% confidence interval thus significant)"
   ]
  },
  {
   "cell_type": "code",
   "execution_count": 26,
   "metadata": {
    "collapsed": true
   },
   "outputs": [
    {
     "name": "stdout",
     "output_type": "stream",
     "text": [
      "Optimization terminated successfully.\n",
      "         Current function value: 0.308133\n",
      "         Iterations 8\n"
     ]
    },
    {
     "data": {
      "text/html": [
       "<table class=\"simpletable\">\n",
       "<caption>Logit Regression Results</caption>\n",
       "<tr>\n",
       "  <th>Dep. Variable:</th>      <td>nas135</td>      <th>  No. Observations:  </th>  <td>   477</td>  \n",
       "</tr>\n",
       "<tr>\n",
       "  <th>Model:</th>               <td>Logit</td>      <th>  Df Residuals:      </th>  <td>   472</td>  \n",
       "</tr>\n",
       "<tr>\n",
       "  <th>Method:</th>               <td>MLE</td>       <th>  Df Model:          </th>  <td>     4</td>  \n",
       "</tr>\n",
       "<tr>\n",
       "  <th>Date:</th>          <td>Sun, 18 Oct 2015</td> <th>  Pseudo R-squ.:     </th>  <td>0.1855</td>  \n",
       "</tr>\n",
       "<tr>\n",
       "  <th>Time:</th>              <td>22:25:33</td>     <th>  Log-Likelihood:    </th> <td> -146.98</td> \n",
       "</tr>\n",
       "<tr>\n",
       "  <th>converged:</th>           <td>True</td>       <th>  LL-Null:           </th> <td> -180.45</td> \n",
       "</tr>\n",
       "<tr>\n",
       "  <th> </th>                      <td> </td>        <th>  LLR p-value:       </th> <td>1.005e-13</td>\n",
       "</tr>\n",
       "</table>\n",
       "<table class=\"simpletable\">\n",
       "<tr>\n",
       "        <td></td>          <th>coef</th>     <th>std err</th>      <th>z</th>      <th>P>|z|</th> <th>[95.0% Conf. Int.]</th> \n",
       "</tr>\n",
       "<tr>\n",
       "  <th>Intercept</th>    <td>   -6.7655</td> <td>    0.964</td> <td>   -7.020</td> <td> 0.000</td> <td>   -8.654    -4.877</td>\n",
       "</tr>\n",
       "<tr>\n",
       "  <th>female</th>       <td>    1.4143</td> <td>    0.465</td> <td>    3.039</td> <td> 0.002</td> <td>    0.502     2.326</td>\n",
       "</tr>\n",
       "<tr>\n",
       "  <th>wgain</th>        <td>    2.1553</td> <td>    0.464</td> <td>    4.648</td> <td> 0.000</td> <td>    1.246     3.064</td>\n",
       "</tr>\n",
       "<tr>\n",
       "  <th>female:wgain</th> <td>   -1.0959</td> <td>    0.614</td> <td>   -1.785</td> <td> 0.074</td> <td>   -2.299     0.107</td>\n",
       "</tr>\n",
       "<tr>\n",
       "  <th>runtime</th>      <td>    0.0147</td> <td>    0.004</td> <td>    4.066</td> <td> 0.000</td> <td>    0.008     0.022</td>\n",
       "</tr>\n",
       "</table>"
      ],
      "text/plain": [
       "<class 'statsmodels.iolib.summary.Summary'>\n",
       "\"\"\"\n",
       "                           Logit Regression Results                           \n",
       "==============================================================================\n",
       "Dep. Variable:                 nas135   No. Observations:                  477\n",
       "Model:                          Logit   Df Residuals:                      472\n",
       "Method:                           MLE   Df Model:                            4\n",
       "Date:                Sun, 18 Oct 2015   Pseudo R-squ.:                  0.1855\n",
       "Time:                        22:25:33   Log-Likelihood:                -146.98\n",
       "converged:                       True   LL-Null:                       -180.45\n",
       "                                        LLR p-value:                 1.005e-13\n",
       "================================================================================\n",
       "                   coef    std err          z      P>|z|      [95.0% Conf. Int.]\n",
       "--------------------------------------------------------------------------------\n",
       "Intercept       -6.7655      0.964     -7.020      0.000        -8.654    -4.877\n",
       "female           1.4143      0.465      3.039      0.002         0.502     2.326\n",
       "wgain            2.1553      0.464      4.648      0.000         1.246     3.064\n",
       "female:wgain    -1.0959      0.614     -1.785      0.074        -2.299     0.107\n",
       "runtime          0.0147      0.004      4.066      0.000         0.008     0.022\n",
       "================================================================================\n",
       "\"\"\""
      ]
     },
     "metadata": {},
     "output_type": "display_data"
    }
   ],
   "source": [
    "### exercise 4j\n",
    "hypo = pd.read_csv('./data/hyponatremia.csv')\n",
    "hypo['wgain'] = hypo['wtdiff'].map(lambda x: 0 if x <= 0 or np.isnan(x) else 1)\n",
    "klg = logit(formula='nas135 ~ female*wgain + runtime', data=hypo)\n",
    "kresult = klg.fit()\n",
    "display(kresult.summary())"
   ]
  },
  {
   "cell_type": "markdown",
   "metadata": {},
   "source": [
    "#### exercise 4l: odds ratio of `nas135` on `wgain` for male / female.\n",
    "   - **logit**: $\\beta_0 + \\beta_{1female} + \\beta_{2wgain} + \\beta_{3female*wgain} + \\beta_{4runtime}$\n",
    "   - for male(wgain(1,0), female(0)): $(\\beta_0 + \\beta_2 + \\beta_4) - (\\beta_0 + \\beta_4) = \\beta_2 \\Rightarrow e^{\\beta_2=2.1553} = 8.63$\n",
    "       - for males, odds of `nas135` is 8.63 times greater who gained weights vs not gained weights\n",
    "   - for female(wgain(1,0), female(1)): $(\\beta_0 + \\beta_1 + \\beta_2 + \\beta_3 + \\beta_4) - (\\beta_0 + \\beta_1 + \\beta_4) = \\beta_2 + \\beta_3 = 2.1533 - 1.0959 = 2.88$\n",
    "       - for females, odds of `nas135` is 2.88 times greater who gained weights vs not gained weights\n",
    "   - **logit transformation** : $g(x) = ln(\\frac{\\pi(x)} {1-\\pi(x)}) = ln(e^{\\beta_0 + \\beta_1{AGE} + \\beta_2{CAN} + \\beta_3{CPR} + \\beta_4{INF} + \\beta5{RACE2} + \\beta6{RACE3}}) = \\beta_0 + \\beta_1{AGE} + \\beta_2{CAN} + \\beta_3{CPR} + \\beta_4{INF} + \\beta5{RACE2} + \\beta6{RACE3}$\n"
   ]
  },
  {
   "cell_type": "markdown",
   "metadata": {},
   "source": [
    "#### exercise 4l\n",
    "   - there is a positive association between `female` and `runtime` factor since `female` coefficient decreased upon introduction of `runtime` factor. Also becasue `female` coefficient changed(decreased) by almost 21%, and `runtime` also having positive relationship with `nas135`, we can conclude that `runtime` is a confounding factor here."
   ]
  },
  {
   "cell_type": "code",
   "execution_count": 27,
   "metadata": {
    "collapsed": true
   },
   "outputs": [
    {
     "name": "stdout",
     "output_type": "stream",
     "text": [
      "Optimization terminated successfully.\n",
      "         Current function value: 0.349614\n",
      "         Iterations 7\n"
     ]
    },
    {
     "data": {
      "text/html": [
       "<table class=\"simpletable\">\n",
       "<caption>Logit Regression Results</caption>\n",
       "<tr>\n",
       "  <th>Dep. Variable:</th>      <td>nas135</td>      <th>  No. Observations:  </th>  <td>   488</td>  \n",
       "</tr>\n",
       "<tr>\n",
       "  <th>Model:</th>               <td>Logit</td>      <th>  Df Residuals:      </th>  <td>   485</td>  \n",
       "</tr>\n",
       "<tr>\n",
       "  <th>Method:</th>               <td>MLE</td>       <th>  Df Model:          </th>  <td>     2</td>  \n",
       "</tr>\n",
       "<tr>\n",
       "  <th>Date:</th>          <td>Sun, 18 Oct 2015</td> <th>  Pseudo R-squ.:     </th>  <td>0.08175</td> \n",
       "</tr>\n",
       "<tr>\n",
       "  <th>Time:</th>              <td>22:25:38</td>     <th>  Log-Likelihood:    </th> <td> -170.61</td> \n",
       "</tr>\n",
       "<tr>\n",
       "  <th>converged:</th>           <td>True</td>       <th>  LL-Null:           </th> <td> -185.80</td> \n",
       "</tr>\n",
       "<tr>\n",
       "  <th> </th>                      <td> </td>        <th>  LLR p-value:       </th> <td>2.533e-07</td>\n",
       "</tr>\n",
       "</table>\n",
       "<table class=\"simpletable\">\n",
       "<tr>\n",
       "      <td></td>         <th>coef</th>     <th>std err</th>      <th>z</th>      <th>P>|z|</th> <th>[95.0% Conf. Int.]</th> \n",
       "</tr>\n",
       "<tr>\n",
       "  <th>Intercept</th> <td>   -4.6055</td> <td>    0.744</td> <td>   -6.193</td> <td> 0.000</td> <td>   -6.063    -3.148</td>\n",
       "</tr>\n",
       "<tr>\n",
       "  <th>female</th>    <td>    1.0834</td> <td>    0.285</td> <td>    3.795</td> <td> 0.000</td> <td>    0.524     1.643</td>\n",
       "</tr>\n",
       "<tr>\n",
       "  <th>runtime</th>   <td>    0.0095</td> <td>    0.003</td> <td>    3.104</td> <td> 0.002</td> <td>    0.004     0.016</td>\n",
       "</tr>\n",
       "</table>"
      ],
      "text/plain": [
       "<class 'statsmodels.iolib.summary.Summary'>\n",
       "\"\"\"\n",
       "                           Logit Regression Results                           \n",
       "==============================================================================\n",
       "Dep. Variable:                 nas135   No. Observations:                  488\n",
       "Model:                          Logit   Df Residuals:                      485\n",
       "Method:                           MLE   Df Model:                            2\n",
       "Date:                Sun, 18 Oct 2015   Pseudo R-squ.:                 0.08175\n",
       "Time:                        22:25:38   Log-Likelihood:                -170.61\n",
       "converged:                       True   LL-Null:                       -185.80\n",
       "                                        LLR p-value:                 2.533e-07\n",
       "==============================================================================\n",
       "                 coef    std err          z      P>|z|      [95.0% Conf. Int.]\n",
       "------------------------------------------------------------------------------\n",
       "Intercept     -4.6055      0.744     -6.193      0.000        -6.063    -3.148\n",
       "female         1.0834      0.285      3.795      0.000         0.524     1.643\n",
       "runtime        0.0095      0.003      3.104      0.002         0.004     0.016\n",
       "==============================================================================\n",
       "\"\"\""
      ]
     },
     "metadata": {},
     "output_type": "display_data"
    },
    {
     "name": "stdout",
     "output_type": "stream",
     "text": [
      "Optimization terminated successfully.\n",
      "         Current function value: 0.310751\n",
      "         Iterations 7\n"
     ]
    },
    {
     "data": {
      "text/html": [
       "<table class=\"simpletable\">\n",
       "<caption>Logit Regression Results</caption>\n",
       "<tr>\n",
       "  <th>Dep. Variable:</th>      <td>nas135</td>      <th>  No. Observations:  </th>  <td>   488</td>  \n",
       "</tr>\n",
       "<tr>\n",
       "  <th>Model:</th>               <td>Logit</td>      <th>  Df Residuals:      </th>  <td>   482</td>  \n",
       "</tr>\n",
       "<tr>\n",
       "  <th>Method:</th>               <td>MLE</td>       <th>  Df Model:          </th>  <td>     5</td>  \n",
       "</tr>\n",
       "<tr>\n",
       "  <th>Date:</th>          <td>Sun, 18 Oct 2015</td> <th>  Pseudo R-squ.:     </th>  <td>0.1838</td>  \n",
       "</tr>\n",
       "<tr>\n",
       "  <th>Time:</th>              <td>22:25:38</td>     <th>  Log-Likelihood:    </th> <td> -151.65</td> \n",
       "</tr>\n",
       "<tr>\n",
       "  <th>converged:</th>           <td>True</td>       <th>  LL-Null:           </th> <td> -185.80</td> \n",
       "</tr>\n",
       "<tr>\n",
       "  <th> </th>                      <td> </td>        <th>  LLR p-value:       </th> <td>2.305e-13</td>\n",
       "</tr>\n",
       "</table>\n",
       "<table class=\"simpletable\">\n",
       "<tr>\n",
       "      <td></td>         <th>coef</th>     <th>std err</th>      <th>z</th>      <th>P>|z|</th> <th>[95.0% Conf. Int.]</th> \n",
       "</tr>\n",
       "<tr>\n",
       "  <th>Intercept</th> <td>   -6.0762</td> <td>    0.967</td> <td>   -6.286</td> <td> 0.000</td> <td>   -7.971    -4.181</td>\n",
       "</tr>\n",
       "<tr>\n",
       "  <th>female</th>    <td>    1.1366</td> <td>    0.315</td> <td>    3.607</td> <td> 0.000</td> <td>    0.519     1.754</td>\n",
       "</tr>\n",
       "<tr>\n",
       "  <th>runtime</th>   <td>    0.0080</td> <td>    0.003</td> <td>    2.466</td> <td> 0.014</td> <td>    0.002     0.014</td>\n",
       "</tr>\n",
       "<tr>\n",
       "  <th>wgain</th>     <td>    1.7475</td> <td>    0.313</td> <td>    5.580</td> <td> 0.000</td> <td>    1.134     2.361</td>\n",
       "</tr>\n",
       "<tr>\n",
       "  <th>urinat3p</th>  <td>    0.8557</td> <td>    0.523</td> <td>    1.637</td> <td> 0.102</td> <td>   -0.169     1.880</td>\n",
       "</tr>\n",
       "<tr>\n",
       "  <th>bmi</th>       <td>    0.0400</td> <td>    0.032</td> <td>    1.266</td> <td> 0.206</td> <td>   -0.022     0.102</td>\n",
       "</tr>\n",
       "</table>"
      ],
      "text/plain": [
       "<class 'statsmodels.iolib.summary.Summary'>\n",
       "\"\"\"\n",
       "                           Logit Regression Results                           \n",
       "==============================================================================\n",
       "Dep. Variable:                 nas135   No. Observations:                  488\n",
       "Model:                          Logit   Df Residuals:                      482\n",
       "Method:                           MLE   Df Model:                            5\n",
       "Date:                Sun, 18 Oct 2015   Pseudo R-squ.:                  0.1838\n",
       "Time:                        22:25:38   Log-Likelihood:                -151.65\n",
       "converged:                       True   LL-Null:                       -185.80\n",
       "                                        LLR p-value:                 2.305e-13\n",
       "==============================================================================\n",
       "                 coef    std err          z      P>|z|      [95.0% Conf. Int.]\n",
       "------------------------------------------------------------------------------\n",
       "Intercept     -6.0762      0.967     -6.286      0.000        -7.971    -4.181\n",
       "female         1.1366      0.315      3.607      0.000         0.519     1.754\n",
       "runtime        0.0080      0.003      2.466      0.014         0.002     0.014\n",
       "wgain          1.7475      0.313      5.580      0.000         1.134     2.361\n",
       "urinat3p       0.8557      0.523      1.637      0.102        -0.169     1.880\n",
       "bmi            0.0400      0.032      1.266      0.206        -0.022     0.102\n",
       "==============================================================================\n",
       "\"\"\""
      ]
     },
     "metadata": {},
     "output_type": "display_data"
    }
   ],
   "source": [
    "### exercise 4m\n",
    "hypo = pd.read_csv('./data/hyponatremia.csv')\n",
    "hypo['wgain'] = hypo['wtdiff'].map(lambda x: 0 if x <= 0 else 1)\n",
    "hypo.fillna(0, inplace=True)\n",
    "# display(hypo)\n",
    "lg1 = logit(formula='nas135 ~ female + runtime', data=hypo)\n",
    "display(lg1.fit().summary())\n",
    "lg2 = logit(formula='nas135 ~ female + runtime + wgain + urinat3p + bmi', data=hypo)\n",
    "display(lg2.fit().summary())"
   ]
  },
  {
   "cell_type": "markdown",
   "metadata": {},
   "source": [
    "#### exercise 4m: likelihood ratio test for models: `female runtime` vs `female runtime wgain urinat3p bmi`.\n",
    "   - difference in # of features is 3 (degrees of freedom)\n",
    "   - likelihood ratio test??"
   ]
  }
 ],
 "metadata": {
  "celltoolbar": "Raw Cell Format",
  "kernelspec": {
   "display_name": "Python 2",
   "language": "python",
   "name": "python2"
  },
  "language_info": {
   "codemirror_mode": {
    "name": "ipython",
    "version": 2
   },
   "file_extension": ".py",
   "mimetype": "text/x-python",
   "name": "python",
   "nbconvert_exporter": "python",
   "pygments_lexer": "ipython2",
   "version": "2.7.8"
  }
 },
 "nbformat": 4,
 "nbformat_minor": 0
}
