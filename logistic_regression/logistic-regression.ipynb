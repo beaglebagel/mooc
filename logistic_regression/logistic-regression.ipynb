{
 "cells": [
  {
   "cell_type": "code",
   "execution_count": 2,
   "metadata": {
    "collapsed": false
   },
   "outputs": [
    {
     "name": "stdout",
     "output_type": "stream",
     "text": [
      "The rmagic extension is already loaded. To reload it, use:\n",
      "  %reload_ext rmagic\n",
      "import finished\n"
     ]
    }
   ],
   "source": [
    "%matplotlib inline\n",
    "%load_ext rmagic\n",
    "# %load_ext rpy2.ipython\n",
    "import math\n",
    "import pandas as pd\n",
    "import numpy as np\n",
    "import matplotlib.pyplot as plt\n",
    "import statsmodels.api as sm\n",
    "from sklearn.linear_model import LogisticRegression\n",
    "from statsmodels.formula.api import logit\n",
    "\n",
    "from IPython.display import display\n",
    "from IPython.display import HTML\n",
    "\n",
    "print 'import finished'"
   ]
  },
  {
   "cell_type": "markdown",
   "metadata": {},
   "source": [
    "# Week1 Homework"
   ]
  },
  {
   "cell_type": "markdown",
   "metadata": {},
   "source": [
    "### Exercise 1"
   ]
  },
  {
   "cell_type": "code",
   "execution_count": 3,
   "metadata": {
    "collapsed": false
   },
   "outputs": [
    {
     "data": {
      "text/html": [
       "<div style=\"max-height:1000px;max-width:1500px;overflow:auto;\">\n",
       "<table border=\"1\" class=\"dataframe\">\n",
       "  <thead>\n",
       "    <tr style=\"text-align: right;\">\n",
       "      <th></th>\n",
       "      <th>ID</th>\n",
       "      <th>STUDYYEAR</th>\n",
       "      <th>MYOPIC</th>\n",
       "      <th>AGE</th>\n",
       "      <th>GENDER</th>\n",
       "      <th>SPHEQ</th>\n",
       "      <th>AL</th>\n",
       "      <th>ACD</th>\n",
       "      <th>LT</th>\n",
       "      <th>VCD</th>\n",
       "      <th>SPORTHR</th>\n",
       "      <th>READHR</th>\n",
       "      <th>COMPHR</th>\n",
       "      <th>STUDYHR</th>\n",
       "      <th>TVHR</th>\n",
       "      <th>DIOPTERHR</th>\n",
       "      <th>MOMMY</th>\n",
       "      <th>DADMY</th>\n",
       "    </tr>\n",
       "  </thead>\n",
       "  <tbody>\n",
       "    <tr>\n",
       "      <th>0</th>\n",
       "      <td>1</td>\n",
       "      <td>1992</td>\n",
       "      <td>1</td>\n",
       "      <td>6</td>\n",
       "      <td>1</td>\n",
       "      <td>-0.052</td>\n",
       "      <td>21.889999</td>\n",
       "      <td>3.690</td>\n",
       "      <td>3.498</td>\n",
       "      <td>14.70</td>\n",
       "      <td>45</td>\n",
       "      <td>8</td>\n",
       "      <td>0</td>\n",
       "      <td>0</td>\n",
       "      <td>10</td>\n",
       "      <td>34</td>\n",
       "      <td>1</td>\n",
       "      <td>1</td>\n",
       "    </tr>\n",
       "    <tr>\n",
       "      <th>1</th>\n",
       "      <td>2</td>\n",
       "      <td>1995</td>\n",
       "      <td>0</td>\n",
       "      <td>6</td>\n",
       "      <td>1</td>\n",
       "      <td>0.608</td>\n",
       "      <td>22.379999</td>\n",
       "      <td>3.702</td>\n",
       "      <td>3.392</td>\n",
       "      <td>15.29</td>\n",
       "      <td>4</td>\n",
       "      <td>0</td>\n",
       "      <td>1</td>\n",
       "      <td>1</td>\n",
       "      <td>7</td>\n",
       "      <td>12</td>\n",
       "      <td>1</td>\n",
       "      <td>1</td>\n",
       "    </tr>\n",
       "    <tr>\n",
       "      <th>2</th>\n",
       "      <td>3</td>\n",
       "      <td>1991</td>\n",
       "      <td>0</td>\n",
       "      <td>6</td>\n",
       "      <td>1</td>\n",
       "      <td>1.179</td>\n",
       "      <td>22.490000</td>\n",
       "      <td>3.462</td>\n",
       "      <td>3.514</td>\n",
       "      <td>15.52</td>\n",
       "      <td>14</td>\n",
       "      <td>0</td>\n",
       "      <td>2</td>\n",
       "      <td>0</td>\n",
       "      <td>10</td>\n",
       "      <td>14</td>\n",
       "      <td>0</td>\n",
       "      <td>0</td>\n",
       "    </tr>\n",
       "    <tr>\n",
       "      <th>3</th>\n",
       "      <td>4</td>\n",
       "      <td>1990</td>\n",
       "      <td>1</td>\n",
       "      <td>6</td>\n",
       "      <td>1</td>\n",
       "      <td>0.525</td>\n",
       "      <td>22.200001</td>\n",
       "      <td>3.862</td>\n",
       "      <td>3.612</td>\n",
       "      <td>14.73</td>\n",
       "      <td>18</td>\n",
       "      <td>11</td>\n",
       "      <td>0</td>\n",
       "      <td>0</td>\n",
       "      <td>4</td>\n",
       "      <td>37</td>\n",
       "      <td>0</td>\n",
       "      <td>1</td>\n",
       "    </tr>\n",
       "    <tr>\n",
       "      <th>4</th>\n",
       "      <td>5</td>\n",
       "      <td>1995</td>\n",
       "      <td>0</td>\n",
       "      <td>5</td>\n",
       "      <td>0</td>\n",
       "      <td>0.697</td>\n",
       "      <td>23.290001</td>\n",
       "      <td>3.676</td>\n",
       "      <td>3.454</td>\n",
       "      <td>16.16</td>\n",
       "      <td>14</td>\n",
       "      <td>0</td>\n",
       "      <td>0</td>\n",
       "      <td>0</td>\n",
       "      <td>4</td>\n",
       "      <td>4</td>\n",
       "      <td>1</td>\n",
       "      <td>0</td>\n",
       "    </tr>\n",
       "  </tbody>\n",
       "</table>\n",
       "</div>"
      ],
      "text/plain": [
       "   ID  STUDYYEAR  MYOPIC  AGE  GENDER  SPHEQ         AL    ACD     LT    VCD  \\\n",
       "0   1       1992       1    6       1 -0.052  21.889999  3.690  3.498  14.70   \n",
       "1   2       1995       0    6       1  0.608  22.379999  3.702  3.392  15.29   \n",
       "2   3       1991       0    6       1  1.179  22.490000  3.462  3.514  15.52   \n",
       "3   4       1990       1    6       1  0.525  22.200001  3.862  3.612  14.73   \n",
       "4   5       1995       0    5       0  0.697  23.290001  3.676  3.454  16.16   \n",
       "\n",
       "   SPORTHR  READHR  COMPHR  STUDYHR  TVHR  DIOPTERHR  MOMMY  DADMY  \n",
       "0       45       8       0        0    10         34      1      1  \n",
       "1        4       0       1        1     7         12      1      1  \n",
       "2       14       0       2        0    10         14      0      0  \n",
       "3       18      11       0        0     4         37      0      1  \n",
       "4       14       0       0        0     4          4      1      0  "
      ]
     },
     "metadata": {},
     "output_type": "display_data"
    }
   ],
   "source": [
    "myopia = pd.read_csv('./data/MYOPIA-fixed.csv')\n",
    "display(myopia.head(5))\n",
    "# print 'myopic 0', len(table[table['MYOPIC'] == 0])\n",
    "# print 'myopic 1', len(table[table['MYOPIC'] == 1])\n",
    "# print table.columns\n",
    "# print table[['MYOPIC', 'SPHEQ']]"
   ]
  },
  {
   "cell_type": "markdown",
   "metadata": {},
   "source": [
    "#### Exercise 1a\n",
    "- replace x with SPHEQ\n",
    "- **logistic regression model** : $\\pi(x) = \\frac{e^{\\beta_0 + \\beta_1x}} {1 + e^{\\beta_0 + \\beta_1x}}$, \n",
    "$1 - \\pi(x) = \\frac{1}{1 + e^{\\beta_0 + \\beta_1x}}$\n",
    "\n",
    "- **logit transformation** : $g(x) = ln(\\frac{\\pi(x)} {1-\\pi(x)}) = ln(e^{\\beta_0 + \\beta_1x}) = \\beta_0 + \\beta_1x$\n",
    "\n",
    "- the values of outcome variable (MYOPIC) are binary which is discrete and not continuous, thus logistic model is more suitable than linear regression model."
   ]
  },
  {
   "cell_type": "markdown",
   "metadata": {},
   "source": [
    "#### Exercise 1b"
   ]
  },
  {
   "cell_type": "code",
   "execution_count": 7,
   "metadata": {
    "collapsed": true
   },
   "outputs": [
    {
     "data": {
      "image/png": "[encoded data removed]",
      "text/plain": [
       "<matplotlib.figure.Figure at 0x10a1d2810>"
      ]
     },
     "metadata": {},
     "output_type": "display_data"
    }
   ],
   "source": [
    "sub = plt.subplot()\n",
    "sub.scatter(x=myopia['SPHEQ'], y=myopia['MYOPIC'])\n",
    "sub.set_xlabel('SPHEQ')\n",
    "sub.set_ylabel('MYOPIC')\n",
    "sub.set_title('MYOPIC vs SPHEQ')\n",
    "sub.grid(True)\n",
    "plt.show()"
   ]
  },
  {
   "cell_type": "markdown",
   "metadata": {},
   "source": [
    "#### Exercise 1c\n",
    "likelihood / log-likelihood function, n=618, (y=1 for 81, y=0 for 537)\n",
    "\n",
    "- **likelihood function** : $\\xi(x_i) = \\Pi_{i=1}^n \\xi(x_i) = \\Pi_{i=1}^n \\pi(x_i)^{y_i}[1-\\pi(x_i)]^{1-y_i}]$\n",
    "\n",
    "- **log likelihood function** : $ln(\\xi(x_i)) = \\sum_{i=1}^n [ y_i ln(\\pi(x_i)) + (1-y_i) ln(1-\\pi(x_i))] $"
   ]
  },
  {
   "cell_type": "markdown",
   "metadata": {},
   "source": [
    "#### Exercise 1d\n",
    "- **logit estimation**: $\\pi(x) = \\frac{e^{0.054 - 3.8331x}} {1 + e^{0.054 - 3.8331x}}$\n",
    "- **logit estimation log**: $lg(\\pi(x)) = 0.054\\beta_0 - 3.8331\\beta_1x$"
   ]
  },
  {
   "cell_type": "code",
   "execution_count": 8,
   "metadata": {
    "collapsed": false
   },
   "outputs": [
    {
     "name": "stdout",
     "output_type": "stream",
     "text": [
      "Optimization terminated successfully.\n",
      "         Current function value: 0.272933\n",
      "         Iterations 8\n"
     ]
    },
    {
     "data": {
      "image/png": "[encoded data removed]",
      "text/plain": [
       "<matplotlib.figure.Figure at 0x109ec00d0>"
      ]
     },
     "metadata": {},
     "output_type": "display_data"
    }
   ],
   "source": [
    "lg = logit(formula = 'MYOPIC ~ SPHEQ', data=myopia)\n",
    "result = lg.fit()\n",
    "# print result.summary()\n",
    "intercept, SPHEQ = result.params['Intercept'], result.params['SPHEQ']\n",
    "\n",
    "numerator = np.exp(intercept + SPHEQ * myopia.SPHEQ)\n",
    "sub = plt.subplot()\n",
    "sub.plot(myopia.SPHEQ, numerator / (1 + numerator))\n",
    "sub.scatter(x=myopia['SPHEQ'], y=myopia['MYOPIC'])\n",
    "sub.set_xlabel('SPHEQ')\n",
    "sub.set_ylabel('Pr(MYOPIC)')\n",
    "sub.set_title('Pr(MYOPIC) vs SPHEQ')\n",
    "sub.grid(True)\n",
    "plt.show()"
   ]
  },
  {
   "cell_type": "markdown",
   "metadata": {},
   "source": [
    "### Exercise 2"
   ]
  },
  {
   "cell_type": "code",
   "execution_count": 9,
   "metadata": {
    "collapsed": false
   },
   "outputs": [
    {
     "name": "stdout",
     "output_type": "stream",
     "text": [
      "40\n",
      "160\n"
     ]
    }
   ],
   "source": [
    "icu = pd.read_csv('./data/icu.csv')\n",
    "icu.head()\n",
    "print len(icu[icu.STA == 1])\n",
    "print len(icu[icu.STA == 0])"
   ]
  },
  {
   "cell_type": "markdown",
   "metadata": {},
   "source": [
    "#### Exercise 2a\n",
    "- x -> AGE\n",
    "- **logistic regression model** : $\\pi(x) = \\frac{e^{\\beta_0 + \\beta_1x}} {1 + e^{\\beta_0 + \\beta_1x}}$, \n",
    "$1 - \\pi(x) = \\frac{1}{1 + e^{\\beta_0 + \\beta_1x}}$\n",
    "\n",
    "- **logit transformation** : $g(x) = ln(\\frac{\\pi(x)} {1-\\pi(x)}) = ln(e^{\\beta_0 + \\beta_1x}) = \\beta_0 + \\beta_1x$\n",
    "\n",
    "- the values of outcome variable (STA) are binary which is discrete and not continuous, thus logistic model is more suitable than linear regression model."
   ]
  },
  {
   "cell_type": "markdown",
   "metadata": {},
   "source": [
    "#### Exercise 2b"
   ]
  },
  {
   "cell_type": "code",
   "execution_count": 10,
   "metadata": {
    "collapsed": true
   },
   "outputs": [
    {
     "data": {
      "image/png": "[encoded data removed]",
      "text/plain": [
       "<matplotlib.figure.Figure at 0x10a487d90>"
      ]
     },
     "metadata": {},
     "output_type": "display_data"
    }
   ],
   "source": [
    "sub = plt.subplot()\n",
    "sub.scatter(x=icu.AGE, y=icu.STA)\n",
    "sub.set_xlabel('AGE')\n",
    "sub.set_ylabel('STA')\n",
    "sub.set_title('STA vs AGE')\n",
    "sub.grid(True)\n",
    "plt.show()"
   ]
  },
  {
   "cell_type": "markdown",
   "metadata": {},
   "source": [
    "#### Exercise 2c\n",
    "likelihood / log-likelihood function, n=160, (y=1 for 40, y=0 for 120)\n",
    "\n",
    "- **likelihood function** : $\\xi(x_i) = \\Pi_{i=1}^n \\xi(x_i) = \\Pi_{i=1}^n \\pi(x_i)^{y_i}[1-\\pi(x_i)]^{1-y_i}]$\n",
    "\n",
    "- **log likelihood function** : $ln(\\xi(x_i)) = \\sum_{i=1}^n [ y_i ln(\\pi(x_i)) + (1-y_i) ln(1-\\pi(x_i))] $"
   ]
  },
  {
   "cell_type": "markdown",
   "metadata": {},
   "source": [
    "#### Exercise 2d\n",
    "- **logit estimation**: $\\pi(x) = \\frac{e^{-3.0585 + 0.0275x}} {1 + e^{-3.0585 + 0.0275x}}$\n",
    "- **logit estimation log**: $lg(\\pi(x)) = -3.0585\\beta_0 + 0.0275\\beta_1x$"
   ]
  },
  {
   "cell_type": "code",
   "execution_count": 11,
   "metadata": {
    "collapsed": false
   },
   "outputs": [
    {
     "name": "stdout",
     "output_type": "stream",
     "text": [
      "Optimization terminated successfully.\n",
      "         Current function value: 0.480766\n",
      "         Iterations 6\n",
      "                           Logit Regression Results                           \n",
      "==============================================================================\n",
      "Dep. Variable:                    STA   No. Observations:                  200\n",
      "Model:                          Logit   Df Residuals:                      198\n",
      "Method:                           MLE   Df Model:                            1\n",
      "Date:                Sun, 18 Oct 2015   Pseudo R-squ.:                 0.03924\n",
      "Time:                        22:24:07   Log-Likelihood:                -96.153\n",
      "converged:                       True   LL-Null:                       -100.08\n",
      "                                        LLR p-value:                  0.005069\n",
      "==============================================================================\n",
      "                 coef    std err          z      P>|z|      [95.0% Conf. Int.]\n",
      "------------------------------------------------------------------------------\n",
      "Intercept     -3.0585      0.696     -4.394      0.000        -4.423    -1.694\n",
      "AGE            0.0275      0.011      2.607      0.009         0.007     0.048\n",
      "==============================================================================\n"
     ]
    },
    {
     "data": {
      "image/png": "[encoded data removed]",
      "text/plain": [
       "<matplotlib.figure.Figure at 0x10a291750>"
      ]
     },
     "metadata": {},
     "output_type": "display_data"
    }
   ],
   "source": [
    "iculg = logit(formula = 'STA ~ AGE', data=icu)\n",
    "result = iculg.fit()\n",
    "print result.summary()\n",
    "intercept, AGE = result.params['Intercept'], result.params['AGE']\n",
    "\n",
    "numerator = np.exp(intercept + AGE * icu.AGE)\n",
    "sub = plt.subplot()\n",
    "sub.plot(icu.AGE, numerator / (1 + numerator))\n",
    "sub.scatter(x=icu.AGE, y=icu.STA)\n",
    "sub.set_xlabel('AGE')\n",
    "sub.set_ylabel('Pr(STA)')\n",
    "sub.set_title('Pr(STA) vs AGE')\n",
    "sub.grid(True)\n",
    "plt.show()"
   ]
  },
  {
   "cell_type": "markdown",
   "metadata": {},
   "source": [
    "#### Exercise 2e\n",
    "Summary: from the initial scatter plot, STA seemed only vaguely positively correated with AGE, but after logistic estimation, it was easy to notice that the probability of STA increased with AGE."
   ]
  },
  {
   "cell_type": "markdown",
   "metadata": {},
   "source": [
    "#Week2\n",
    "the comparison of `observed` to `predicted` values using the likelihood function \n",
    "- **likelihood ratio** : $[\\frac{model\\>likelihood} {saturated\\>model\\>likelihood}]$\n",
    "\n",
    "- **likelihood ratio test** : $ -2ln\\, [ likelihood\\>ratio ] $\n",
    "\n",
    "to assess the significance of an independent variable, compare the value D with/without the independent variable.\n",
    "- ** G = D(model without variable) - D(model with the variable) ** = $-2ln\\,[\\frac{likelihood\\>without\\>variable} {likelihood\\> with\\>variable}]$\n",
    "\n",
    "- Under $H_0 : \\beta_1 = 0$, the statistics G ~ $\\chi^2(1)$ (distributed with $\\chi^2$ degree of freedom 1)\n",
    "\n",
    "- Wald Test(W) = $\\frac{ \\hat{\\beta_1} }  { \\widehat{SE}(\\hat{\\beta_1}) }$, and under $H_0 : \\beta_1 = 0$, W ~ $N(0,1)$\n",
    "\n",
    "- prefer Likelihood ratio test to Wald Test."
   ]
  },
  {
   "cell_type": "markdown",
   "metadata": {},
   "source": [
    "### Exercise 1"
   ]
  },
  {
   "cell_type": "code",
   "execution_count": 12,
   "metadata": {
    "collapsed": true
   },
   "outputs": [
    {
     "name": "stdout",
     "output_type": "stream",
     "text": [
      "Optimization terminated successfully.\n",
      "         Current function value: 0.272933\n",
      "         Iterations 8\n"
     ]
    },
    {
     "data": {
      "text/html": [
       "<table class=\"simpletable\">\n",
       "<caption>Logit Regression Results</caption>\n",
       "<tr>\n",
       "  <th>Dep. Variable:</th>      <td>MYOPIC</td>      <th>  No. Observations:  </th>  <td>   618</td>  \n",
       "</tr>\n",
       "<tr>\n",
       "  <th>Model:</th>               <td>Logit</td>      <th>  Df Residuals:      </th>  <td>   616</td>  \n",
       "</tr>\n",
       "<tr>\n",
       "  <th>Method:</th>               <td>MLE</td>       <th>  Df Model:          </th>  <td>     1</td>  \n",
       "</tr>\n",
       "<tr>\n",
       "  <th>Date:</th>          <td>Sun, 18 Oct 2015</td> <th>  Pseudo R-squ.:     </th>  <td>0.2973</td>  \n",
       "</tr>\n",
       "<tr>\n",
       "  <th>Time:</th>              <td>22:24:17</td>     <th>  Log-Likelihood:    </th> <td> -168.67</td> \n",
       "</tr>\n",
       "<tr>\n",
       "  <th>converged:</th>           <td>True</td>       <th>  LL-Null:           </th> <td> -240.04</td> \n",
       "</tr>\n",
       "<tr>\n",
       "  <th> </th>                      <td> </td>        <th>  LLR p-value:       </th> <td>6.727e-33</td>\n",
       "</tr>\n",
       "</table>\n",
       "<table class=\"simpletable\">\n",
       "<tr>\n",
       "      <td></td>         <th>coef</th>     <th>std err</th>      <th>z</th>      <th>P>|z|</th> <th>[95.0% Conf. Int.]</th> \n",
       "</tr>\n",
       "<tr>\n",
       "  <th>Intercept</th> <td>    0.0540</td> <td>    0.207</td> <td>    0.261</td> <td> 0.794</td> <td>   -0.351     0.459</td>\n",
       "</tr>\n",
       "<tr>\n",
       "  <th>SPHEQ</th>     <td>   -3.8331</td> <td>    0.418</td> <td>   -9.162</td> <td> 0.000</td> <td>   -4.653    -3.013</td>\n",
       "</tr>\n",
       "</table>"
      ],
      "text/plain": [
       "<class 'statsmodels.iolib.summary.Summary'>\n",
       "\"\"\"\n",
       "                           Logit Regression Results                           \n",
       "==============================================================================\n",
       "Dep. Variable:                 MYOPIC   No. Observations:                  618\n",
       "Model:                          Logit   Df Residuals:                      616\n",
       "Method:                           MLE   Df Model:                            1\n",
       "Date:                Sun, 18 Oct 2015   Pseudo R-squ.:                  0.2973\n",
       "Time:                        22:24:17   Log-Likelihood:                -168.67\n",
       "converged:                       True   LL-Null:                       -240.04\n",
       "                                        LLR p-value:                 6.727e-33\n",
       "==============================================================================\n",
       "                 coef    std err          z      P>|z|      [95.0% Conf. Int.]\n",
       "------------------------------------------------------------------------------\n",
       "Intercept      0.0540      0.207      0.261      0.794        -0.351     0.459\n",
       "SPHEQ         -3.8331      0.418     -9.162      0.000        -4.653    -3.013\n",
       "==============================================================================\n",
       "\"\"\""
      ]
     },
     "execution_count": 12,
     "metadata": {},
     "output_type": "execute_result"
    }
   ],
   "source": [
    "myopia2 = pd.read_csv('./data/MYOPIA-fixed.csv') # re-read the table\n",
    "lg2 = logit(formula = 'MYOPIC ~ SPHEQ', data=myopia2)\n",
    "mresult2 = lg2.fit()\n",
    "mresult2.summary()"
   ]
  },
  {
   "cell_type": "markdown",
   "metadata": {},
   "source": [
    "Using the results of the output from Stata, assess the significance of the slope coefficient for SPHEQ using the likelihood ratio test and the Wald test. What assumptions are needed for the p-values computed for each of these tests to be valid? Are the results of these tests consistent with one another? What is the value of the deviance for the fitted model?\n",
    "\n",
    "Test: $H_0 : \\beta_1 = 0$, $H_a: \\beta_1 \\neq 0$\n",
    "\n",
    "- Likelihood ratio test assumption: result G is distributed as $\\chi^2$ with df=1\n",
    "- Likelihood ratio test(G) = 142.7331 with 1 df(p-value) < 0.001\n",
    "    1. G = -2 * (-240.04) + 2 * (-168.67) = 142.7331\n",
    "- Wald test assumption: W is distributed as N(0,1)\n",
    "- Wald test = -9.162 with p-value < 0.001\n",
    "- Both test results indicates that SPHEQ is a significant variable in predicting MYOPIA."
   ]
  },
  {
   "cell_type": "code",
   "execution_count": 311,
   "metadata": {
    "collapsed": false
   },
   "outputs": [
    {
     "name": "stdout",
     "output_type": "stream",
     "text": [
      "-168.672439854 -240.038508429 142.732137151 6.72664045685e-33\n",
      "-9.17009569378\n"
     ]
    }
   ],
   "source": [
    "print result2.llf, result2.llnull, result2.llr, result2.llr_pvalue\n",
    "print -3.8331 / 0.418"
   ]
  },
  {
   "cell_type": "markdown",
   "metadata": {},
   "source": [
    "### Exercise 2"
   ]
  },
  {
   "cell_type": "code",
   "execution_count": 13,
   "metadata": {
    "collapsed": true
   },
   "outputs": [
    {
     "name": "stdout",
     "output_type": "stream",
     "text": [
      "Optimization terminated successfully.\n",
      "         Current function value: 0.480766\n",
      "         Iterations 6\n"
     ]
    },
    {
     "data": {
      "text/html": [
       "<table class=\"simpletable\">\n",
       "<caption>Logit Regression Results</caption>\n",
       "<tr>\n",
       "  <th>Dep. Variable:</th>        <td>STA</td>       <th>  No. Observations:  </th>  <td>   200</td> \n",
       "</tr>\n",
       "<tr>\n",
       "  <th>Model:</th>               <td>Logit</td>      <th>  Df Residuals:      </th>  <td>   198</td> \n",
       "</tr>\n",
       "<tr>\n",
       "  <th>Method:</th>               <td>MLE</td>       <th>  Df Model:          </th>  <td>     1</td> \n",
       "</tr>\n",
       "<tr>\n",
       "  <th>Date:</th>          <td>Sun, 18 Oct 2015</td> <th>  Pseudo R-squ.:     </th>  <td>0.03924</td>\n",
       "</tr>\n",
       "<tr>\n",
       "  <th>Time:</th>              <td>22:24:26</td>     <th>  Log-Likelihood:    </th> <td> -96.153</td>\n",
       "</tr>\n",
       "<tr>\n",
       "  <th>converged:</th>           <td>True</td>       <th>  LL-Null:           </th> <td> -100.08</td>\n",
       "</tr>\n",
       "<tr>\n",
       "  <th> </th>                      <td> </td>        <th>  LLR p-value:       </th> <td>0.005069</td>\n",
       "</tr>\n",
       "</table>\n",
       "<table class=\"simpletable\">\n",
       "<tr>\n",
       "      <td></td>         <th>coef</th>     <th>std err</th>      <th>z</th>      <th>P>|z|</th> <th>[95.0% Conf. Int.]</th> \n",
       "</tr>\n",
       "<tr>\n",
       "  <th>Intercept</th> <td>   -3.0585</td> <td>    0.696</td> <td>   -4.394</td> <td> 0.000</td> <td>   -4.423    -1.694</td>\n",
       "</tr>\n",
       "<tr>\n",
       "  <th>AGE</th>       <td>    0.0275</td> <td>    0.011</td> <td>    2.607</td> <td> 0.009</td> <td>    0.007     0.048</td>\n",
       "</tr>\n",
       "</table>"
      ],
      "text/plain": [
       "<class 'statsmodels.iolib.summary.Summary'>\n",
       "\"\"\"\n",
       "                           Logit Regression Results                           \n",
       "==============================================================================\n",
       "Dep. Variable:                    STA   No. Observations:                  200\n",
       "Model:                          Logit   Df Residuals:                      198\n",
       "Method:                           MLE   Df Model:                            1\n",
       "Date:                Sun, 18 Oct 2015   Pseudo R-squ.:                 0.03924\n",
       "Time:                        22:24:26   Log-Likelihood:                -96.153\n",
       "converged:                       True   LL-Null:                       -100.08\n",
       "                                        LLR p-value:                  0.005069\n",
       "==============================================================================\n",
       "                 coef    std err          z      P>|z|      [95.0% Conf. Int.]\n",
       "------------------------------------------------------------------------------\n",
       "Intercept     -3.0585      0.696     -4.394      0.000        -4.423    -1.694\n",
       "AGE            0.0275      0.011      2.607      0.009         0.007     0.048\n",
       "==============================================================================\n",
       "\"\"\""
      ]
     },
     "execution_count": 13,
     "metadata": {},
     "output_type": "execute_result"
    }
   ],
   "source": [
    "icu = pd.read_csv('./data/icu.csv')\n",
    "iculg2 = logit(formula = 'STA ~ AGE', data=icu)\n",
    "icuresult = iculg2.fit()\n",
    "icuresult.summary()"
   ]
  },
  {
   "cell_type": "markdown",
   "metadata": {},
   "source": [
    "Using the results of the output from the logistic regression package used for problem 2 part (d) of week 1, assess the significance of the slope coefficient for AGE using the likelihood ratio test and the Wald test. What assumptions are needed for the p-values computed for each of these tests to be valid? Are the results of these tests consistent with one another? What is the value of the deviance for the fitted model?\n",
    "\n",
    "Test: $H_0 : \\beta_1 = 0$, $H_a: \\beta_1 \\neq 0$\n",
    "- Likelihood ratio test assumption: statistic G is distributed as $\\chi^2$ with df=1\n",
    "- Likelihood ratio test(G) = 7.8546 with 1 df(p-value) < 0.05\n",
    "    1. G = -2 * (-100.08) + 2 * (-96.153) = 7.8546\n",
    "- Wald test assumption: W is distributed as N(0,1)\n",
    "- Wald test = -2.607 with p-value < 0.05\n",
    "- Both test results indicates that AGE is a significant variable in predicting STA. Thus reject $H_0$"
   ]
  },
  {
   "cell_type": "code",
   "execution_count": 14,
   "metadata": {
    "collapsed": true
   },
   "outputs": [
    {
     "name": "stdout",
     "output_type": "stream",
     "text": [
      "log likelihood with variable: -96.1531901919\n",
      "log likelihood without variable: -100.080484708\n",
      "log likelihood ratio(Deviance): 7.85458903155\n",
      "log likelihood ratio p-value: 0.00506918737428\n",
      "-7.85458903155\n"
     ]
    }
   ],
   "source": [
    "# print icuresult.llf, icuresult.llnull, icuresult.llr, icuresult.llr_pvalue\n",
    "print 'log likelihood with variable: %s' % icuresult.llf\n",
    "print 'log likelihood without variable: %s' % icuresult.llnull\n",
    "print 'log likelihood ratio(Deviance): %s' % icuresult.llr\n",
    "print 'log likelihood ratio p-value: %s' %icuresult.llr_pvalue\n",
    "print -2*icuresult.llf +2*icuresult.llnull"
   ]
  },
  {
   "cell_type": "markdown",
   "metadata": {},
   "source": [
    "# Week 3 - 4\n",
    "Confidence interval estimator of coefficient is $\\hat{\\beta_j} \\pm z_{1-a/2} \\widehat{SE}(\\hat{\\beta_j})$,\n",
    "where $\\widehat{SE}(\\hat{\\beta_j}) = \\sqrt{\\widehat{Var}(\\hat{\\beta_j})} $\n",
    "\n",
    "Confidence interval for the logit for a single subject:\n",
    "\n",
    "- the estimated logit : $\\hat{g}(x) = ln(\\frac{\\pi(x)} {1-\\pi(x)}) = \\sum_{j=0}^p \\hat{\\beta_j}x_j$\n",
    "\n",
    "- the estimate of it's variable : $\\widehat{Var}(\\hat{g}(x)) =  x'[\\widehat{Var}(\\hat{\\beta})]x$\n",
    "\n",
    "- confidence interval of logit: $\\hat{g}(x) \\pm z_{1-a/2} \\widehat{SE}(\\hat{g}(x)) $\n",
    "\n",
    "- confidence interval of estimated logistic probability: \n",
    "    $\\frac{e^{\\hat{g}(x) \\pm z_{1-a/2} \\widehat{SE}(\\hat{g}(x))}} \n",
    "       {1 + e^{\\hat{g}(x) \\pm z_{1-a/2} \\widehat{SE}(\\hat{g}(x))}}$\n",
    "\n",
    "`link function` - function of y that yields linear function of independent variable, linearlity allows the coefficient $\\beta_1$ to indicate the change in dependent variable(y) corresponding to a unit change in the independent variable(x). In other words, **logit transformation** of y is linear to x.\n",
    "\n",
    "- logistic regression's link function: $ln(\\frac{\\pi(x)} {1-\\pi(x)}) = ln(e^{\\beta_0 + \\beta_1x}) = \\beta_0 + \\beta_1x$\n",
    "- **$\\Delta$ in logit for 1 unit $\\Delta$ in x.** : $g(x+1) - g(x)= (\\beta_0 + \\beta_1x + \\beta_1) - (\\beta_0 + \\beta_1x) = \\beta_1$\n",
    "\n",
    "\n",
    "- interpretation of $\\beta_1$ depends on difference between above 2 logit and nature of independent variable x. (dichotomous, polychotomous, continuous, etc..)\n",
    "    - Pr(y=1|x) = $\\pi(x) = \\frac{e^{\\beta_0 + \\beta_1x}} {1 + e^{\\beta_0 + \\beta_1x}}$, Pr(y=0|x) =\n",
    "$1 - \\pi(x) = \\frac{1}{1 + e^{\\beta_0 + \\beta_1x}}$\n",
    "    - Dichotomous case: x is coded as 0, 1\n",
    "        - consider cases of y=0,1 and x=0,1\n",
    "        - the odds of outcome being present among exposed individuals(x=1):\n",
    "            - $\\frac{Pr(y=1|x=1)} {Pr(y=0|x=1)} = \\frac{\\pi(1)} {1-\\pi(1)}$\n",
    "            \n",
    "        - for those not exposed individuals(x=0):\n",
    "            - $\\frac{Pr(y=1|x=0)} {Pr(y=0|x=0)} = \\frac{\\pi(0)} {1-\\pi(0)}$\n",
    "            \n",
    "        - the `odds ratio, log odds ratio(logit difference)` is the ratio of odds (x=1) to odds (x=0)\n",
    "            - OR = $\\frac { \\pi(1) \\> / \\> 1-\\pi(1) } { \\pi(0) \\> / \\> 1-\\pi(0) } = e^{\\beta_1}, \\> ln(OR) = \\beta_1$\n",
    "            - Odds ratio is the odds the outcome **occurs** given **exposure** vs **non-exposure**.\n",
    "            - [Difference between Odds Ratio and Likelihood Ratio](https://www.quora.com/How-can-I-remember-the-differences-between-odds-ratio-hazard-ratio-and-likelihood-ratio-and-in-what-instances-they-should-be-applied)\n",
    "            - [More on odds ratio](http://www.ats.ucla.edu/stat/mult_pkg/faq/general/odds_ratio.htm)\n",
    "        - confidene interval estimation:\n",
    "            - $ln(OR)$ is moren normally distributed than OR, thus is which confidence interval is based on.\n",
    "            - $\\widehat{Var}(\\hat{\\beta_1}) =  [\\frac{1} {a} + \\frac{1} {b} + \\frac{1} {c} + \\frac{1} {d} ]$\n",
    "            - $\\widehat{SE}(\\hat{\\beta_1}) = \\sqrt{\\widehat{Var}(\\hat{\\beta_1})} $, $\\hat{\\beta_1} \\pm z_{1-a/2} \\widehat{SE}(\\hat{\\beta_1})$\n",
    "                        \n",
    "    - Polychotomous case: a variable has 3 or more levels with a fixed number of outcomes\n",
    "        - Referent Group: Primary comparison group when generating odds ratios in logistic regression. It is often the group with the lowest risk/odds of outcome\n",
    "        - Referent Cell Coding: All design variables are coded as 0 for the referent group\n"
   ]
  },
  {
   "cell_type": "markdown",
   "metadata": {},
   "source": [
    "### Exercise 1"
   ]
  },
  {
   "cell_type": "code",
   "execution_count": 15,
   "metadata": {
    "collapsed": false
   },
   "outputs": [
    {
     "name": "stdout",
     "output_type": "stream",
     "text": [
      "Optimization terminated successfully.\n",
      "         Current function value: 0.272933\n",
      "         Iterations 8\n"
     ]
    },
    {
     "data": {
      "text/html": [
       "<table class=\"simpletable\">\n",
       "<caption>Logit Regression Results</caption>\n",
       "<tr>\n",
       "  <th>Dep. Variable:</th>      <td>MYOPIC</td>      <th>  No. Observations:  </th>  <td>   618</td>  \n",
       "</tr>\n",
       "<tr>\n",
       "  <th>Model:</th>               <td>Logit</td>      <th>  Df Residuals:      </th>  <td>   616</td>  \n",
       "</tr>\n",
       "<tr>\n",
       "  <th>Method:</th>               <td>MLE</td>       <th>  Df Model:          </th>  <td>     1</td>  \n",
       "</tr>\n",
       "<tr>\n",
       "  <th>Date:</th>          <td>Sun, 18 Oct 2015</td> <th>  Pseudo R-squ.:     </th>  <td>0.2973</td>  \n",
       "</tr>\n",
       "<tr>\n",
       "  <th>Time:</th>              <td>22:24:37</td>     <th>  Log-Likelihood:    </th> <td> -168.67</td> \n",
       "</tr>\n",
       "<tr>\n",
       "  <th>converged:</th>           <td>True</td>       <th>  LL-Null:           </th> <td> -240.04</td> \n",
       "</tr>\n",
       "<tr>\n",
       "  <th> </th>                      <td> </td>        <th>  LLR p-value:       </th> <td>6.727e-33</td>\n",
       "</tr>\n",
       "</table>\n",
       "<table class=\"simpletable\">\n",
       "<tr>\n",
       "      <td></td>         <th>coef</th>     <th>std err</th>      <th>z</th>      <th>P>|z|</th> <th>[95.0% Conf. Int.]</th> \n",
       "</tr>\n",
       "<tr>\n",
       "  <th>Intercept</th> <td>    0.0540</td> <td>    0.207</td> <td>    0.261</td> <td> 0.794</td> <td>   -0.351     0.459</td>\n",
       "</tr>\n",
       "<tr>\n",
       "  <th>SPHEQ</th>     <td>   -3.8331</td> <td>    0.418</td> <td>   -9.162</td> <td> 0.000</td> <td>   -4.653    -3.013</td>\n",
       "</tr>\n",
       "</table>"
      ],
      "text/plain": [
       "<class 'statsmodels.iolib.summary.Summary'>\n",
       "\"\"\"\n",
       "                           Logit Regression Results                           \n",
       "==============================================================================\n",
       "Dep. Variable:                 MYOPIC   No. Observations:                  618\n",
       "Model:                          Logit   Df Residuals:                      616\n",
       "Method:                           MLE   Df Model:                            1\n",
       "Date:                Sun, 18 Oct 2015   Pseudo R-squ.:                  0.2973\n",
       "Time:                        22:24:37   Log-Likelihood:                -168.67\n",
       "converged:                       True   LL-Null:                       -240.04\n",
       "                                        LLR p-value:                 6.727e-33\n",
       "==============================================================================\n",
       "                 coef    std err          z      P>|z|      [95.0% Conf. Int.]\n",
       "------------------------------------------------------------------------------\n",
       "Intercept      0.0540      0.207      0.261      0.794        -0.351     0.459\n",
       "SPHEQ         -3.8331      0.418     -9.162      0.000        -4.653    -3.013\n",
       "==============================================================================\n",
       "\"\"\""
      ]
     },
     "execution_count": 15,
     "metadata": {},
     "output_type": "execute_result"
    }
   ],
   "source": [
    "myopia2 = pd.read_csv('./data/MYOPIA-fixed.csv')\n",
    "lg2 = logit(formula = 'MYOPIC ~ SPHEQ', data=myopia2)\n",
    "mresult2 = lg2.fit()\n",
    "mresult2.summary()"
   ]
  },
  {
   "cell_type": "markdown",
   "metadata": {},
   "source": [
    "#### exercise 1a\n",
    "95% confidence that the actual SPHEQ coefficient lies between -4.653 and -3.013.\n",
    "- $\\hat{\\beta_{SPHEQ}} \\pm z_{1-a/2} \\widehat{SE}(\\hat{\\beta_{SPHEQ}}) = -3.8331 \\pm 1.96(0.418)$\n",
    "\n",
    "#### exercise 1b\n",
    "With SPHEQ = 2\n",
    "- $\\hat{g}(x) = \\beta_0 + \\beta_1x = 0.054 - 3.8331 * 2 = -7.6122$\n",
    "\n",
    "Covariance Matrix(intercept, SPHEQ):\n",
    "$\\begin{bmatrix} 0.0427 & -0.0634 \\\\ -0.0634 & 0.1751 \\end{bmatrix}$\n",
    "\n",
    "$ \\widehat{Var}(\\hat{g}(x)) = x' [\\widehat{Var}(\\hat{\\beta})] x = \\begin{bmatrix} 1 & 2 \\end{bmatrix} \\begin{bmatrix} 0.0427 & -0.0634 \\\\ -0.0634 & 0.1751 \\end{bmatrix} \\begin{bmatrix} 1 \\\\ 2 \\end{bmatrix} = 0.4894, \n",
    "\\widehat{SE}(\\hat{\\beta}) = 0.6996$\n",
    "\n",
    "Logit 95% confidece interval:\n",
    "- $\\hat{g}(x) \\pm z_{1-a/2} \\widehat{SE}(\\hat{g}(x)) = -7.6122 \\pm 1.96(0.6996) \\to [-8.9834, -6.2410]$\n",
    "\n",
    "Estimated logistic probability:\n",
    "- $\\frac {e^{-7.6122}} {1 + e^{-7.6122}} = 0.00049414$\n",
    "\n",
    "95% confidence interval for estimated logistic probability:\n",
    "- $[ \\frac {e^{-8.9834}} {1 + e^{-8.9834}}, \\frac {e^{-6.2410}} {1 + e^{-6.2410}} ] = [0.0001254, 0.001944]$\n",
    "\n",
    "The probability of having MYOPIA given SPHEQ=2 is 0.0494% with 95% confidence interval [0.01254%, 0.1944%]"
   ]
  },
  {
   "cell_type": "markdown",
   "metadata": {},
   "source": [
    "### Exercise 2"
   ]
  },
  {
   "cell_type": "code",
   "execution_count": 16,
   "metadata": {
    "collapsed": true
   },
   "outputs": [
    {
     "name": "stdout",
     "output_type": "stream",
     "text": [
      "Optimization terminated successfully.\n",
      "         Current function value: 0.480766\n",
      "         Iterations 6\n"
     ]
    },
    {
     "data": {
      "text/html": [
       "<table class=\"simpletable\">\n",
       "<caption>Logit Regression Results</caption>\n",
       "<tr>\n",
       "  <th>Dep. Variable:</th>        <td>STA</td>       <th>  No. Observations:  </th>  <td>   200</td> \n",
       "</tr>\n",
       "<tr>\n",
       "  <th>Model:</th>               <td>Logit</td>      <th>  Df Residuals:      </th>  <td>   198</td> \n",
       "</tr>\n",
       "<tr>\n",
       "  <th>Method:</th>               <td>MLE</td>       <th>  Df Model:          </th>  <td>     1</td> \n",
       "</tr>\n",
       "<tr>\n",
       "  <th>Date:</th>          <td>Sun, 18 Oct 2015</td> <th>  Pseudo R-squ.:     </th>  <td>0.03924</td>\n",
       "</tr>\n",
       "<tr>\n",
       "  <th>Time:</th>              <td>22:24:45</td>     <th>  Log-Likelihood:    </th> <td> -96.153</td>\n",
       "</tr>\n",
       "<tr>\n",
       "  <th>converged:</th>           <td>True</td>       <th>  LL-Null:           </th> <td> -100.08</td>\n",
       "</tr>\n",
       "<tr>\n",
       "  <th> </th>                      <td> </td>        <th>  LLR p-value:       </th> <td>0.005069</td>\n",
       "</tr>\n",
       "</table>\n",
       "<table class=\"simpletable\">\n",
       "<tr>\n",
       "      <td></td>         <th>coef</th>     <th>std err</th>      <th>z</th>      <th>P>|z|</th> <th>[95.0% Conf. Int.]</th> \n",
       "</tr>\n",
       "<tr>\n",
       "  <th>Intercept</th> <td>   -3.0585</td> <td>    0.696</td> <td>   -4.394</td> <td> 0.000</td> <td>   -4.423    -1.694</td>\n",
       "</tr>\n",
       "<tr>\n",
       "  <th>AGE</th>       <td>    0.0275</td> <td>    0.011</td> <td>    2.607</td> <td> 0.009</td> <td>    0.007     0.048</td>\n",
       "</tr>\n",
       "</table>"
      ],
      "text/plain": [
       "<class 'statsmodels.iolib.summary.Summary'>\n",
       "\"\"\"\n",
       "                           Logit Regression Results                           \n",
       "==============================================================================\n",
       "Dep. Variable:                    STA   No. Observations:                  200\n",
       "Model:                          Logit   Df Residuals:                      198\n",
       "Method:                           MLE   Df Model:                            1\n",
       "Date:                Sun, 18 Oct 2015   Pseudo R-squ.:                 0.03924\n",
       "Time:                        22:24:45   Log-Likelihood:                -96.153\n",
       "converged:                       True   LL-Null:                       -100.08\n",
       "                                        LLR p-value:                  0.005069\n",
       "==============================================================================\n",
       "                 coef    std err          z      P>|z|      [95.0% Conf. Int.]\n",
       "------------------------------------------------------------------------------\n",
       "Intercept     -3.0585      0.696     -4.394      0.000        -4.423    -1.694\n",
       "AGE            0.0275      0.011      2.607      0.009         0.007     0.048\n",
       "==============================================================================\n",
       "\"\"\""
      ]
     },
     "execution_count": 16,
     "metadata": {},
     "output_type": "execute_result"
    }
   ],
   "source": [
    "icu = pd.read_csv('./data/icu.csv')\n",
    "iculg2 = logit(formula = 'STA ~ AGE', data=icu)\n",
    "icuresult = iculg2.fit()\n",
    "icuresult.summary()"
   ]
  },
  {
   "cell_type": "markdown",
   "metadata": {},
   "source": [
    "#### exercise 2a\n",
    "95% confidence that the actual AGE coefficient lies between 0.007 and 0.048.\n",
    "- $\\hat{\\beta_{AGE}} \\pm z_{1-a/2} \\widehat{SE}(\\hat{\\beta_{AGE}}) = 0.0275 \\pm 1.96(0.011)$\n",
    "\n",
    "#### exercise 2b\n",
    "\n",
    "With AGE = 60\n",
    "- $\\hat{g}(x) = \\beta_0 + \\beta_1x = -3.0585 + 0.0275 * 60 = -1.4085$\n",
    "\n",
    "Covariance Matrix(intercept, AGE):\n",
    "$\\begin{bmatrix} 0.4846 & -0.007104 \\\\ -0.007104 & 0.000112 \\end{bmatrix}$\n",
    "\n",
    "$ \\widehat{Var}(\\hat{g}(x)) = x' [\\widehat{Var}(\\hat{\\beta})] x = \\begin{bmatrix} 1 & 60 \\end{bmatrix} \\begin{bmatrix} 0.4846 & -0.007104 \\\\ -0.007104 & 0.000112 \\end{bmatrix} \\begin{bmatrix} 1 \\\\ 60 \\end{bmatrix} = 0.03394, \n",
    "\\widehat{SE}(\\hat{\\beta}) = 0.1842$\n",
    "\n",
    "Logit 95% confidece interval:\n",
    "- $\\hat{g}(x) \\pm z_{1-a/2} \\widehat{SE}(\\hat{g}(x)) = -1.4085 \\pm 1.96(0.1842) \\to [-1.7695, -1.0475]$\n",
    "\n",
    "Estimated logistic probability:\n",
    "- $\\frac {e^{-1.4085}} {1 + e^{-1.4085}} = 0.1965$\n",
    "\n",
    "95% confidence interval for estimated logistic probability:\n",
    "- $[ \\frac {e^{-1.7695}} {1 + e^{-1.7695}}, \\frac {e^{-1.0475}} {1 + e^{-1.0475}} ] = [0.1456, 0.2597]$\n",
    "\n",
    "The probability of having STA given AGE=60 is 19.65% with 95% confidence interval [14.56%, 25.97%]"
   ]
  },
  {
   "cell_type": "code",
   "execution_count": 17,
   "metadata": {
    "collapsed": true
   },
   "outputs": [
    {
     "name": "stdout",
     "output_type": "stream",
     "text": [
      "           Intercept       AGE\n",
      "Intercept   0.484586 -0.007104\n",
      "AGE        -0.007104  0.000112\n",
      "0.196470753549\n",
      "0.145604519837\n",
      "0.259705458333\n",
      "0.0339372225345 0.184220581192\n"
     ]
    }
   ],
   "source": [
    "covm = icuresult.cov_params()\n",
    "print covm\n",
    "print math.exp(-1.4085) / (1+math.exp(-1.4085))\n",
    "print math.exp(-1.7695) / (1+math.exp(-1.7695))\n",
    "print math.exp(-1.0475) / (1+math.exp(-1.0475))\n",
    "var = np.array([1,60]).T.dot(icuresult.cov_params()).dot(np.array([1,60]))\n",
    "print var, math.sqrt(var)"
   ]
  },
  {
   "cell_type": "markdown",
   "metadata": {},
   "source": [
    "### Exercise 3"
   ]
  },
  {
   "cell_type": "code",
   "execution_count": 19,
   "metadata": {
    "collapsed": true
   },
   "outputs": [
    {
     "name": "stderr",
     "output_type": "stream",
     "text": [
      "ERROR: Line magic function `%R` not found.\n"
     ]
    }
   ],
   "source": [
    "icu = pd.read_csv('./data/icu.csv')\n",
    "icu['RACE2'] = (icu['RACE'] == 2).astype(int)\n",
    "icu['RACE3'] = (icu['RACE'] == 3).astype(int)\n",
    "# iculg = logit(formula = 'STA ~ AGE + CAN + CPR + INF + RACE2 + RACE3', data=icu)\n",
    "# icuresult = iculg.fit()\n",
    "# display(icuresult.summary())\n",
    "# CALLING LOGITSTIC REGRESSION THROUGH R BECAUSE FOR SOME REASON STATSMODEL'S LOGIT DOESN'T TAKE INF PARAM.\n",
    "%R -i icu print(summary(glm(STA ~ AGE + CAN + CPR + INF + RACE2 + RACE3, data=icu, family=binomial())))"
   ]
  },
  {
   "cell_type": "markdown",
   "metadata": {},
   "source": [
    "#### exercise 3a\n",
    "\n",
    "Coding Design Variable for RACE(1 2 3), need 2 dummy variables to represent 3 RACE groups.\n",
    "\n",
    "RACE | Label | Race2 | Race3\n",
    "-|-|:-:|:-:\n",
    "1 | White | 0 | 0\n",
    "2 | Black | 1 | 0\n",
    "3 | Other | 0 | 1\n",
    "\n",
    "\n",
    "#### exercise 3b\n",
    "\n",
    "Logistic regression model of STA on AGE, CAN, CPR, INF, and RACE\n",
    "- **logistic regression model** : $\\pi(x) = \\frac{e^{\\beta_0 + \\beta_1{AGE} + \\beta_2{CAN} + \\beta_3{CPR} + \\beta_4{INF} + \\beta5{RACE2} + \\beta6{RACE3}}} {1 + e^{\\beta_0 + \\beta_1{AGE} + \\beta_2{CAN} + \\beta_3{CPR} + \\beta_4{INF} + \\beta5{RACE2} + \\beta6{RACE3}}}$, \n",
    "$1 - \\pi(x) = \\frac{1}{1 + e^{\\beta_0 + \\beta_1{AGE} + \\beta_2{CAN} + \\beta_3{CPR} + \\beta_4{INF} + \\beta5{RACE2} + \\beta6{RACE3}}}$\n",
    "- **logit transformation** : $g(x) = ln(\\frac{\\pi(x)} {1-\\pi(x)}) = ln(e^{\\beta_0 + \\beta_1{AGE} + \\beta_2{CAN} + \\beta_3{CPR} + \\beta_4{INF} + \\beta5{RACE2} + \\beta6{RACE3}}) = \\beta_0 + \\beta_1{AGE} + \\beta_2{CAN} + \\beta_3{CPR} + \\beta_4{INF} + \\beta5{RACE2} + \\beta6{RACE3}$\n",
    "\n",
    "#### exercise 3c\n",
    "\n",
    "- **likelihood function** : $\\xi(x_i) = \\Pi_{i=1}^n \\xi(x_i) = \\Pi_{i=1}^n \\pi(x_i)^{y_i}[1-\\pi(x_i)]^{1-y_i}]$\n",
    "    - Xs = {AGE, CAN, CPR, INF, RACE1, RACE2}, 6 variables and 7 different likelihood equations. (y=1 for STA, y=0 for not)\n",
    "\n",
    "- **log likelihood function** : $ln(\\xi(x_i)) = \\sum_{i=1}^n [ y_i ln(\\pi(x_i)) + (1-y_i) ln(1-\\pi(x_i))] $\n",
    "\n",
    "#### exercise 3d\n",
    "\n",
    "- **logistic regression model** : $\\pi(x) = \\frac{e^{-3.51152 + 0.02712*{AGE} + 0.24451*{CAN} + 1.64650*{CPR} + 0.68067*{INF} -0.95708*{RACE2} + 0.25975*{RACE3}}} {1 + e^{-3.51152 + 0.02712*{AGE} + 0.24451*{CAN} + 1.64650*{CPR} + 0.68067*{INF} -0.95708*{RACE2} + 0.25975*{RACE3}}}$\n",
    "- **logit transformation** : $g(x) = -3.51152 + 0.02712*{AGE} + 0.24451*{CAN} + 1.64650*{CPR} + 0.68067*{INF} -0.95708*{RACE2} + 0.25975*{RACE3}$"
   ]
  },
  {
   "cell_type": "markdown",
   "metadata": {},
   "source": [
    "### Exercise 4"
   ]
  },
  {
   "cell_type": "code",
   "execution_count": 20,
   "metadata": {
    "collapsed": true
   },
   "outputs": [
    {
     "name": "stdout",
     "output_type": "stream",
     "text": [
      "Optimization terminated successfully.\n",
      "         Current function value: 0.360585\n",
      "         Iterations 6\n"
     ]
    },
    {
     "data": {
      "text/html": [
       "<table class=\"simpletable\">\n",
       "<caption>Logit Regression Results</caption>\n",
       "<tr>\n",
       "  <th>Dep. Variable:</th>      <td>nas135</td>      <th>  No. Observations:  </th>  <td>   488</td>  \n",
       "</tr>\n",
       "<tr>\n",
       "  <th>Model:</th>               <td>Logit</td>      <th>  Df Residuals:      </th>  <td>   486</td>  \n",
       "</tr>\n",
       "<tr>\n",
       "  <th>Method:</th>               <td>MLE</td>       <th>  Df Model:          </th>  <td>     1</td>  \n",
       "</tr>\n",
       "<tr>\n",
       "  <th>Date:</th>          <td>Sun, 18 Oct 2015</td> <th>  Pseudo R-squ.:     </th>  <td>0.05293</td> \n",
       "</tr>\n",
       "<tr>\n",
       "  <th>Time:</th>              <td>22:25:04</td>     <th>  Log-Likelihood:    </th> <td> -175.97</td> \n",
       "</tr>\n",
       "<tr>\n",
       "  <th>converged:</th>           <td>True</td>       <th>  LL-Null:           </th> <td> -185.80</td> \n",
       "</tr>\n",
       "<tr>\n",
       "  <th> </th>                      <td> </td>        <th>  LLR p-value:       </th> <td>9.204e-06</td>\n",
       "</tr>\n",
       "</table>\n",
       "<table class=\"simpletable\">\n",
       "<tr>\n",
       "      <td></td>         <th>coef</th>     <th>std err</th>      <th>z</th>      <th>P>|z|</th> <th>[95.0% Conf. Int.]</th> \n",
       "</tr>\n",
       "<tr>\n",
       "  <th>Intercept</th> <td>   -2.4749</td> <td>    0.208</td> <td>  -11.884</td> <td> 0.000</td> <td>   -2.883    -2.067</td>\n",
       "</tr>\n",
       "<tr>\n",
       "  <th>female</th>    <td>    1.2260</td> <td>    0.280</td> <td>    4.386</td> <td> 0.000</td> <td>    0.678     1.774</td>\n",
       "</tr>\n",
       "</table>"
      ],
      "text/plain": [
       "<class 'statsmodels.iolib.summary.Summary'>\n",
       "\"\"\"\n",
       "                           Logit Regression Results                           \n",
       "==============================================================================\n",
       "Dep. Variable:                 nas135   No. Observations:                  488\n",
       "Model:                          Logit   Df Residuals:                      486\n",
       "Method:                           MLE   Df Model:                            1\n",
       "Date:                Sun, 18 Oct 2015   Pseudo R-squ.:                 0.05293\n",
       "Time:                        22:25:04   Log-Likelihood:                -175.97\n",
       "converged:                       True   LL-Null:                       -185.80\n",
       "                                        LLR p-value:                 9.204e-06\n",
       "==============================================================================\n",
       "                 coef    std err          z      P>|z|      [95.0% Conf. Int.]\n",
       "------------------------------------------------------------------------------\n",
       "Intercept     -2.4749      0.208    -11.884      0.000        -2.883    -2.067\n",
       "female         1.2260      0.280      4.386      0.000         0.678     1.774\n",
       "==============================================================================\n",
       "\"\"\""
      ]
     },
     "metadata": {},
     "output_type": "display_data"
    },
    {
     "name": "stdout",
     "output_type": "stream",
     "text": [
      "Optimization terminated successfully.\n",
      "         Current function value: 0.351723\n",
      "         Iterations 6\n"
     ]
    },
    {
     "data": {
      "text/html": [
       "<table class=\"simpletable\">\n",
       "<caption>Logit Regression Results</caption>\n",
       "<tr>\n",
       "  <th>Dep. Variable:</th>      <td>nas135</td>      <th>  No. Observations:  </th>  <td>   477</td>  \n",
       "</tr>\n",
       "<tr>\n",
       "  <th>Model:</th>               <td>Logit</td>      <th>  Df Residuals:      </th>  <td>   475</td>  \n",
       "</tr>\n",
       "<tr>\n",
       "  <th>Method:</th>               <td>MLE</td>       <th>  Df Model:          </th>  <td>     1</td>  \n",
       "</tr>\n",
       "<tr>\n",
       "  <th>Date:</th>          <td>Sun, 18 Oct 2015</td> <th>  Pseudo R-squ.:     </th>  <td>0.07025</td> \n",
       "</tr>\n",
       "<tr>\n",
       "  <th>Time:</th>              <td>22:25:04</td>     <th>  Log-Likelihood:    </th> <td> -167.77</td> \n",
       "</tr>\n",
       "<tr>\n",
       "  <th>converged:</th>           <td>True</td>       <th>  LL-Null:           </th> <td> -180.45</td> \n",
       "</tr>\n",
       "<tr>\n",
       "  <th> </th>                      <td> </td>        <th>  LLR p-value:       </th> <td>4.777e-07</td>\n",
       "</tr>\n",
       "</table>\n",
       "<table class=\"simpletable\">\n",
       "<tr>\n",
       "      <td></td>         <th>coef</th>     <th>std err</th>      <th>z</th>      <th>P>|z|</th> <th>[95.0% Conf. Int.]</th> \n",
       "</tr>\n",
       "<tr>\n",
       "  <th>Intercept</th> <td>   -5.5926</td> <td>    0.771</td> <td>   -7.251</td> <td> 0.000</td> <td>   -7.104    -4.081</td>\n",
       "</tr>\n",
       "<tr>\n",
       "  <th>runtime</th>   <td>    0.0155</td> <td>    0.003</td> <td>    5.015</td> <td> 0.000</td> <td>    0.009     0.022</td>\n",
       "</tr>\n",
       "</table>"
      ],
      "text/plain": [
       "<class 'statsmodels.iolib.summary.Summary'>\n",
       "\"\"\"\n",
       "                           Logit Regression Results                           \n",
       "==============================================================================\n",
       "Dep. Variable:                 nas135   No. Observations:                  477\n",
       "Model:                          Logit   Df Residuals:                      475\n",
       "Method:                           MLE   Df Model:                            1\n",
       "Date:                Sun, 18 Oct 2015   Pseudo R-squ.:                 0.07025\n",
       "Time:                        22:25:04   Log-Likelihood:                -167.77\n",
       "converged:                       True   LL-Null:                       -180.45\n",
       "                                        LLR p-value:                 4.777e-07\n",
       "==============================================================================\n",
       "                 coef    std err          z      P>|z|      [95.0% Conf. Int.]\n",
       "------------------------------------------------------------------------------\n",
       "Intercept     -5.5926      0.771     -7.251      0.000        -7.104    -4.081\n",
       "runtime        0.0155      0.003      5.015      0.000         0.009     0.022\n",
       "==============================================================================\n",
       "\"\"\""
      ]
     },
     "metadata": {},
     "output_type": "display_data"
    }
   ],
   "source": [
    "hypo = pd.read_csv('./data/hyponatremia.csv')\n",
    "hypolg = logit(formula='nas135 ~ female', data=hypo)\n",
    "hresult = hypolg.fit()\n",
    "display(hresult.summary())\n",
    "runlg = logit(formula='nas135 ~ runtime', data=hypo)\n",
    "display(runlg.fit().summary())"
   ]
  },
  {
   "cell_type": "markdown",
   "metadata": {},
   "source": [
    "#### exercise 4a\n",
    "\n",
    "$\\beta_0 = -2.4749, \\beta_{female} = 1.2260, \\> e^{1.2260} = 3.41 \\Rightarrow$ \n",
    "   - the (odds/log odds) of nas135 is (3.41%/1.22) times for female of that of male.\n",
    "\n",
    "#### exercise 4b\n",
    "\n",
    "$\\beta_{runtime} = 0.0155, \\> e^{0.0155} = 1.0156 \\Rightarrow$ \n",
    "   - the (odds/log odds) of nas135 increases by (1.0156%/0.0155) for every unit increase of runtime. \n",
    "   \n",
    "#### exercise 4c\n",
    "   - the `odds ratio` is the ratio of odds (nas135 y=1,0 | runtime x=1) to odds (nas135 y=1,0 | runtime x=0) (or odd increase of dependent for every unit increase of independent)\n",
    "       - OR = $\\frac { \\pi(1) \\> / \\> 1-\\pi(1) } { \\pi(0) \\> / \\> 1-\\pi(0) } = e^{\\beta_1} = e^{0.0155} = 1.0156 \\>$\n",
    "       - For every increase in runtime, the odds of nas136 increases by 1.0156%.\n",
    "    \n",
    "#### exercise 4d\n",
    "   - the -5.5926 is the log odds of nas136 of runner finishing marathon with 0 minute. This is impossible. The btter way would be to normalize runtime around it's average so the defualt intercept will correspond to runner of average finishing time.\n",
    "\n",
    "#### exercise 4e\n",
    "Odds ratio for runtime difference of 2 hours(120 minutes).\n",
    "   - OR = $e^{0.0155*120} = 6.42$\n",
    "   - 95% confidece interval: $[e^{0.009*120}, e^{0.022*120}] = [2.94, 14.01]$"
   ]
  },
  {
   "cell_type": "code",
   "execution_count": 21,
   "metadata": {
    "collapsed": true
   },
   "outputs": [
    {
     "name": "stdout",
     "output_type": "stream",
     "text": [
      "Optimization terminated successfully.\n",
      "         Current function value: 0.340125\n",
      "         Iterations 7\n"
     ]
    },
    {
     "data": {
      "text/html": [
       "<table class=\"simpletable\">\n",
       "<caption>Logit Regression Results</caption>\n",
       "<tr>\n",
       "  <th>Dep. Variable:</th>      <td>nas135</td>      <th>  No. Observations:  </th>  <td>   477</td>  \n",
       "</tr>\n",
       "<tr>\n",
       "  <th>Model:</th>               <td>Logit</td>      <th>  Df Residuals:      </th>  <td>   474</td>  \n",
       "</tr>\n",
       "<tr>\n",
       "  <th>Method:</th>               <td>MLE</td>       <th>  Df Model:          </th>  <td>     2</td>  \n",
       "</tr>\n",
       "<tr>\n",
       "  <th>Date:</th>          <td>Sun, 18 Oct 2015</td> <th>  Pseudo R-squ.:     </th>  <td>0.1009</td>  \n",
       "</tr>\n",
       "<tr>\n",
       "  <th>Time:</th>              <td>22:25:08</td>     <th>  Log-Likelihood:    </th> <td> -162.24</td> \n",
       "</tr>\n",
       "<tr>\n",
       "  <th>converged:</th>           <td>True</td>       <th>  LL-Null:           </th> <td> -180.45</td> \n",
       "</tr>\n",
       "<tr>\n",
       "  <th> </th>                      <td> </td>        <th>  LLR p-value:       </th> <td>1.237e-08</td>\n",
       "</tr>\n",
       "</table>\n",
       "<table class=\"simpletable\">\n",
       "<tr>\n",
       "      <td></td>         <th>coef</th>     <th>std err</th>      <th>z</th>      <th>P>|z|</th> <th>[95.0% Conf. Int.]</th> \n",
       "</tr>\n",
       "<tr>\n",
       "  <th>Intercept</th> <td>   -5.7211</td> <td>    0.823</td> <td>   -6.949</td> <td> 0.000</td> <td>   -7.335    -4.107</td>\n",
       "</tr>\n",
       "<tr>\n",
       "  <th>female</th>    <td>    0.9638</td> <td>    0.291</td> <td>    3.312</td> <td> 0.001</td> <td>    0.393     1.534</td>\n",
       "</tr>\n",
       "<tr>\n",
       "  <th>runtime</th>   <td>    0.0142</td> <td>    0.003</td> <td>    4.314</td> <td> 0.000</td> <td>    0.008     0.021</td>\n",
       "</tr>\n",
       "</table>"
      ],
      "text/plain": [
       "<class 'statsmodels.iolib.summary.Summary'>\n",
       "\"\"\"\n",
       "                           Logit Regression Results                           \n",
       "==============================================================================\n",
       "Dep. Variable:                 nas135   No. Observations:                  477\n",
       "Model:                          Logit   Df Residuals:                      474\n",
       "Method:                           MLE   Df Model:                            2\n",
       "Date:                Sun, 18 Oct 2015   Pseudo R-squ.:                  0.1009\n",
       "Time:                        22:25:08   Log-Likelihood:                -162.24\n",
       "converged:                       True   LL-Null:                       -180.45\n",
       "                                        LLR p-value:                 1.237e-08\n",
       "==============================================================================\n",
       "                 coef    std err          z      P>|z|      [95.0% Conf. Int.]\n",
       "------------------------------------------------------------------------------\n",
       "Intercept     -5.7211      0.823     -6.949      0.000        -7.335    -4.107\n",
       "female         0.9638      0.291      3.312      0.001         0.393     1.534\n",
       "runtime        0.0142      0.003      4.314      0.000         0.008     0.021\n",
       "==============================================================================\n",
       "\"\"\""
      ]
     },
     "metadata": {},
     "output_type": "display_data"
    }
   ],
   "source": [
    "hyporf = logit(formula='nas135 ~ female + runtime', data=hypo)\n",
    "display(hyporf.fit().summary())"
   ]
  },
  {
   "cell_type": "markdown",
   "metadata": {},
   "source": [
    "#### exercise 4f\n",
    "   - $\\beta_{female} = 0.9638, \\beta_{runtime} = 0.0142$\n",
    "   - Log odds of nas135 for female runner is 0.9638 times that of male's.\n",
    "   - Log odds of nas135 increases by 0.0142 for every minute increase of runtime.\n",
    "   \n",
    "#### exercise 4g\n",
    "   - Compared to coefficient of the female only model, $\\beta_{female}$ decreases by 21.39% (1.2260 to 0.9638)\n",
    "   \n",
    "#### exercise 4h\n",
    "   - Odds ratio of hyponatremia for female vs male: $e^{\\beta_1} = e^{0.9638} = 2.62 \\>$"
   ]
  },
  {
   "cell_type": "code",
   "execution_count": 22,
   "metadata": {
    "collapsed": true
   },
   "outputs": [
    {
     "data": {
      "text/plain": [
       "<matplotlib.axes._subplots.AxesSubplot at 0x10aa14250>"
      ]
     },
     "execution_count": 22,
     "metadata": {},
     "output_type": "execute_result"
    },
    {
     "data": {
      "image/png": "[encoded data removed]",
      "text/plain": [
       "<matplotlib.figure.Figure at 0x10aa14550>"
      ]
     },
     "metadata": {},
     "output_type": "display_data"
    }
   ],
   "source": [
    "subdf = pd.DataFrame(columns=['runtime','female'])\n",
    "subdf['runtime'] = hypo.runtime\n",
    "subdf['female'] = hypo.female\n",
    "subdf.boxplot(by='female')"
   ]
  },
  {
   "cell_type": "markdown",
   "metadata": {},
   "source": [
    "#### exercise 4i\n",
    "   - there is a positive association between `female` and `runtime` factor since `female` coefficient decreased upon introduction of `runtime` factor. Also becasue `female` coefficient changed(decreased) by almost 21%, and `runtime` also having positive relationship with `nas135`, we can conclude that `runtime` is a confounding factor here."
   ]
  },
  {
   "cell_type": "code",
   "execution_count": 24,
   "metadata": {
    "collapsed": true
   },
   "outputs": [
    {
     "name": "stdout",
     "output_type": "stream",
     "text": [
      "Optimization terminated successfully.\n",
      "         Current function value: 0.339935\n",
      "         Iterations 7\n"
     ]
    },
    {
     "data": {
      "text/html": [
       "<table class=\"simpletable\">\n",
       "<caption>Logit Regression Results</caption>\n",
       "<tr>\n",
       "  <th>Dep. Variable:</th>      <td>nas135</td>      <th>  No. Observations:  </th>  <td>   477</td>  \n",
       "</tr>\n",
       "<tr>\n",
       "  <th>Model:</th>               <td>Logit</td>      <th>  Df Residuals:      </th>  <td>   473</td>  \n",
       "</tr>\n",
       "<tr>\n",
       "  <th>Method:</th>               <td>MLE</td>       <th>  Df Model:          </th>  <td>     3</td>  \n",
       "</tr>\n",
       "<tr>\n",
       "  <th>Date:</th>          <td>Sun, 18 Oct 2015</td> <th>  Pseudo R-squ.:     </th>  <td>0.1014</td>  \n",
       "</tr>\n",
       "<tr>\n",
       "  <th>Time:</th>              <td>22:25:19</td>     <th>  Log-Likelihood:    </th> <td> -162.15</td> \n",
       "</tr>\n",
       "<tr>\n",
       "  <th>converged:</th>           <td>True</td>       <th>  LL-Null:           </th> <td> -180.45</td> \n",
       "</tr>\n",
       "<tr>\n",
       "  <th> </th>                      <td> </td>        <th>  LLR p-value:       </th> <td>5.597e-08</td>\n",
       "</tr>\n",
       "</table>\n",
       "<table class=\"simpletable\">\n",
       "<tr>\n",
       "         <td></td>           <th>coef</th>     <th>std err</th>      <th>z</th>      <th>P>|z|</th> <th>[95.0% Conf. Int.]</th> \n",
       "</tr>\n",
       "<tr>\n",
       "  <th>Intercept</th>      <td>   -6.0067</td> <td>    1.068</td> <td>   -5.626</td> <td> 0.000</td> <td>   -8.099    -3.914</td>\n",
       "</tr>\n",
       "<tr>\n",
       "  <th>female</th>         <td>    1.6644</td> <td>    1.666</td> <td>    0.999</td> <td> 0.318</td> <td>   -1.601     4.930</td>\n",
       "</tr>\n",
       "<tr>\n",
       "  <th>runtime</th>        <td>    0.0154</td> <td>    0.004</td> <td>    3.581</td> <td> 0.000</td> <td>    0.007     0.024</td>\n",
       "</tr>\n",
       "<tr>\n",
       "  <th>female:runtime</th> <td>   -0.0028</td> <td>    0.007</td> <td>   -0.427</td> <td> 0.669</td> <td>   -0.016     0.010</td>\n",
       "</tr>\n",
       "</table>"
      ],
      "text/plain": [
       "<class 'statsmodels.iolib.summary.Summary'>\n",
       "\"\"\"\n",
       "                           Logit Regression Results                           \n",
       "==============================================================================\n",
       "Dep. Variable:                 nas135   No. Observations:                  477\n",
       "Model:                          Logit   Df Residuals:                      473\n",
       "Method:                           MLE   Df Model:                            3\n",
       "Date:                Sun, 18 Oct 2015   Pseudo R-squ.:                  0.1014\n",
       "Time:                        22:25:19   Log-Likelihood:                -162.15\n",
       "converged:                       True   LL-Null:                       -180.45\n",
       "                                        LLR p-value:                 5.597e-08\n",
       "==================================================================================\n",
       "                     coef    std err          z      P>|z|      [95.0% Conf. Int.]\n",
       "----------------------------------------------------------------------------------\n",
       "Intercept         -6.0067      1.068     -5.626      0.000        -8.099    -3.914\n",
       "female             1.6644      1.666      0.999      0.318        -1.601     4.930\n",
       "runtime            0.0154      0.004      3.581      0.000         0.007     0.024\n",
       "female:runtime    -0.0028      0.007     -0.427      0.669        -0.016     0.010\n",
       "==================================================================================\n",
       "\"\"\""
      ]
     },
     "metadata": {},
     "output_type": "display_data"
    }
   ],
   "source": [
    "### exercise 4i\n",
    "hypo = pd.read_csv('./data/hyponatremia.csv')\n",
    "ilg = logit(formula='nas135 ~ female*runtime', data=hypo)\n",
    "iresult = ilg.fit()\n",
    "display(iresult.summary())"
   ]
  },
  {
   "cell_type": "markdown",
   "metadata": {},
   "source": [
    "#### exercise 4j: assess interaction between `female` and `runtime`\n",
    "   - interaction `female vs runtime` of -0.0028 has p-value of non-significant 0.669 > (0.05 95%), thus no interactions."
   ]
  },
  {
   "cell_type": "code",
   "execution_count": 25,
   "metadata": {
    "collapsed": true
   },
   "outputs": [
    {
     "name": "stdout",
     "output_type": "stream",
     "text": [
      "Optimization terminated successfully.\n",
      "         Current function value: 0.339935\n",
      "         Iterations 7\n"
     ]
    },
    {
     "data": {
      "text/html": [
       "<table class=\"simpletable\">\n",
       "<caption>Logit Regression Results</caption>\n",
       "<tr>\n",
       "  <th>Dep. Variable:</th>      <td>nas135</td>      <th>  No. Observations:  </th>  <td>   477</td>  \n",
       "</tr>\n",
       "<tr>\n",
       "  <th>Model:</th>               <td>Logit</td>      <th>  Df Residuals:      </th>  <td>   473</td>  \n",
       "</tr>\n",
       "<tr>\n",
       "  <th>Method:</th>               <td>MLE</td>       <th>  Df Model:          </th>  <td>     3</td>  \n",
       "</tr>\n",
       "<tr>\n",
       "  <th>Date:</th>          <td>Sun, 18 Oct 2015</td> <th>  Pseudo R-squ.:     </th>  <td>0.1014</td>  \n",
       "</tr>\n",
       "<tr>\n",
       "  <th>Time:</th>              <td>22:25:26</td>     <th>  Log-Likelihood:    </th> <td> -162.15</td> \n",
       "</tr>\n",
       "<tr>\n",
       "  <th>converged:</th>           <td>True</td>       <th>  LL-Null:           </th> <td> -180.45</td> \n",
       "</tr>\n",
       "<tr>\n",
       "  <th> </th>                      <td> </td>        <th>  LLR p-value:       </th> <td>5.597e-08</td>\n",
       "</tr>\n",
       "</table>\n",
       "<table class=\"simpletable\">\n",
       "<tr>\n",
       "         <td></td>           <th>coef</th>     <th>std err</th>      <th>z</th>      <th>P>|z|</th> <th>[95.0% Conf. Int.]</th> \n",
       "</tr>\n",
       "<tr>\n",
       "  <th>Intercept</th>      <td>   -6.0067</td> <td>    1.068</td> <td>   -5.626</td> <td> 0.000</td> <td>   -8.099    -3.914</td>\n",
       "</tr>\n",
       "<tr>\n",
       "  <th>female</th>         <td>    1.6644</td> <td>    1.666</td> <td>    0.999</td> <td> 0.318</td> <td>   -1.601     4.930</td>\n",
       "</tr>\n",
       "<tr>\n",
       "  <th>runtime</th>        <td>    0.0154</td> <td>    0.004</td> <td>    3.581</td> <td> 0.000</td> <td>    0.007     0.024</td>\n",
       "</tr>\n",
       "<tr>\n",
       "  <th>female:runtime</th> <td>   -0.0028</td> <td>    0.007</td> <td>   -0.427</td> <td> 0.669</td> <td>   -0.016     0.010</td>\n",
       "</tr>\n",
       "</table>"
      ],
      "text/plain": [
       "<class 'statsmodels.iolib.summary.Summary'>\n",
       "\"\"\"\n",
       "                           Logit Regression Results                           \n",
       "==============================================================================\n",
       "Dep. Variable:                 nas135   No. Observations:                  477\n",
       "Model:                          Logit   Df Residuals:                      473\n",
       "Method:                           MLE   Df Model:                            3\n",
       "Date:                Sun, 18 Oct 2015   Pseudo R-squ.:                  0.1014\n",
       "Time:                        22:25:26   Log-Likelihood:                -162.15\n",
       "converged:                       True   LL-Null:                       -180.45\n",
       "                                        LLR p-value:                 5.597e-08\n",
       "==================================================================================\n",
       "                     coef    std err          z      P>|z|      [95.0% Conf. Int.]\n",
       "----------------------------------------------------------------------------------\n",
       "Intercept         -6.0067      1.068     -5.626      0.000        -8.099    -3.914\n",
       "female             1.6644      1.666      0.999      0.318        -1.601     4.930\n",
       "runtime            0.0154      0.004      3.581      0.000         0.007     0.024\n",
       "female:runtime    -0.0028      0.007     -0.427      0.669        -0.016     0.010\n",
       "==================================================================================\n",
       "\"\"\""
      ]
     },
     "metadata": {},
     "output_type": "display_data"
    }
   ],
   "source": [
    "### exercise 4j\n",
    "hypo = pd.read_csv('./data/hyponatremia.csv')\n",
    "ilg = logit(formula='nas135 ~ female*runtime', data=hypo)\n",
    "iresult = ilg.fit()\n",
    "display(iresult.summary())"
   ]
  },
  {
   "cell_type": "markdown",
   "metadata": {},
   "source": [
    "#### exercise 4k: introduce variable `wtidiff(1 or 0)` to the model.\n",
    "   - interaction of `female` vs `wgain` of -1.0959 has p-value of 0.074, this could be deemed either way depending on the confidence interval. (0.074 > 0.1 90% confidence interval thus significant)"
   ]
  },
  {
   "cell_type": "code",
   "execution_count": 26,
   "metadata": {
    "collapsed": true
   },
   "outputs": [
    {
     "name": "stdout",
     "output_type": "stream",
     "text": [
      "Optimization terminated successfully.\n",
      "         Current function value: 0.308133\n",
      "         Iterations 8\n"
     ]
    },
    {
     "data": {
      "text/html": [
       "<table class=\"simpletable\">\n",
       "<caption>Logit Regression Results</caption>\n",
       "<tr>\n",
       "  <th>Dep. Variable:</th>      <td>nas135</td>      <th>  No. Observations:  </th>  <td>   477</td>  \n",
       "</tr>\n",
       "<tr>\n",
       "  <th>Model:</th>               <td>Logit</td>      <th>  Df Residuals:      </th>  <td>   472</td>  \n",
       "</tr>\n",
       "<tr>\n",
       "  <th>Method:</th>               <td>MLE</td>       <th>  Df Model:          </th>  <td>     4</td>  \n",
       "</tr>\n",
       "<tr>\n",
       "  <th>Date:</th>          <td>Sun, 18 Oct 2015</td> <th>  Pseudo R-squ.:     </th>  <td>0.1855</td>  \n",
       "</tr>\n",
       "<tr>\n",
       "  <th>Time:</th>              <td>22:25:33</td>     <th>  Log-Likelihood:    </th> <td> -146.98</td> \n",
       "</tr>\n",
       "<tr>\n",
       "  <th>converged:</th>           <td>True</td>       <th>  LL-Null:           </th> <td> -180.45</td> \n",
       "</tr>\n",
       "<tr>\n",
       "  <th> </th>                      <td> </td>        <th>  LLR p-value:       </th> <td>1.005e-13</td>\n",
       "</tr>\n",
       "</table>\n",
       "<table class=\"simpletable\">\n",
       "<tr>\n",
       "        <td></td>          <th>coef</th>     <th>std err</th>      <th>z</th>      <th>P>|z|</th> <th>[95.0% Conf. Int.]</th> \n",
       "</tr>\n",
       "<tr>\n",
       "  <th>Intercept</th>    <td>   -6.7655</td> <td>    0.964</td> <td>   -7.020</td> <td> 0.000</td> <td>   -8.654    -4.877</td>\n",
       "</tr>\n",
       "<tr>\n",
       "  <th>female</th>       <td>    1.4143</td> <td>    0.465</td> <td>    3.039</td> <td> 0.002</td> <td>    0.502     2.326</td>\n",
       "</tr>\n",
       "<tr>\n",
       "  <th>wgain</th>        <td>    2.1553</td> <td>    0.464</td> <td>    4.648</td> <td> 0.000</td> <td>    1.246     3.064</td>\n",
       "</tr>\n",
       "<tr>\n",
       "  <th>female:wgain</th> <td>   -1.0959</td> <td>    0.614</td> <td>   -1.785</td> <td> 0.074</td> <td>   -2.299     0.107</td>\n",
       "</tr>\n",
       "<tr>\n",
       "  <th>runtime</th>      <td>    0.0147</td> <td>    0.004</td> <td>    4.066</td> <td> 0.000</td> <td>    0.008     0.022</td>\n",
       "</tr>\n",
       "</table>"
      ],
      "text/plain": [
       "<class 'statsmodels.iolib.summary.Summary'>\n",
       "\"\"\"\n",
       "                           Logit Regression Results                           \n",
       "==============================================================================\n",
       "Dep. Variable:                 nas135   No. Observations:                  477\n",
       "Model:                          Logit   Df Residuals:                      472\n",
       "Method:                           MLE   Df Model:                            4\n",
       "Date:                Sun, 18 Oct 2015   Pseudo R-squ.:                  0.1855\n",
       "Time:                        22:25:33   Log-Likelihood:                -146.98\n",
       "converged:                       True   LL-Null:                       -180.45\n",
       "                                        LLR p-value:                 1.005e-13\n",
       "================================================================================\n",
       "                   coef    std err          z      P>|z|      [95.0% Conf. Int.]\n",
       "--------------------------------------------------------------------------------\n",
       "Intercept       -6.7655      0.964     -7.020      0.000        -8.654    -4.877\n",
       "female           1.4143      0.465      3.039      0.002         0.502     2.326\n",
       "wgain            2.1553      0.464      4.648      0.000         1.246     3.064\n",
       "female:wgain    -1.0959      0.614     -1.785      0.074        -2.299     0.107\n",
       "runtime          0.0147      0.004      4.066      0.000         0.008     0.022\n",
       "================================================================================\n",
       "\"\"\""
      ]
     },
     "metadata": {},
     "output_type": "display_data"
    }
   ],
   "source": [
    "### exercise 4j\n",
    "hypo = pd.read_csv('./data/hyponatremia.csv')\n",
    "hypo['wgain'] = hypo['wtdiff'].map(lambda x: 0 if x <= 0 or np.isnan(x) else 1)\n",
    "klg = logit(formula='nas135 ~ female*wgain + runtime', data=hypo)\n",
    "kresult = klg.fit()\n",
    "display(kresult.summary())"
   ]
  },
  {
   "cell_type": "markdown",
   "metadata": {},
   "source": [
    "#### exercise 4l: odds ratio of `nas135` on `wgain` for male / female.\n",
    "   - **logit**: $\\beta_0 + \\beta_{1female} + \\beta_{2wgain} + \\beta_{3female*wgain} + \\beta_{4runtime}$\n",
    "   - for male(wgain(1,0), female(0)): $(\\beta_0 + \\beta_2 + \\beta_4) - (\\beta_0 + \\beta_4) = \\beta_2 \\Rightarrow e^{\\beta_2=2.1553} = 8.63$\n",
    "       - for males, odds of `nas135` is 8.63 times greater who gained weights vs not gained weights\n",
    "   - for female(wgain(1,0), female(1)): $(\\beta_0 + \\beta_1 + \\beta_2 + \\beta_3 + \\beta_4) - (\\beta_0 + \\beta_1 + \\beta_4) = \\beta_2 + \\beta_3 = 2.1533 - 1.0959 = 2.88$\n",
    "       - for females, odds of `nas135` is 2.88 times greater who gained weights vs not gained weights\n",
    "   - **logit transformation** : $g(x) = ln(\\frac{\\pi(x)} {1-\\pi(x)}) = ln(e^{\\beta_0 + \\beta_1{AGE} + \\beta_2{CAN} + \\beta_3{CPR} + \\beta_4{INF} + \\beta5{RACE2} + \\beta6{RACE3}}) = \\beta_0 + \\beta_1{AGE} + \\beta_2{CAN} + \\beta_3{CPR} + \\beta_4{INF} + \\beta5{RACE2} + \\beta6{RACE3}$\n"
   ]
  },
  {
   "cell_type": "markdown",
   "metadata": {},
   "source": [
    "#### exercise 4l\n",
    "   - there is a positive association between `female` and `runtime` factor since `female` coefficient decreased upon introduction of `runtime` factor. Also becasue `female` coefficient changed(decreased) by almost 21%, and `runtime` also having positive relationship with `nas135`, we can conclude that `runtime` is a confounding factor here."
   ]
  },
  {
   "cell_type": "code",
   "execution_count": 27,
   "metadata": {
    "collapsed": true
   },
   "outputs": [
    {
     "name": "stdout",
     "output_type": "stream",
     "text": [
      "Optimization terminated successfully.\n",
      "         Current function value: 0.349614\n",
      "         Iterations 7\n"
     ]
    },
    {
     "data": {
      "text/html": [
       "<table class=\"simpletable\">\n",
       "<caption>Logit Regression Results</caption>\n",
       "<tr>\n",
       "  <th>Dep. Variable:</th>      <td>nas135</td>      <th>  No. Observations:  </th>  <td>   488</td>  \n",
       "</tr>\n",
       "<tr>\n",
       "  <th>Model:</th>               <td>Logit</td>      <th>  Df Residuals:      </th>  <td>   485</td>  \n",
       "</tr>\n",
       "<tr>\n",
       "  <th>Method:</th>               <td>MLE</td>       <th>  Df Model:          </th>  <td>     2</td>  \n",
       "</tr>\n",
       "<tr>\n",
       "  <th>Date:</th>          <td>Sun, 18 Oct 2015</td> <th>  Pseudo R-squ.:     </th>  <td>0.08175</td> \n",
       "</tr>\n",
       "<tr>\n",
       "  <th>Time:</th>              <td>22:25:38</td>     <th>  Log-Likelihood:    </th> <td> -170.61</td> \n",
       "</tr>\n",
       "<tr>\n",
       "  <th>converged:</th>           <td>True</td>       <th>  LL-Null:           </th> <td> -185.80</td> \n",
       "</tr>\n",
       "<tr>\n",
       "  <th> </th>                      <td> </td>        <th>  LLR p-value:       </th> <td>2.533e-07</td>\n",
       "</tr>\n",
       "</table>\n",
       "<table class=\"simpletable\">\n",
       "<tr>\n",
       "      <td></td>         <th>coef</th>     <th>std err</th>      <th>z</th>      <th>P>|z|</th> <th>[95.0% Conf. Int.]</th> \n",
       "</tr>\n",
       "<tr>\n",
       "  <th>Intercept</th> <td>   -4.6055</td> <td>    0.744</td> <td>   -6.193</td> <td> 0.000</td> <td>   -6.063    -3.148</td>\n",
       "</tr>\n",
       "<tr>\n",
       "  <th>female</th>    <td>    1.0834</td> <td>    0.285</td> <td>    3.795</td> <td> 0.000</td> <td>    0.524     1.643</td>\n",
       "</tr>\n",
       "<tr>\n",
       "  <th>runtime</th>   <td>    0.0095</td> <td>    0.003</td> <td>    3.104</td> <td> 0.002</td> <td>    0.004     0.016</td>\n",
       "</tr>\n",
       "</table>"
      ],
      "text/plain": [
       "<class 'statsmodels.iolib.summary.Summary'>\n",
       "\"\"\"\n",
       "                           Logit Regression Results                           \n",
       "==============================================================================\n",
       "Dep. Variable:                 nas135   No. Observations:                  488\n",
       "Model:                          Logit   Df Residuals:                      485\n",
       "Method:                           MLE   Df Model:                            2\n",
       "Date:                Sun, 18 Oct 2015   Pseudo R-squ.:                 0.08175\n",
       "Time:                        22:25:38   Log-Likelihood:                -170.61\n",
       "converged:                       True   LL-Null:                       -185.80\n",
       "                                        LLR p-value:                 2.533e-07\n",
       "==============================================================================\n",
       "                 coef    std err          z      P>|z|      [95.0% Conf. Int.]\n",
       "------------------------------------------------------------------------------\n",
       "Intercept     -4.6055      0.744     -6.193      0.000        -6.063    -3.148\n",
       "female         1.0834      0.285      3.795      0.000         0.524     1.643\n",
       "runtime        0.0095      0.003      3.104      0.002         0.004     0.016\n",
       "==============================================================================\n",
       "\"\"\""
      ]
     },
     "metadata": {},
     "output_type": "display_data"
    },
    {
     "name": "stdout",
     "output_type": "stream",
     "text": [
      "Optimization terminated successfully.\n",
      "         Current function value: 0.310751\n",
      "         Iterations 7\n"
     ]
    },
    {
     "data": {
      "text/html": [
       "<table class=\"simpletable\">\n",
       "<caption>Logit Regression Results</caption>\n",
       "<tr>\n",
       "  <th>Dep. Variable:</th>      <td>nas135</td>      <th>  No. Observations:  </th>  <td>   488</td>  \n",
       "</tr>\n",
       "<tr>\n",
       "  <th>Model:</th>               <td>Logit</td>      <th>  Df Residuals:      </th>  <td>   482</td>  \n",
       "</tr>\n",
       "<tr>\n",
       "  <th>Method:</th>               <td>MLE</td>       <th>  Df Model:          </th>  <td>     5</td>  \n",
       "</tr>\n",
       "<tr>\n",
       "  <th>Date:</th>          <td>Sun, 18 Oct 2015</td> <th>  Pseudo R-squ.:     </th>  <td>0.1838</td>  \n",
       "</tr>\n",
       "<tr>\n",
       "  <th>Time:</th>              <td>22:25:38</td>     <th>  Log-Likelihood:    </th> <td> -151.65</td> \n",
       "</tr>\n",
       "<tr>\n",
       "  <th>converged:</th>           <td>True</td>       <th>  LL-Null:           </th> <td> -185.80</td> \n",
       "</tr>\n",
       "<tr>\n",
       "  <th> </th>                      <td> </td>        <th>  LLR p-value:       </th> <td>2.305e-13</td>\n",
       "</tr>\n",
       "</table>\n",
       "<table class=\"simpletable\">\n",
       "<tr>\n",
       "      <td></td>         <th>coef</th>     <th>std err</th>      <th>z</th>      <th>P>|z|</th> <th>[95.0% Conf. Int.]</th> \n",
       "</tr>\n",
       "<tr>\n",
       "  <th>Intercept</th> <td>   -6.0762</td> <td>    0.967</td> <td>   -6.286</td> <td> 0.000</td> <td>   -7.971    -4.181</td>\n",
       "</tr>\n",
       "<tr>\n",
       "  <th>female</th>    <td>    1.1366</td> <td>    0.315</td> <td>    3.607</td> <td> 0.000</td> <td>    0.519     1.754</td>\n",
       "</tr>\n",
       "<tr>\n",
       "  <th>runtime</th>   <td>    0.0080</td> <td>    0.003</td> <td>    2.466</td> <td> 0.014</td> <td>    0.002     0.014</td>\n",
       "</tr>\n",
       "<tr>\n",
       "  <th>wgain</th>     <td>    1.7475</td> <td>    0.313</td> <td>    5.580</td> <td> 0.000</td> <td>    1.134     2.361</td>\n",
       "</tr>\n",
       "<tr>\n",
       "  <th>urinat3p</th>  <td>    0.8557</td> <td>    0.523</td> <td>    1.637</td> <td> 0.102</td> <td>   -0.169     1.880</td>\n",
       "</tr>\n",
       "<tr>\n",
       "  <th>bmi</th>       <td>    0.0400</td> <td>    0.032</td> <td>    1.266</td> <td> 0.206</td> <td>   -0.022     0.102</td>\n",
       "</tr>\n",
       "</table>"
      ],
      "text/plain": [
       "<class 'statsmodels.iolib.summary.Summary'>\n",
       "\"\"\"\n",
       "                           Logit Regression Results                           \n",
       "==============================================================================\n",
       "Dep. Variable:                 nas135   No. Observations:                  488\n",
       "Model:                          Logit   Df Residuals:                      482\n",
       "Method:                           MLE   Df Model:                            5\n",
       "Date:                Sun, 18 Oct 2015   Pseudo R-squ.:                  0.1838\n",
       "Time:                        22:25:38   Log-Likelihood:                -151.65\n",
       "converged:                       True   LL-Null:                       -185.80\n",
       "                                        LLR p-value:                 2.305e-13\n",
       "==============================================================================\n",
       "                 coef    std err          z      P>|z|      [95.0% Conf. Int.]\n",
       "------------------------------------------------------------------------------\n",
       "Intercept     -6.0762      0.967     -6.286      0.000        -7.971    -4.181\n",
       "female         1.1366      0.315      3.607      0.000         0.519     1.754\n",
       "runtime        0.0080      0.003      2.466      0.014         0.002     0.014\n",
       "wgain          1.7475      0.313      5.580      0.000         1.134     2.361\n",
       "urinat3p       0.8557      0.523      1.637      0.102        -0.169     1.880\n",
       "bmi            0.0400      0.032      1.266      0.206        -0.022     0.102\n",
       "==============================================================================\n",
       "\"\"\""
      ]
     },
     "metadata": {},
     "output_type": "display_data"
    }
   ],
   "source": [
    "### exercise 4m\n",
    "hypo = pd.read_csv('./data/hyponatremia.csv')\n",
    "hypo['wgain'] = hypo['wtdiff'].map(lambda x: 0 if x <= 0 else 1)\n",
    "hypo.fillna(0, inplace=True)\n",
    "# display(hypo)\n",
    "lg1 = logit(formula='nas135 ~ female + runtime', data=hypo)\n",
    "display(lg1.fit().summary())\n",
    "lg2 = logit(formula='nas135 ~ female + runtime + wgain + urinat3p + bmi', data=hypo)\n",
    "display(lg2.fit().summary())"
   ]
  },
  {
   "cell_type": "markdown",
   "metadata": {},
   "source": [
    "#### exercise 4m: likelihood ratio test for models: `female runtime` vs `female runtime wgain urinat3p bmi`.\n",
    "   - difference in # of features is 3 (degrees of freedom)\n",
    "   - likelihood ratio test??"
   ]
  },
  {
   "cell_type": "markdown",
   "metadata": {},
   "source": [
    "# Week5\n",
    "\n",
    "**multivariable logistic regression** \n",
    " - each estimated coefficient provides an estimate of the log odds ratio adjusting for all other variables included in the model.\n",
    " - in other words in order to measure the effect of independent variable, all other independent variables should be `adjusted(controlled)` for each groups.\n",
    " - 2 assumption that need to be tested:\n",
    "     - `linear relationship` between independent(controlled) and dependent variables.\n",
    "     - each group has `same non-zero` slope.\n",
    "     \n",
    "**confounder variable**\n",
    " - let $g(x,a) = \\beta_0 + \\beta_1{x} + \\beta_2{a}$\n",
    " - here, **`a`** is related to both outcome, response(`y`) and grouping, exposure(`x`), making it a `confounder`.\n",
    " - then, $OR = e^{\\beta1 + \\beta2{(\\bar{a_2} - \\bar{a_1)}}}$ which is incorrectly estimated because of the **`a(confounder)`** variable difference.\n",
    " - to adjust for this, calculate the logit difference at common **`a(confounder) value`**\n",
    "     - $g(x=1,\\bar{a}) - g(x=0,\\bar{a}) = \\beta_1$ = is the log-odds ratio from a univeriable comparison if the two groups had the same mean `counfounder` value, $\\bar{a}$.\n",
    " - the adjusted log odds ratio applies to all continuous, dichotomous, or polychotomous varilables.\n",
    " - the effectiveness of the adjustment is entirely dependent on the above 2 assumptions.\n",
    " \n",
    "**interaction and confounding**\n",
    " - when a covariate(z) is associated both with the outcome variable and the primary independent variable(risk factor), then the relationship between the risk factor and the outcome variable is said to be `counfounded`.\n",
    " - if there is an interaction, the covariate changes the effect of risk factor on outcome variable. (e.g, at different risk factor level, the log-odds diff is **not constant** )\n",
    " - if the association between the covariate and the outcome is the same within each level of risk factor(exposure group), then there is `no interaction` between the covariate and the risk factor. (log-odds ratio are constant regardless of the covariate.)\n",
    " - model to use: $g(x,a) = \\beta_0 + \\beta_1{x} + \\beta_2{a} + \\beta_3{xa}$\n",
    "     - for group 1: x=0, $g(x,a) = \\beta_0 + \\beta_2{a}$\n",
    "     - for group 2: x=1, $g(x,a) = \\beta_0 + \\beta_1 + \\beta_2{a} + \\beta_3{a}$\n",
    "     - if $\\beta_3 = 0$, no interaction, if not then otherwise.\n",
    " - if the estimated coefficient of risk factor between models with/without covariate differ significantly(~15%), the covariate is the `confounder` and should be included in the model. (regardless of statistical significance of the estimated coefficient for the covariate)\n",
    "\n",
    "** effect modifier **\n",
    "- to determine whether z is an `effect modifier`:\n",
    "    - fit a model including the interaction term\n",
    "    - is an effect modifier only when the interaction term is both biologically significant and statistically significant.\n",
    "    - a covariate cannot be both `confounder and effect modifier`, because the effect of risk factor depends on specific value of the covariate."
   ]
  },
  {
   "cell_type": "markdown",
   "metadata": {},
   "source": [
    "### Exercise 1"
   ]
  },
  {
   "cell_type": "code",
   "execution_count": 28,
   "metadata": {
    "collapsed": false
   },
   "outputs": [
    {
     "name": "stdout",
     "output_type": "stream",
     "text": [
      "Optimization terminated successfully.\n",
      "         Current function value: 0.360585\n",
      "         Iterations 6\n"
     ]
    },
    {
     "data": {
      "text/html": [
       "<table class=\"simpletable\">\n",
       "<caption>Logit Regression Results</caption>\n",
       "<tr>\n",
       "  <th>Dep. Variable:</th>      <td>nas135</td>      <th>  No. Observations:  </th>  <td>   488</td>  \n",
       "</tr>\n",
       "<tr>\n",
       "  <th>Model:</th>               <td>Logit</td>      <th>  Df Residuals:      </th>  <td>   486</td>  \n",
       "</tr>\n",
       "<tr>\n",
       "  <th>Method:</th>               <td>MLE</td>       <th>  Df Model:          </th>  <td>     1</td>  \n",
       "</tr>\n",
       "<tr>\n",
       "  <th>Date:</th>          <td>Sun, 18 Oct 2015</td> <th>  Pseudo R-squ.:     </th>  <td>0.05293</td> \n",
       "</tr>\n",
       "<tr>\n",
       "  <th>Time:</th>              <td>22:25:46</td>     <th>  Log-Likelihood:    </th> <td> -175.97</td> \n",
       "</tr>\n",
       "<tr>\n",
       "  <th>converged:</th>           <td>True</td>       <th>  LL-Null:           </th> <td> -185.80</td> \n",
       "</tr>\n",
       "<tr>\n",
       "  <th> </th>                      <td> </td>        <th>  LLR p-value:       </th> <td>9.204e-06</td>\n",
       "</tr>\n",
       "</table>\n",
       "<table class=\"simpletable\">\n",
       "<tr>\n",
       "      <td></td>         <th>coef</th>     <th>std err</th>      <th>z</th>      <th>P>|z|</th> <th>[95.0% Conf. Int.]</th> \n",
       "</tr>\n",
       "<tr>\n",
       "  <th>Intercept</th> <td>   -2.4749</td> <td>    0.208</td> <td>  -11.884</td> <td> 0.000</td> <td>   -2.883    -2.067</td>\n",
       "</tr>\n",
       "<tr>\n",
       "  <th>female</th>    <td>    1.2260</td> <td>    0.280</td> <td>    4.386</td> <td> 0.000</td> <td>    0.678     1.774</td>\n",
       "</tr>\n",
       "</table>"
      ],
      "text/plain": [
       "<class 'statsmodels.iolib.summary.Summary'>\n",
       "\"\"\"\n",
       "                           Logit Regression Results                           \n",
       "==============================================================================\n",
       "Dep. Variable:                 nas135   No. Observations:                  488\n",
       "Model:                          Logit   Df Residuals:                      486\n",
       "Method:                           MLE   Df Model:                            1\n",
       "Date:                Sun, 18 Oct 2015   Pseudo R-squ.:                 0.05293\n",
       "Time:                        22:25:46   Log-Likelihood:                -175.97\n",
       "converged:                       True   LL-Null:                       -185.80\n",
       "                                        LLR p-value:                 9.204e-06\n",
       "==============================================================================\n",
       "                 coef    std err          z      P>|z|      [95.0% Conf. Int.]\n",
       "------------------------------------------------------------------------------\n",
       "Intercept     -2.4749      0.208    -11.884      0.000        -2.883    -2.067\n",
       "female         1.2260      0.280      4.386      0.000         0.678     1.774\n",
       "==============================================================================\n",
       "\"\"\""
      ]
     },
     "metadata": {},
     "output_type": "display_data"
    },
    {
     "name": "stdout",
     "output_type": "stream",
     "text": [
      "LLRatio 19.6699158338:\n",
      "Optimization terminated successfully.\n",
      "         Current function value: 0.351723\n",
      "         Iterations 6\n"
     ]
    },
    {
     "data": {
      "text/html": [
       "<table class=\"simpletable\">\n",
       "<caption>Logit Regression Results</caption>\n",
       "<tr>\n",
       "  <th>Dep. Variable:</th>      <td>nas135</td>      <th>  No. Observations:  </th>  <td>   477</td>  \n",
       "</tr>\n",
       "<tr>\n",
       "  <th>Model:</th>               <td>Logit</td>      <th>  Df Residuals:      </th>  <td>   475</td>  \n",
       "</tr>\n",
       "<tr>\n",
       "  <th>Method:</th>               <td>MLE</td>       <th>  Df Model:          </th>  <td>     1</td>  \n",
       "</tr>\n",
       "<tr>\n",
       "  <th>Date:</th>          <td>Sun, 18 Oct 2015</td> <th>  Pseudo R-squ.:     </th>  <td>0.07025</td> \n",
       "</tr>\n",
       "<tr>\n",
       "  <th>Time:</th>              <td>22:25:46</td>     <th>  Log-Likelihood:    </th> <td> -167.77</td> \n",
       "</tr>\n",
       "<tr>\n",
       "  <th>converged:</th>           <td>True</td>       <th>  LL-Null:           </th> <td> -180.45</td> \n",
       "</tr>\n",
       "<tr>\n",
       "  <th> </th>                      <td> </td>        <th>  LLR p-value:       </th> <td>4.777e-07</td>\n",
       "</tr>\n",
       "</table>\n",
       "<table class=\"simpletable\">\n",
       "<tr>\n",
       "      <td></td>         <th>coef</th>     <th>std err</th>      <th>z</th>      <th>P>|z|</th> <th>[95.0% Conf. Int.]</th> \n",
       "</tr>\n",
       "<tr>\n",
       "  <th>Intercept</th> <td>   -5.5926</td> <td>    0.771</td> <td>   -7.251</td> <td> 0.000</td> <td>   -7.104    -4.081</td>\n",
       "</tr>\n",
       "<tr>\n",
       "  <th>runtime</th>   <td>    0.0155</td> <td>    0.003</td> <td>    5.015</td> <td> 0.000</td> <td>    0.009     0.022</td>\n",
       "</tr>\n",
       "</table>"
      ],
      "text/plain": [
       "<class 'statsmodels.iolib.summary.Summary'>\n",
       "\"\"\"\n",
       "                           Logit Regression Results                           \n",
       "==============================================================================\n",
       "Dep. Variable:                 nas135   No. Observations:                  477\n",
       "Model:                          Logit   Df Residuals:                      475\n",
       "Method:                           MLE   Df Model:                            1\n",
       "Date:                Sun, 18 Oct 2015   Pseudo R-squ.:                 0.07025\n",
       "Time:                        22:25:46   Log-Likelihood:                -167.77\n",
       "converged:                       True   LL-Null:                       -180.45\n",
       "                                        LLR p-value:                 4.777e-07\n",
       "==============================================================================\n",
       "                 coef    std err          z      P>|z|      [95.0% Conf. Int.]\n",
       "------------------------------------------------------------------------------\n",
       "Intercept     -5.5926      0.771     -7.251      0.000        -7.104    -4.081\n",
       "runtime        0.0155      0.003      5.015      0.000         0.009     0.022\n",
       "==============================================================================\n",
       "\"\"\""
      ]
     },
     "metadata": {},
     "output_type": "display_data"
    },
    {
     "name": "stdout",
     "output_type": "stream",
     "text": [
      "LLRatio 25.3518020553:\n",
      "Optimization terminated successfully.\n",
      "         Current function value: 0.340125\n",
      "         Iterations 7\n",
      "Optimization terminated successfully.\n",
      "         Current function value: 0.340125\n",
      "         Iterations 7\n"
     ]
    },
    {
     "data": {
      "text/html": [
       "<table class=\"simpletable\">\n",
       "<caption>Logit Regression Results</caption>\n",
       "<tr>\n",
       "  <th>Dep. Variable:</th>      <td>nas135</td>      <th>  No. Observations:  </th>  <td>   477</td>  \n",
       "</tr>\n",
       "<tr>\n",
       "  <th>Model:</th>               <td>Logit</td>      <th>  Df Residuals:      </th>  <td>   474</td>  \n",
       "</tr>\n",
       "<tr>\n",
       "  <th>Method:</th>               <td>MLE</td>       <th>  Df Model:          </th>  <td>     2</td>  \n",
       "</tr>\n",
       "<tr>\n",
       "  <th>Date:</th>          <td>Sun, 18 Oct 2015</td> <th>  Pseudo R-squ.:     </th>  <td>0.1009</td>  \n",
       "</tr>\n",
       "<tr>\n",
       "  <th>Time:</th>              <td>22:25:46</td>     <th>  Log-Likelihood:    </th> <td> -162.24</td> \n",
       "</tr>\n",
       "<tr>\n",
       "  <th>converged:</th>           <td>True</td>       <th>  LL-Null:           </th> <td> -180.45</td> \n",
       "</tr>\n",
       "<tr>\n",
       "  <th> </th>                      <td> </td>        <th>  LLR p-value:       </th> <td>1.237e-08</td>\n",
       "</tr>\n",
       "</table>\n",
       "<table class=\"simpletable\">\n",
       "<tr>\n",
       "      <td></td>         <th>coef</th>     <th>std err</th>      <th>z</th>      <th>P>|z|</th> <th>[95.0% Conf. Int.]</th> \n",
       "</tr>\n",
       "<tr>\n",
       "  <th>Intercept</th> <td>   -5.7211</td> <td>    0.823</td> <td>   -6.949</td> <td> 0.000</td> <td>   -7.335    -4.107</td>\n",
       "</tr>\n",
       "<tr>\n",
       "  <th>female</th>    <td>    0.9638</td> <td>    0.291</td> <td>    3.312</td> <td> 0.001</td> <td>    0.393     1.534</td>\n",
       "</tr>\n",
       "<tr>\n",
       "  <th>runtime</th>   <td>    0.0142</td> <td>    0.003</td> <td>    4.314</td> <td> 0.000</td> <td>    0.008     0.021</td>\n",
       "</tr>\n",
       "</table>"
      ],
      "text/plain": [
       "<class 'statsmodels.iolib.summary.Summary'>\n",
       "\"\"\"\n",
       "                           Logit Regression Results                           \n",
       "==============================================================================\n",
       "Dep. Variable:                 nas135   No. Observations:                  477\n",
       "Model:                          Logit   Df Residuals:                      474\n",
       "Method:                           MLE   Df Model:                            2\n",
       "Date:                Sun, 18 Oct 2015   Pseudo R-squ.:                  0.1009\n",
       "Time:                        22:25:46   Log-Likelihood:                -162.24\n",
       "converged:                       True   LL-Null:                       -180.45\n",
       "                                        LLR p-value:                 1.237e-08\n",
       "==============================================================================\n",
       "                 coef    std err          z      P>|z|      [95.0% Conf. Int.]\n",
       "------------------------------------------------------------------------------\n",
       "Intercept     -5.7211      0.823     -6.949      0.000        -7.335    -4.107\n",
       "female         0.9638      0.291      3.312      0.001         0.393     1.534\n",
       "runtime        0.0142      0.003      4.314      0.000         0.008     0.021\n",
       "==============================================================================\n",
       "\"\"\""
      ]
     },
     "metadata": {},
     "output_type": "display_data"
    },
    {
     "name": "stdout",
     "output_type": "stream",
     "text": [
      "LLRatio 36.4157805872:\n"
     ]
    }
   ],
   "source": [
    "### exercise 5a-b\n",
    "hypo = pd.read_csv('./data/hyponatremia.csv')\n",
    "# display(hypo)\n",
    "# print len(hypo[(hypo.nas135 == 1) & (hypo.female == 1)])\n",
    "# print len(hypo[(hypo.nas135 == 1) & (hypo.female == 0)])\n",
    "# print len(hypo[(hypo.nas135 == 0) & (hypo.female == 1)])\n",
    "# print len(hypo[(hypo.nas135 == 0) & (hypo.female == 0)])\n",
    "# print math.sqrt(1/297. + 1/129. + 1/25. + 1/37.)\n",
    "# print math.log(3.41)\n",
    "### exercise 5b\n",
    "lgf = logit(formula='nas135 ~ female', data=hypo)\n",
    "result = lgf.fit()\n",
    "display(result.summary())\n",
    "print 'LLRatio %s:' % result.llr\n",
    "\n",
    "lgr = logit(formula='nas135 ~ runtime', data=hypo)\n",
    "result = lgr.fit()\n",
    "display(result.summary())\n",
    "print 'LLRatio %s:' % result.llr\n",
    "\n",
    "lgfr = logit(formula='nas135 ~ female+runtime', data=hypo)\n",
    "result = lgfr.fit()\n",
    "display(lgfr.fit().summary())\n",
    "print 'LLRatio %s:' % result.llr"
   ]
  },
  {
   "cell_type": "markdown",
   "metadata": {},
   "source": [
    "#### exercise 5a: association between `nas136` and `sex`\n",
    "   - association between `nas135` and `sex` with 2x2 table.\n",
    "\n",
    "Nas135/Sex| Male | Female\n",
    "-|-|:-:|:-:\n",
    "No | 297 | 129\n",
    "Yes | 25 | 37\n",
    "   - odds ratio of `nas135` for male vs female\n",
    "       - male odds: 25/297 = 0.084\n",
    "       - female odds: 37/129 = 0.2868\n",
    "       - female or male odds ratio: (297x37) / (25x129) = 3.41 $\\Rightarrow$ female's odd of nas135 is 3.41 times higher than male's odds.\n",
    "       - confidence interval:\n",
    "           - $\\sqrt{var} = \\sqrt{ \\frac {1} {297} + \\frac {1} {129} + \\frac {1} {25} + \\frac {1} {37} }$ = 0.2795\n",
    "           - $1.2267\\>(lg(3.41)) \\pm 1.96 * 0.2795 = (1.96, 5.89)$\n",
    "           \n",
    "#### exercise 5b: model `nas135 ~ female`\n",
    "   - Log Likelihood Ratio: 19.67, p-value=9.294e-06 (significant)\n",
    "   \n",
    "#### exercise 5c-d: how to run naive model??\n",
    "   - Naive model is the model without any predictor(independent) variable.\n",
    "   - P(Nas135) = (25+37) / 488 = 0.127 $\\Rightarrow$ 12.7%\n",
    "\n",
    "#### exercise 5e-f:\n",
    "   - logit eq: -2.475 + 1.226 * female\n",
    "   - Walt-Test: 1.226 / 0.28 = 4.39, p-value < 0.001 (significant)\n",
    "   \n",
    "#### exercise 5g: model `nas135 ~ runtime`\n",
    "   - Log likelihood Ratio = 2*(-177.93 + 185.8) = 15.74, p-value=7.272e-05 (significant)\n",
    "\n",
    "#### exercise 5h:\n",
    "   - Odd(nas135|runtime=240min) = $e^{-4.526 + 0.0113 * 240} = e^{-1.814} = 0.163$\n",
    "   - P(nas135+runtime=240min) = odd/(1+odd) = 0.163 / (1 + 0.163) = 0.14 $\\Rightarrow$ 14.02%\n",
    "\n",
    "#### exercise 5i: model `nas135 ~ female + runtime`\n",
    "   - Log likelihood Ratio = 30.38, p-value=2.533e-07 (significant)\n",
    "   - Test: $H_0 : \\beta_{female} = 0, \\beta_{runtime} = 0$ vs $H_a: \\beta_{female} \\neq 0, \\beta_{runtime} \\neq 0$"
   ]
  },
  {
   "cell_type": "markdown",
   "metadata": {},
   "source": [
    "# Week6\n",
    "\n",
    "**`Stratified Analysis`** is used to test if odds-ratios are constant over the strata.\n",
    "   - this uses 2x2 contingency table to calculate crude odds-ratios over each stratum.\n",
    "   - if there is consistency, test using `Mantel-Haenszel estimator` or `weighted logit-based estimator`.\n",
    "   - This overall estimate is computed under the assumption that odds-ratios are in fact `constant`.\n",
    "\n",
    "**Mantel-Haenszel estimator**\n",
    "   - weighted average of the stratum-specific odds ratio\n",
    "   - $\\widehat{OR}_{MH} = \\frac {\\sum^{a_i * d_i} / N_{i}} {\\sum^{b_i * c_i} / N_{i}} $\n",
    "   - MH estimator maybe computed even when some of the cells are 0.\n",
    "\n",
    "**Logit-Based estimator**\n",
    "   - weighted average of the stratum-specific odds ratio\n",
    "   - the weights(w) are inverse of variance of the log-odds ratio\n",
    "   - $\\widehat{OR}_{L} = e^{\\sum{ Wi \\> ln(\\widehat{OR_{i}}) / \\sum{Wi}}}$\n",
    "   - $w_i = 1 / \\widehat{Var}[ln(\\widehat{OR_i}]$\n",
    "   - $ln(\\widehat{OR_{i}}) = 1/a_i + 1/b_i + 1/c_i + 1/d_i$\n",
    "  \n",
    "**Odds Ratio Homogeneity Test across strata**\n",
    "   - $\\chi^2_H = \\sum \\{w_i [ln(\\widehat{OR_i}) - ln(\\widehat{OR_L})]^2 \\}$\n",
    "   - $H_0: \\widehat{OR_i}$ are constant, $ \\chi^2_H \\sim \\chi^2$ (#strata-1)\n",
    "   - Breslow-Day Test\n",
    "      - $\\chi^2_{BD} = \\sum { \\frac {(a_i - \\hat{e_i})^2} {\\hat{v_i}} }$\n",
    "      - $\\hat{e_i}$ : estimate frequency in 1,1 cell if the odds ratio were constant.\n",
    "      - $\\hat{v_i}$ : estimate of the variance of ai, assuming odds ratios are constant.\n",
    "\n",
    "If there is a suspected `confounder`, run models without it(1), with it(2), and with it `interaction`(3).\n",
    "   - Then comparing OR of model 2 or log likelihood test of 2 and 3 to $\\widehat{OR_{MH}}$ or $\\widehat{OR_L}$\n",
    "   - With these approach, logistic regression provides a fast and effective way of obtaining a stratified odds ratio estimate t assessing the assumption of homogeneity across strata.\n",
    "\n",
    "**`Goodness of fit`**: Assessment of the model performance by comparing observed values and predicted values.\n",
    "The model fits if:\n",
    "   - the summary measures of the distance between y and $\\hat{y}$ is are small.\n",
    "   - the contribution of each pair (y, $\\hat{y}$) to these summary measures is unsystematic and is small relative to the error structure of the model."
   ]
  },
  {
   "cell_type": "markdown",
   "metadata": {},
   "source": [
    "### Exercise 1"
   ]
  },
  {
   "cell_type": "code",
   "execution_count": 29,
   "metadata": {
    "collapsed": true
   },
   "outputs": [
    {
     "name": "stdout",
     "output_type": "stream",
     "text": [
      "Optimization terminated successfully.\n",
      "         Current function value: 0.480571\n",
      "         Iterations 5\n"
     ]
    },
    {
     "data": {
      "text/html": [
       "<table class=\"simpletable\">\n",
       "<caption>Logit Regression Results</caption>\n",
       "<tr>\n",
       "  <th>Dep. Variable:</th>        <td>STA</td>       <th>  No. Observations:  </th>  <td>   200</td> \n",
       "</tr>\n",
       "<tr>\n",
       "  <th>Model:</th>               <td>Logit</td>      <th>  Df Residuals:      </th>  <td>   198</td> \n",
       "</tr>\n",
       "<tr>\n",
       "  <th>Method:</th>               <td>MLE</td>       <th>  Df Model:          </th>  <td>     1</td> \n",
       "</tr>\n",
       "<tr>\n",
       "  <th>Date:</th>          <td>Sun, 18 Oct 2015</td> <th>  Pseudo R-squ.:     </th>  <td>0.03963</td>\n",
       "</tr>\n",
       "<tr>\n",
       "  <th>Time:</th>              <td>22:25:53</td>     <th>  Log-Likelihood:    </th> <td> -96.114</td>\n",
       "</tr>\n",
       "<tr>\n",
       "  <th>converged:</th>           <td>True</td>       <th>  LL-Null:           </th> <td> -100.08</td>\n",
       "</tr>\n",
       "<tr>\n",
       "  <th> </th>                      <td> </td>        <th>  LLR p-value:       </th> <td>0.004856</td>\n",
       "</tr>\n",
       "</table>\n",
       "<table class=\"simpletable\">\n",
       "<tr>\n",
       "      <td></td>         <th>coef</th>     <th>std err</th>      <th>z</th>      <th>P>|z|</th> <th>[95.0% Conf. Int.]</th> \n",
       "</tr>\n",
       "<tr>\n",
       "  <th>Intercept</th> <td>   -1.5404</td> <td>    0.192</td> <td>   -8.031</td> <td> 0.000</td> <td>   -1.916    -1.164</td>\n",
       "</tr>\n",
       "<tr>\n",
       "  <th>CPR</th>       <td>    1.6946</td> <td>    0.588</td> <td>    2.880</td> <td> 0.004</td> <td>    0.541     2.848</td>\n",
       "</tr>\n",
       "</table>"
      ],
      "text/plain": [
       "<class 'statsmodels.iolib.summary.Summary'>\n",
       "\"\"\"\n",
       "                           Logit Regression Results                           \n",
       "==============================================================================\n",
       "Dep. Variable:                    STA   No. Observations:                  200\n",
       "Model:                          Logit   Df Residuals:                      198\n",
       "Method:                           MLE   Df Model:                            1\n",
       "Date:                Sun, 18 Oct 2015   Pseudo R-squ.:                 0.03963\n",
       "Time:                        22:25:53   Log-Likelihood:                -96.114\n",
       "converged:                       True   LL-Null:                       -100.08\n",
       "                                        LLR p-value:                  0.004856\n",
       "==============================================================================\n",
       "                 coef    std err          z      P>|z|      [95.0% Conf. Int.]\n",
       "------------------------------------------------------------------------------\n",
       "Intercept     -1.5404      0.192     -8.031      0.000        -1.916    -1.164\n",
       "CPR            1.6946      0.588      2.880      0.004         0.541     2.848\n",
       "==============================================================================\n",
       "\"\"\""
      ]
     },
     "metadata": {},
     "output_type": "display_data"
    }
   ],
   "source": [
    "### exercise 6a\n",
    "icu = pd.read_csv('./data/icu.csv')\n",
    "# display(icu)\n",
    "a = len(icu[(icu.STA == 0) & (icu.CPR == 0)])\n",
    "b = len(icu[(icu.STA == 0) & (icu.CPR == 1)])\n",
    "c = len(icu[(icu.STA == 1) & (icu.CPR == 0)])\n",
    "d = len(icu[(icu.STA == 1) & (icu.CPR == 1)])\n",
    "\n",
    "# print a, b, c, d\n",
    "# print 'Odds Ratio:', (a*d)/float(b*c)\n",
    "\n",
    "iculg = logit(formula='STA ~ CPR', data=icu)\n",
    "result = iculg.fit()\n",
    "display(result.summary())"
   ]
  },
  {
   "cell_type": "markdown",
   "metadata": {},
   "source": [
    "#### exercise 6a\n",
    "**`cross classification`**\n",
    "   - Odds Ratio: (154x7) / (33x7) = 5.44\n",
    "   - $ \\sqrt { \\widehat{VAR}[ln(\\widehat{OR})] } = \\sqrt{1/154 + 1/6 + 1/33 + 1/7}$ = 0.588\n",
    "   \n",
    "STA/CPR | NO | YES\n",
    "-|-|:-:|:-:\n",
    "No | 154 | 6\n",
    "Yes | 33 | 7\n",
    "\n",
    "**`logistic regression`**\n",
    "   - CPR coefficient: 1.6946, OR: $e^{1.6946} = 5.44$\n",
    "   - CPR coefficient standard error: 0.588\n",
    "   - Log OR 95% confidence interval: [0.541, 2.848]\n",
    "   \n",
    "The results between two approaches are the same because CPR is a dichotomous variable."
   ]
  },
  {
   "cell_type": "code",
   "execution_count": 30,
   "metadata": {
    "collapsed": true
   },
   "outputs": [
    {
     "name": "stdout",
     "output_type": "stream",
     "text": [
      "Optimization terminated successfully.\n",
      "         Current function value: 0.480571\n",
      "         Iterations 5\n"
     ]
    },
    {
     "data": {
      "text/html": [
       "<table class=\"simpletable\">\n",
       "<caption>Logit Regression Results</caption>\n",
       "<tr>\n",
       "  <th>Dep. Variable:</th>        <td>STA</td>       <th>  No. Observations:  </th>  <td>   200</td> \n",
       "</tr>\n",
       "<tr>\n",
       "  <th>Model:</th>               <td>Logit</td>      <th>  Df Residuals:      </th>  <td>   198</td> \n",
       "</tr>\n",
       "<tr>\n",
       "  <th>Method:</th>               <td>MLE</td>       <th>  Df Model:          </th>  <td>     1</td> \n",
       "</tr>\n",
       "<tr>\n",
       "  <th>Date:</th>          <td>Sun, 18 Oct 2015</td> <th>  Pseudo R-squ.:     </th>  <td>0.03963</td>\n",
       "</tr>\n",
       "<tr>\n",
       "  <th>Time:</th>              <td>22:25:58</td>     <th>  Log-Likelihood:    </th> <td> -96.114</td>\n",
       "</tr>\n",
       "<tr>\n",
       "  <th>converged:</th>           <td>True</td>       <th>  LL-Null:           </th> <td> -100.08</td>\n",
       "</tr>\n",
       "<tr>\n",
       "  <th> </th>                      <td> </td>        <th>  LLR p-value:       </th> <td>0.004856</td>\n",
       "</tr>\n",
       "</table>\n",
       "<table class=\"simpletable\">\n",
       "<tr>\n",
       "      <td></td>         <th>coef</th>     <th>std err</th>      <th>z</th>      <th>P>|z|</th> <th>[95.0% Conf. Int.]</th> \n",
       "</tr>\n",
       "<tr>\n",
       "  <th>Intercept</th> <td>    1.8487</td> <td>    1.129</td> <td>    1.637</td> <td> 0.102</td> <td>   -0.364     4.062</td>\n",
       "</tr>\n",
       "<tr>\n",
       "  <th>CPR2</th>      <td>   -0.8473</td> <td>    0.294</td> <td>   -2.880</td> <td> 0.004</td> <td>   -1.424    -0.271</td>\n",
       "</tr>\n",
       "</table>"
      ],
      "text/plain": [
       "<class 'statsmodels.iolib.summary.Summary'>\n",
       "\"\"\"\n",
       "                           Logit Regression Results                           \n",
       "==============================================================================\n",
       "Dep. Variable:                    STA   No. Observations:                  200\n",
       "Model:                          Logit   Df Residuals:                      198\n",
       "Method:                           MLE   Df Model:                            1\n",
       "Date:                Sun, 18 Oct 2015   Pseudo R-squ.:                 0.03963\n",
       "Time:                        22:25:58   Log-Likelihood:                -96.114\n",
       "converged:                       True   LL-Null:                       -100.08\n",
       "                                        LLR p-value:                  0.004856\n",
       "==============================================================================\n",
       "                 coef    std err          z      P>|z|      [95.0% Conf. Int.]\n",
       "------------------------------------------------------------------------------\n",
       "Intercept      1.8487      1.129      1.637      0.102        -0.364     4.062\n",
       "CPR2          -0.8473      0.294     -2.880      0.004        -1.424    -0.271\n",
       "==============================================================================\n",
       "\"\"\""
      ]
     },
     "metadata": {},
     "output_type": "display_data"
    }
   ],
   "source": [
    "### exercise 6b\n",
    "icu = pd.read_csv('./data/icu.csv')\n",
    "icu['CPR2'] = icu['CPR']\n",
    "icu.loc[icu['CPR2'] == 0, 'CPR2'] = 4\n",
    "icu.loc[icu['CPR2'] == 1, 'CPR2'] = 2\n",
    "iculg2 = logit(formula='STA ~ CPR2', data=icu)\n",
    "result2 = iculg2.fit()\n",
    "display(result2.summary())\n",
    "# print 'LLRatio %s vs %s' % (result.llr, result2.llr)"
   ]
  },
  {
   "cell_type": "markdown",
   "metadata": {},
   "source": [
    "#### exercise 6b\n",
    "   - The log likelihood difference for two models are the same. (-96.114+100.08) = 3.97.\n",
    "   - The difference in CPR = 2-4 = -2. (2 absolute)\n",
    "   - Log OR 95% confidence interval: $[ -2 * -0.8473 \\pm 1.96 * 2 * 0.294] = [0.54212, 2.84708] $\n",
    "   - Log OR confidence interval matches."
   ]
  },
  {
   "cell_type": "code",
   "execution_count": 31,
   "metadata": {
    "collapsed": true
   },
   "outputs": [
    {
     "name": "stdout",
     "output_type": "stream",
     "text": [
      "Optimization terminated successfully.\n",
      "         Current function value: 0.494753\n",
      "         Iterations 7\n"
     ]
    },
    {
     "data": {
      "text/html": [
       "<table class=\"simpletable\">\n",
       "<caption>Logit Regression Results</caption>\n",
       "<tr>\n",
       "  <th>Dep. Variable:</th>        <td>STA</td>       <th>  No. Observations:  </th>  <td>   200</td> \n",
       "</tr>\n",
       "<tr>\n",
       "  <th>Model:</th>               <td>Logit</td>      <th>  Df Residuals:      </th>  <td>   197</td> \n",
       "</tr>\n",
       "<tr>\n",
       "  <th>Method:</th>               <td>MLE</td>       <th>  Df Model:          </th>  <td>     2</td> \n",
       "</tr>\n",
       "<tr>\n",
       "  <th>Date:</th>          <td>Sun, 18 Oct 2015</td> <th>  Pseudo R-squ.:     </th>  <td>0.01129</td>\n",
       "</tr>\n",
       "<tr>\n",
       "  <th>Time:</th>              <td>22:26:04</td>     <th>  Log-Likelihood:    </th> <td> -98.951</td>\n",
       "</tr>\n",
       "<tr>\n",
       "  <th>converged:</th>           <td>True</td>       <th>  LL-Null:           </th> <td> -100.08</td>\n",
       "</tr>\n",
       "<tr>\n",
       "  <th> </th>                      <td> </td>        <th>  LLR p-value:       </th>  <td>0.3231</td> \n",
       "</tr>\n",
       "</table>\n",
       "<table class=\"simpletable\">\n",
       "<tr>\n",
       "      <td></td>         <th>coef</th>     <th>std err</th>      <th>z</th>      <th>P>|z|</th> <th>[95.0% Conf. Int.]</th> \n",
       "</tr>\n",
       "<tr>\n",
       "  <th>Intercept</th> <td>   -1.3163</td> <td>    0.185</td> <td>   -7.110</td> <td> 0.000</td> <td>   -1.679    -0.953</td>\n",
       "</tr>\n",
       "<tr>\n",
       "  <th>RACE2</th>     <td>   -1.3227</td> <td>    1.052</td> <td>   -1.258</td> <td> 0.208</td> <td>   -3.384     0.738</td>\n",
       "</tr>\n",
       "<tr>\n",
       "  <th>RACE3</th>     <td>   -0.0700</td> <td>    0.812</td> <td>   -0.086</td> <td> 0.931</td> <td>   -1.661     1.521</td>\n",
       "</tr>\n",
       "</table>"
      ],
      "text/plain": [
       "<class 'statsmodels.iolib.summary.Summary'>\n",
       "\"\"\"\n",
       "                           Logit Regression Results                           \n",
       "==============================================================================\n",
       "Dep. Variable:                    STA   No. Observations:                  200\n",
       "Model:                          Logit   Df Residuals:                      197\n",
       "Method:                           MLE   Df Model:                            2\n",
       "Date:                Sun, 18 Oct 2015   Pseudo R-squ.:                 0.01129\n",
       "Time:                        22:26:04   Log-Likelihood:                -98.951\n",
       "converged:                       True   LL-Null:                       -100.08\n",
       "                                        LLR p-value:                    0.3231\n",
       "==============================================================================\n",
       "                 coef    std err          z      P>|z|      [95.0% Conf. Int.]\n",
       "------------------------------------------------------------------------------\n",
       "Intercept     -1.3163      0.185     -7.110      0.000        -1.679    -0.953\n",
       "RACE2         -1.3227      1.052     -1.258      0.208        -3.384     0.738\n",
       "RACE3         -0.0700      0.812     -0.086      0.931        -1.661     1.521\n",
       "==============================================================================\n",
       "\"\"\""
      ]
     },
     "metadata": {},
     "output_type": "display_data"
    }
   ],
   "source": [
    "### exercise 6c\n",
    "icu = pd.read_csv('./data/icu.csv')\n",
    "icu['RACE2'] = (icu['RACE'] == 2).astype(int)\n",
    "icu['RACE3'] = (icu['RACE'] == 3).astype(int)\n",
    "\n",
    "a = len(icu[(icu.STA == 0) & (icu.RACE == 1)])\n",
    "b = len(icu[(icu.STA == 0) & (icu.RACE == 2)])\n",
    "c = len(icu[(icu.STA == 0) & (icu.RACE == 3)])\n",
    "d = len(icu[(icu.STA == 1) & (icu.RACE == 1)])\n",
    "e = len(icu[(icu.STA == 1) & (icu.RACE == 2)])\n",
    "f = len(icu[(icu.STA == 1) & (icu.RACE == 3)])\n",
    "# print a,b,c,d,e,f\n",
    "\n",
    "iculg3 = logit(formula='STA ~ RACE2 + RACE3', data=icu)\n",
    "result3 = iculg3.fit()\n",
    "display(result3.summary())"
   ]
  },
  {
   "cell_type": "markdown",
   "metadata": {},
   "source": [
    "#### exercise 6c\n",
    "\n",
    "**`cross classification`**\n",
    "\n",
    "Coding Design Variable for RACE(1,2,3)(White,Black,Other), need 2 dummy variables to represent 3 RACE groups.\n",
    "Using White Race as reference group.\n",
    "\n",
    "STA/RACE | White| Black | Other\n",
    "-|-|:-:|:-:\n",
    "No | 138 | 14 | 8\n",
    "Yes | 37 | 1 | 2\n",
    "\n",
    "   - Race2(Black) vs Race1(White):\n",
    "      - Odds Ratio: (138x1) / (37x14) = 0.266\n",
    "      - $ \\sqrt { \\widehat{VAR}[ln(\\widehat{OR})] } = \\sqrt{1/138 + 1/1 + 1/37 + 1/14}$ = 1.0515\n",
    "   - Race3(Other) vs Rave1(White):\n",
    "      - Odds Ratio: (138x2) / (37x8) = 0.9324\n",
    "      - $ \\sqrt { \\widehat{VAR}[ln(\\widehat{OR})] } = \\sqrt{1/138 + 1/2 + 1/37 + 1/8}$ = 0.8119\n",
    "\n",
    "**`logistic regression`**\n",
    "   - Race2(Black) vs Race1(White):\n",
    "       - Race2 coefficient: -1.322, OR: $e^{-1.322} = 0.267$\n",
    "       - Race2 coefficient standard error: 1.052\n",
    "       - Log OR 95% confidence interval: [-3.384, 0.738]\n",
    "\n",
    "   - Race3(Black) vs Race1(White):\n",
    "       - Race3 coefficient: -0.07, OR: $e^{-0.07} = 0.9324$\n",
    "       - Race3 coefficient standard error: 0.812\n",
    "       - Log OR 95% confidence interval: [-1.661, 1.521]"
   ]
  },
  {
   "cell_type": "markdown",
   "metadata": {},
   "source": [
    "#### exercise 6d\n",
    "   - use the same approach as 6b but code White as (-1,-1) instead of (0,0)."
   ]
  },
  {
   "cell_type": "code",
   "execution_count": 37,
   "metadata": {
    "collapsed": true
   },
   "outputs": [
    {
     "name": "stdout",
     "output_type": "stream",
     "text": [
      "Optimization terminated successfully.\n",
      "         Current function value: 0.486842\n",
      "         Iterations 5\n"
     ]
    },
    {
     "data": {
      "text/html": [
       "<table class=\"simpletable\">\n",
       "<caption>Logit Regression Results</caption>\n",
       "<tr>\n",
       "  <th>Dep. Variable:</th>        <td>STA</td>       <th>  No. Observations:  </th>  <td>   200</td> \n",
       "</tr>\n",
       "<tr>\n",
       "  <th>Model:</th>               <td>Logit</td>      <th>  Df Residuals:      </th>  <td>   198</td> \n",
       "</tr>\n",
       "<tr>\n",
       "  <th>Method:</th>               <td>MLE</td>       <th>  Df Model:          </th>  <td>     1</td> \n",
       "</tr>\n",
       "<tr>\n",
       "  <th>Date:</th>          <td>Sun, 18 Oct 2015</td> <th>  Pseudo R-squ.:     </th>  <td>0.02710</td>\n",
       "</tr>\n",
       "<tr>\n",
       "  <th>Time:</th>              <td>22:34:00</td>     <th>  Log-Likelihood:    </th> <td> -97.368</td>\n",
       "</tr>\n",
       "<tr>\n",
       "  <th>converged:</th>           <td>True</td>       <th>  LL-Null:           </th> <td> -100.08</td>\n",
       "</tr>\n",
       "<tr>\n",
       "  <th> </th>                      <td> </td>        <th>  LLR p-value:       </th>  <td>0.01986</td>\n",
       "</tr>\n",
       "</table>\n",
       "<table class=\"simpletable\">\n",
       "<tr>\n",
       "      <td></td>         <th>coef</th>     <th>std err</th>      <th>z</th>      <th>P>|z|</th> <th>[95.0% Conf. Int.]</th> \n",
       "</tr>\n",
       "<tr>\n",
       "  <th>Intercept</th> <td>   -1.5382</td> <td>    0.195</td> <td>   -7.895</td> <td> 0.000</td> <td>   -1.920    -1.156</td>\n",
       "</tr>\n",
       "<tr>\n",
       "  <th>CRN</th>       <td>    1.2198</td> <td>    0.504</td> <td>    2.421</td> <td> 0.015</td> <td>    0.232     2.207</td>\n",
       "</tr>\n",
       "</table>"
      ],
      "text/plain": [
       "<class 'statsmodels.iolib.summary.Summary'>\n",
       "\"\"\"\n",
       "                           Logit Regression Results                           \n",
       "==============================================================================\n",
       "Dep. Variable:                    STA   No. Observations:                  200\n",
       "Model:                          Logit   Df Residuals:                      198\n",
       "Method:                           MLE   Df Model:                            1\n",
       "Date:                Sun, 18 Oct 2015   Pseudo R-squ.:                 0.02710\n",
       "Time:                        22:34:00   Log-Likelihood:                -97.368\n",
       "converged:                       True   LL-Null:                       -100.08\n",
       "                                        LLR p-value:                   0.01986\n",
       "==============================================================================\n",
       "                 coef    std err          z      P>|z|      [95.0% Conf. Int.]\n",
       "------------------------------------------------------------------------------\n",
       "Intercept     -1.5382      0.195     -7.895      0.000        -1.920    -1.156\n",
       "CRN            1.2198      0.504      2.421      0.015         0.232     2.207\n",
       "==============================================================================\n",
       "\"\"\""
      ]
     },
     "metadata": {},
     "output_type": "display_data"
    },
    {
     "name": "stdout",
     "output_type": "stream",
     "text": [
      "Optimization terminated successfully.\n",
      "         Current function value: 0.471511\n",
      "         Iterations 6\n"
     ]
    },
    {
     "data": {
      "text/html": [
       "<table class=\"simpletable\">\n",
       "<caption>Logit Regression Results</caption>\n",
       "<tr>\n",
       "  <th>Dep. Variable:</th>        <td>STA</td>       <th>  No. Observations:  </th>  <td>   200</td> \n",
       "</tr>\n",
       "<tr>\n",
       "  <th>Model:</th>               <td>Logit</td>      <th>  Df Residuals:      </th>  <td>   197</td> \n",
       "</tr>\n",
       "<tr>\n",
       "  <th>Method:</th>               <td>MLE</td>       <th>  Df Model:          </th>  <td>     2</td> \n",
       "</tr>\n",
       "<tr>\n",
       "  <th>Date:</th>          <td>Sun, 18 Oct 2015</td> <th>  Pseudo R-squ.:     </th>  <td>0.05774</td>\n",
       "</tr>\n",
       "<tr>\n",
       "  <th>Time:</th>              <td>22:34:00</td>     <th>  Log-Likelihood:    </th> <td> -94.302</td>\n",
       "</tr>\n",
       "<tr>\n",
       "  <th>converged:</th>           <td>True</td>       <th>  LL-Null:           </th> <td> -100.08</td>\n",
       "</tr>\n",
       "<tr>\n",
       "  <th> </th>                      <td> </td>        <th>  LLR p-value:       </th> <td>0.003094</td>\n",
       "</tr>\n",
       "</table>\n",
       "<table class=\"simpletable\">\n",
       "<tr>\n",
       "      <td></td>         <th>coef</th>     <th>std err</th>      <th>z</th>      <th>P>|z|</th> <th>[95.0% Conf. Int.]</th> \n",
       "</tr>\n",
       "<tr>\n",
       "  <th>Intercept</th> <td>   -3.0299</td> <td>    0.700</td> <td>   -4.328</td> <td> 0.000</td> <td>   -4.402    -1.658</td>\n",
       "</tr>\n",
       "<tr>\n",
       "  <th>CRN</th>       <td>    1.0199</td> <td>    0.515</td> <td>    1.981</td> <td> 0.048</td> <td>    0.011     2.029</td>\n",
       "</tr>\n",
       "<tr>\n",
       "  <th>AGE</th>       <td>    0.0250</td> <td>    0.011</td> <td>    2.331</td> <td> 0.020</td> <td>    0.004     0.046</td>\n",
       "</tr>\n",
       "</table>"
      ],
      "text/plain": [
       "<class 'statsmodels.iolib.summary.Summary'>\n",
       "\"\"\"\n",
       "                           Logit Regression Results                           \n",
       "==============================================================================\n",
       "Dep. Variable:                    STA   No. Observations:                  200\n",
       "Model:                          Logit   Df Residuals:                      197\n",
       "Method:                           MLE   Df Model:                            2\n",
       "Date:                Sun, 18 Oct 2015   Pseudo R-squ.:                 0.05774\n",
       "Time:                        22:34:00   Log-Likelihood:                -94.302\n",
       "converged:                       True   LL-Null:                       -100.08\n",
       "                                        LLR p-value:                  0.003094\n",
       "==============================================================================\n",
       "                 coef    std err          z      P>|z|      [95.0% Conf. Int.]\n",
       "------------------------------------------------------------------------------\n",
       "Intercept     -3.0299      0.700     -4.328      0.000        -4.402    -1.658\n",
       "CRN            1.0199      0.515      1.981      0.048         0.011     2.029\n",
       "AGE            0.0250      0.011      2.331      0.020         0.004     0.046\n",
       "==============================================================================\n",
       "\"\"\""
      ]
     },
     "metadata": {},
     "output_type": "display_data"
    },
    {
     "name": "stdout",
     "output_type": "stream",
     "text": [
      "Optimization terminated successfully.\n",
      "         Current function value: 0.468405\n",
      "         Iterations 6\n"
     ]
    },
    {
     "data": {
      "text/html": [
       "<table class=\"simpletable\">\n",
       "<caption>Logit Regression Results</caption>\n",
       "<tr>\n",
       "  <th>Dep. Variable:</th>        <td>STA</td>       <th>  No. Observations:  </th>  <td>   200</td> \n",
       "</tr>\n",
       "<tr>\n",
       "  <th>Model:</th>               <td>Logit</td>      <th>  Df Residuals:      </th>  <td>   196</td> \n",
       "</tr>\n",
       "<tr>\n",
       "  <th>Method:</th>               <td>MLE</td>       <th>  Df Model:          </th>  <td>     3</td> \n",
       "</tr>\n",
       "<tr>\n",
       "  <th>Date:</th>          <td>Sun, 18 Oct 2015</td> <th>  Pseudo R-squ.:     </th>  <td>0.06394</td>\n",
       "</tr>\n",
       "<tr>\n",
       "  <th>Time:</th>              <td>22:34:00</td>     <th>  Log-Likelihood:    </th> <td> -93.681</td>\n",
       "</tr>\n",
       "<tr>\n",
       "  <th>converged:</th>           <td>True</td>       <th>  LL-Null:           </th> <td> -100.08</td>\n",
       "</tr>\n",
       "<tr>\n",
       "  <th> </th>                      <td> </td>        <th>  LLR p-value:       </th> <td>0.005093</td>\n",
       "</tr>\n",
       "</table>\n",
       "<table class=\"simpletable\">\n",
       "<tr>\n",
       "      <td></td>         <th>coef</th>     <th>std err</th>      <th>z</th>      <th>P>|z|</th> <th>[95.0% Conf. Int.]</th> \n",
       "</tr>\n",
       "<tr>\n",
       "  <th>Intercept</th> <td>   -3.2979</td> <td>    0.771</td> <td>   -4.280</td> <td> 0.000</td> <td>   -4.808    -1.788</td>\n",
       "</tr>\n",
       "<tr>\n",
       "  <th>CRN</th>       <td>    3.5731</td> <td>    2.322</td> <td>    1.539</td> <td> 0.124</td> <td>   -0.978     8.125</td>\n",
       "</tr>\n",
       "<tr>\n",
       "  <th>AGE</th>       <td>    0.0292</td> <td>    0.012</td> <td>    2.494</td> <td> 0.013</td> <td>    0.006     0.052</td>\n",
       "</tr>\n",
       "<tr>\n",
       "  <th>CRN:AGE</th>   <td>   -0.0381</td> <td>    0.034</td> <td>   -1.118</td> <td> 0.263</td> <td>   -0.105     0.029</td>\n",
       "</tr>\n",
       "</table>"
      ],
      "text/plain": [
       "<class 'statsmodels.iolib.summary.Summary'>\n",
       "\"\"\"\n",
       "                           Logit Regression Results                           \n",
       "==============================================================================\n",
       "Dep. Variable:                    STA   No. Observations:                  200\n",
       "Model:                          Logit   Df Residuals:                      196\n",
       "Method:                           MLE   Df Model:                            3\n",
       "Date:                Sun, 18 Oct 2015   Pseudo R-squ.:                 0.06394\n",
       "Time:                        22:34:00   Log-Likelihood:                -93.681\n",
       "converged:                       True   LL-Null:                       -100.08\n",
       "                                        LLR p-value:                  0.005093\n",
       "==============================================================================\n",
       "                 coef    std err          z      P>|z|      [95.0% Conf. Int.]\n",
       "------------------------------------------------------------------------------\n",
       "Intercept     -3.2979      0.771     -4.280      0.000        -4.808    -1.788\n",
       "CRN            3.5731      2.322      1.539      0.124        -0.978     8.125\n",
       "AGE            0.0292      0.012      2.494      0.013         0.006     0.052\n",
       "CRN:AGE       -0.0381      0.034     -1.118      0.263        -0.105     0.029\n",
       "==============================================================================\n",
       "\"\"\""
      ]
     },
     "metadata": {},
     "output_type": "display_data"
    },
    {
     "name": "stdout",
     "output_type": "stream",
     "text": [
      "LLRatio 5.42422050809\n",
      "LLRatio 11.5563810679\n",
      "LLRatio 12.7988181573\n"
     ]
    }
   ],
   "source": [
    "### exercise 6e\n",
    "icu = pd.read_csv('./data/icu.csv')\n",
    "\n",
    "iculg4 = logit(formula='STA ~ CRN', data=icu)\n",
    "result4 = iculg4.fit()\n",
    "display(result4.summary())\n",
    "# print result4.params \n",
    "\n",
    "iculg5 = logit(formula='STA ~ CRN + AGE', data=icu)\n",
    "result5 = iculg5.fit()\n",
    "display(result5.summary())\n",
    "# print result5.params \n",
    "\n",
    "iculg6 = logit(formula='STA ~ CRN * AGE', data=icu)\n",
    "result6 = iculg6.fit()\n",
    "display(result6.summary())\n",
    "print 'LLRatio %s' % result4.llr\n",
    "print 'LLRatio %s' % result5.llr\n",
    "print 'LLRatio %s' % result6.llr\n",
    "# print result6.params"
   ]
  },
  {
   "cell_type": "markdown",
   "metadata": {},
   "source": [
    "#### exercise 6e\n",
    "   - Upon introduction of `AGE`, the odds ratio of `CRN` decreases from 3.386 to 2.772 which is about 18% change.\n",
    "This indicates there is a significant confounding by `AGE`.\n",
    "   - Likelihood ratios between `CRN` only model and `CRN,AGE` are rather large, but the difference between `CRN,AGE` base and interaction model (11.56, 12.8) is rather small with slightly increased p-value in interaction model so `CRN,AGE` model is the best model to use here.\n",
    "   - $\\widehat{OR} = e^{1.0199} = 2.77$\n",
    "   - 95% confidence interval: [$e^{0.011}, e^{2.029}] = [1.011, 7.6065]$"
   ]
  },
  {
   "cell_type": "markdown",
   "metadata": {},
   "source": [
    "#### exercise 6f\n",
    "   - Analysis of model with `STA ~ CAN + TYP(confouding?)`."
   ]
  },
  {
   "cell_type": "code",
   "execution_count": 36,
   "metadata": {
    "collapsed": true
   },
   "outputs": [
    {
     "name": "stdout",
     "output_type": "stream",
     "text": [
      "Optimization terminated successfully.\n",
      "         Current function value: 0.500402\n",
      "         Iterations 5\n"
     ]
    },
    {
     "data": {
      "text/html": [
       "<table class=\"simpletable\">\n",
       "<caption>Logit Regression Results</caption>\n",
       "<tr>\n",
       "  <th>Dep. Variable:</th>        <td>STA</td>       <th>  No. Observations:  </th>  <td>   200</td> \n",
       "</tr>\n",
       "<tr>\n",
       "  <th>Model:</th>               <td>Logit</td>      <th>  Df Residuals:      </th>  <td>   198</td> \n",
       "</tr>\n",
       "<tr>\n",
       "  <th>Method:</th>               <td>MLE</td>       <th>  Df Model:          </th>  <td>     1</td> \n",
       "</tr>\n",
       "<tr>\n",
       "  <th>Date:</th>          <td>Sun, 18 Oct 2015</td> <th>  Pseudo R-squ.:     </th>  <td> 0.000</td> \n",
       "</tr>\n",
       "<tr>\n",
       "  <th>Time:</th>              <td>22:33:50</td>     <th>  Log-Likelihood:    </th> <td> -100.08</td>\n",
       "</tr>\n",
       "<tr>\n",
       "  <th>converged:</th>           <td>True</td>       <th>  LL-Null:           </th> <td> -100.08</td>\n",
       "</tr>\n",
       "<tr>\n",
       "  <th> </th>                      <td> </td>        <th>  LLR p-value:       </th>  <td> 1.000</td> \n",
       "</tr>\n",
       "</table>\n",
       "<table class=\"simpletable\">\n",
       "<tr>\n",
       "      <td></td>         <th>coef</th>     <th>std err</th>      <th>z</th>      <th>P>|z|</th> <th>[95.0% Conf. Int.]</th> \n",
       "</tr>\n",
       "<tr>\n",
       "  <th>Intercept</th> <td>   -1.3863</td> <td>    0.186</td> <td>   -7.440</td> <td> 0.000</td> <td>   -1.752    -1.021</td>\n",
       "</tr>\n",
       "<tr>\n",
       "  <th>CAN</th>       <td>-5.979e-16</td> <td>    0.589</td> <td>-1.01e-15</td> <td> 1.000</td> <td>   -1.155     1.155</td>\n",
       "</tr>\n",
       "</table>"
      ],
      "text/plain": [
       "<class 'statsmodels.iolib.summary.Summary'>\n",
       "\"\"\"\n",
       "                           Logit Regression Results                           \n",
       "==============================================================================\n",
       "Dep. Variable:                    STA   No. Observations:                  200\n",
       "Model:                          Logit   Df Residuals:                      198\n",
       "Method:                           MLE   Df Model:                            1\n",
       "Date:                Sun, 18 Oct 2015   Pseudo R-squ.:                   0.000\n",
       "Time:                        22:33:50   Log-Likelihood:                -100.08\n",
       "converged:                       True   LL-Null:                       -100.08\n",
       "                                        LLR p-value:                     1.000\n",
       "==============================================================================\n",
       "                 coef    std err          z      P>|z|      [95.0% Conf. Int.]\n",
       "------------------------------------------------------------------------------\n",
       "Intercept     -1.3863      0.186     -7.440      0.000        -1.752    -1.021\n",
       "CAN        -5.979e-16      0.589  -1.01e-15      1.000        -1.155     1.155\n",
       "==============================================================================\n",
       "\"\"\""
      ]
     },
     "metadata": {},
     "output_type": "display_data"
    },
    {
     "name": "stderr",
     "output_type": "stream",
     "text": [
      "ERROR: Line magic function `%R` not found.\n"
     ]
    }
   ],
   "source": [
    "### exercise 6f\n",
    "icu = pd.read_csv('./data/icu.csv')\n",
    "\n",
    "iculg4 = logit(formula='STA ~ CAN', data=icu)\n",
    "result4 = iculg4.fit()\n",
    "display(result4.summary())\n",
    "\n",
    "# iculg5 = logit(formula='STA ~ CAN + TYP', data=icu)\n",
    "# result5 = iculg5.fit()\n",
    "# display(result5.summary())\n",
    "\n",
    "# print 'LLRatio %s' % result5.llr\n",
    "# print 'LLRatio %s' % result6.llr\n",
    "# print result6.params\n",
    "\n",
    "%R -i icu print(summary(glm(STA ~ CAN, data=icu, family=binomial)))"
   ]
  }
 ],
 "metadata": {
  "celltoolbar": "Raw Cell Format",
  "kernelspec": {
   "display_name": "Python 2",
   "language": "python",
   "name": "python2"
  },
  "language_info": {
   "codemirror_mode": {
    "name": "ipython",
    "version": 2
   },
   "file_extension": ".py",
   "mimetype": "text/x-python",
   "name": "python",
   "nbconvert_exporter": "python",
   "pygments_lexer": "ipython2",
   "version": "2.7.8"
  }
 },
 "nbformat": 4,
 "nbformat_minor": 0
}
