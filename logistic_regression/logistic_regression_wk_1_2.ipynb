{
 "cells": [
  {
   "cell_type": "code",
   "execution_count": 2,
   "metadata": {
    "collapsed": false
   },
   "outputs": [
    {
     "name": "stdout",
     "output_type": "stream",
     "text": [
      "The rmagic extension is already loaded. To reload it, use:\n",
      "  %reload_ext rmagic\n",
      "import finished\n"
     ]
    }
   ],
   "source": [
    "%matplotlib inline\n",
    "%load_ext rmagic\n",
    "# %load_ext rpy2.ipython\n",
    "import math\n",
    "import pandas as pd\n",
    "import numpy as np\n",
    "import matplotlib.pyplot as plt\n",
    "import statsmodels.api as sm\n",
    "from sklearn.linear_model import LogisticRegression\n",
    "from statsmodels.formula.api import logit\n",
    "\n",
    "from IPython.display import display\n",
    "from IPython.display import HTML\n",
    "\n",
    "print 'import finished'"
   ]
  },
  {
   "cell_type": "markdown",
   "metadata": {},
   "source": [
    "# Week1 Homework"
   ]
  },
  {
   "cell_type": "markdown",
   "metadata": {},
   "source": [
    "### Exercise 1"
   ]
  },
  {
   "cell_type": "code",
   "execution_count": 3,
   "metadata": {
    "collapsed": false
   },
   "outputs": [
    {
     "data": {
      "text/html": [
       "<div style=\"max-height:1000px;max-width:1500px;overflow:auto;\">\n",
       "<table border=\"1\" class=\"dataframe\">\n",
       "  <thead>\n",
       "    <tr style=\"text-align: right;\">\n",
       "      <th></th>\n",
       "      <th>ID</th>\n",
       "      <th>STUDYYEAR</th>\n",
       "      <th>MYOPIC</th>\n",
       "      <th>AGE</th>\n",
       "      <th>GENDER</th>\n",
       "      <th>SPHEQ</th>\n",
       "      <th>AL</th>\n",
       "      <th>ACD</th>\n",
       "      <th>LT</th>\n",
       "      <th>VCD</th>\n",
       "      <th>SPORTHR</th>\n",
       "      <th>READHR</th>\n",
       "      <th>COMPHR</th>\n",
       "      <th>STUDYHR</th>\n",
       "      <th>TVHR</th>\n",
       "      <th>DIOPTERHR</th>\n",
       "      <th>MOMMY</th>\n",
       "      <th>DADMY</th>\n",
       "    </tr>\n",
       "  </thead>\n",
       "  <tbody>\n",
       "    <tr>\n",
       "      <th>0</th>\n",
       "      <td>1</td>\n",
       "      <td>1992</td>\n",
       "      <td>1</td>\n",
       "      <td>6</td>\n",
       "      <td>1</td>\n",
       "      <td>-0.052</td>\n",
       "      <td>21.889999</td>\n",
       "      <td>3.690</td>\n",
       "      <td>3.498</td>\n",
       "      <td>14.70</td>\n",
       "      <td>45</td>\n",
       "      <td>8</td>\n",
       "      <td>0</td>\n",
       "      <td>0</td>\n",
       "      <td>10</td>\n",
       "      <td>34</td>\n",
       "      <td>1</td>\n",
       "      <td>1</td>\n",
       "    </tr>\n",
       "    <tr>\n",
       "      <th>1</th>\n",
       "      <td>2</td>\n",
       "      <td>1995</td>\n",
       "      <td>0</td>\n",
       "      <td>6</td>\n",
       "      <td>1</td>\n",
       "      <td>0.608</td>\n",
       "      <td>22.379999</td>\n",
       "      <td>3.702</td>\n",
       "      <td>3.392</td>\n",
       "      <td>15.29</td>\n",
       "      <td>4</td>\n",
       "      <td>0</td>\n",
       "      <td>1</td>\n",
       "      <td>1</td>\n",
       "      <td>7</td>\n",
       "      <td>12</td>\n",
       "      <td>1</td>\n",
       "      <td>1</td>\n",
       "    </tr>\n",
       "    <tr>\n",
       "      <th>2</th>\n",
       "      <td>3</td>\n",
       "      <td>1991</td>\n",
       "      <td>0</td>\n",
       "      <td>6</td>\n",
       "      <td>1</td>\n",
       "      <td>1.179</td>\n",
       "      <td>22.490000</td>\n",
       "      <td>3.462</td>\n",
       "      <td>3.514</td>\n",
       "      <td>15.52</td>\n",
       "      <td>14</td>\n",
       "      <td>0</td>\n",
       "      <td>2</td>\n",
       "      <td>0</td>\n",
       "      <td>10</td>\n",
       "      <td>14</td>\n",
       "      <td>0</td>\n",
       "      <td>0</td>\n",
       "    </tr>\n",
       "    <tr>\n",
       "      <th>3</th>\n",
       "      <td>4</td>\n",
       "      <td>1990</td>\n",
       "      <td>1</td>\n",
       "      <td>6</td>\n",
       "      <td>1</td>\n",
       "      <td>0.525</td>\n",
       "      <td>22.200001</td>\n",
       "      <td>3.862</td>\n",
       "      <td>3.612</td>\n",
       "      <td>14.73</td>\n",
       "      <td>18</td>\n",
       "      <td>11</td>\n",
       "      <td>0</td>\n",
       "      <td>0</td>\n",
       "      <td>4</td>\n",
       "      <td>37</td>\n",
       "      <td>0</td>\n",
       "      <td>1</td>\n",
       "    </tr>\n",
       "    <tr>\n",
       "      <th>4</th>\n",
       "      <td>5</td>\n",
       "      <td>1995</td>\n",
       "      <td>0</td>\n",
       "      <td>5</td>\n",
       "      <td>0</td>\n",
       "      <td>0.697</td>\n",
       "      <td>23.290001</td>\n",
       "      <td>3.676</td>\n",
       "      <td>3.454</td>\n",
       "      <td>16.16</td>\n",
       "      <td>14</td>\n",
       "      <td>0</td>\n",
       "      <td>0</td>\n",
       "      <td>0</td>\n",
       "      <td>4</td>\n",
       "      <td>4</td>\n",
       "      <td>1</td>\n",
       "      <td>0</td>\n",
       "    </tr>\n",
       "  </tbody>\n",
       "</table>\n",
       "</div>"
      ],
      "text/plain": [
       "   ID  STUDYYEAR  MYOPIC  AGE  GENDER  SPHEQ         AL    ACD     LT    VCD  \\\n",
       "0   1       1992       1    6       1 -0.052  21.889999  3.690  3.498  14.70   \n",
       "1   2       1995       0    6       1  0.608  22.379999  3.702  3.392  15.29   \n",
       "2   3       1991       0    6       1  1.179  22.490000  3.462  3.514  15.52   \n",
       "3   4       1990       1    6       1  0.525  22.200001  3.862  3.612  14.73   \n",
       "4   5       1995       0    5       0  0.697  23.290001  3.676  3.454  16.16   \n",
       "\n",
       "   SPORTHR  READHR  COMPHR  STUDYHR  TVHR  DIOPTERHR  MOMMY  DADMY  \n",
       "0       45       8       0        0    10         34      1      1  \n",
       "1        4       0       1        1     7         12      1      1  \n",
       "2       14       0       2        0    10         14      0      0  \n",
       "3       18      11       0        0     4         37      0      1  \n",
       "4       14       0       0        0     4          4      1      0  "
      ]
     },
     "metadata": {},
     "output_type": "display_data"
    }
   ],
   "source": [
    "myopia = pd.read_csv('./data/MYOPIA-fixed.csv')\n",
    "display(myopia.head(5))\n",
    "# print 'myopic 0', len(table[table['MYOPIC'] == 0])\n",
    "# print 'myopic 1', len(table[table['MYOPIC'] == 1])\n",
    "# print table.columns\n",
    "# print table[['MYOPIC', 'SPHEQ']]"
   ]
  },
  {
   "cell_type": "markdown",
   "metadata": {},
   "source": [
    "#### Exercise 1a\n",
    "- replace x with SPHEQ\n",
    "- **logistic regression model** : $\\pi(x) = \\frac{e^{\\beta_0 + \\beta_1x}} {1 + e^{\\beta_0 + \\beta_1x}}$, \n",
    "$1 - \\pi(x) = \\frac{1}{1 + e^{\\beta_0 + \\beta_1x}}$\n",
    "\n",
    "- **logit transformation** : $g(x) = ln(\\frac{\\pi(x)} {1-\\pi(x)}) = ln(e^{\\beta_0 + \\beta_1x}) = \\beta_0 + \\beta_1x$\n",
    "\n",
    "- the values of outcome variable (MYOPIC) are binary which is discrete and not continuous, thus logistic model is more suitable than linear regression model."
   ]
  },
  {
   "cell_type": "markdown",
   "metadata": {},
   "source": [
    "#### Exercise 1b"
   ]
  },
  {
   "cell_type": "code",
   "execution_count": 4,
   "metadata": {
    "collapsed": false
   },
   "outputs": [
    {
     "data": {
      "image/png": "[encoded data removed]",
      "text/plain": [
       "<matplotlib.figure.Figure at 0x1123f4a10>"
      ]
     },
     "metadata": {},
     "output_type": "display_data"
    }
   ],
   "source": [
    "sub = plt.subplot()\n",
    "sub.scatter(x=myopia['SPHEQ'], y=myopia['MYOPIC'])\n",
    "sub.set_xlabel('SPHEQ')\n",
    "sub.set_ylabel('MYOPIC')\n",
    "sub.set_title('MYOPIC vs SPHEQ')\n",
    "sub.grid(True)\n",
    "plt.show()"
   ]
  },
  {
   "cell_type": "markdown",
   "metadata": {},
   "source": [
    "#### Exercise 1c\n",
    "likelihood / log-likelihood function, n=618, (y=1 for 81, y=0 for 537)\n",
    "\n",
    "- **likelihood function** : $\\xi(x_i) = \\Pi_{i=1}^n \\xi(x_i) = \\Pi_{i=1}^n \\pi(x_i)^{y_i}[1-\\pi(x_i)]^{1-y_i}]$\n",
    "\n",
    "- **log likelihood function** : $ln(\\xi(x_i)) = \\sum_{i=1}^n [ y_i ln(\\pi(x_i)) + (1-y_i) ln(1-\\pi(x_i))] $"
   ]
  },
  {
   "cell_type": "markdown",
   "metadata": {},
   "source": [
    "#### Exercise 1d\n",
    "- **logit estimation**: $\\pi(x) = \\frac{e^{0.054 - 3.8331x}} {1 + e^{0.054 - 3.8331x}}$\n",
    "- **logit estimation log**: $lg(\\pi(x)) = 0.054\\beta_0 - 3.8331\\beta_1x$"
   ]
  },
  {
   "cell_type": "code",
   "execution_count": 5,
   "metadata": {
    "collapsed": false
   },
   "outputs": [
    {
     "name": "stdout",
     "output_type": "stream",
     "text": [
      "Optimization terminated successfully.\n",
      "         Current function value: 0.272933\n",
      "         Iterations 8\n"
     ]
    },
    {
     "data": {
      "image/png": "[encoded data removed]",
      "text/plain": [
       "<matplotlib.figure.Figure at 0x112359290>"
      ]
     },
     "metadata": {},
     "output_type": "display_data"
    }
   ],
   "source": [
    "lg = logit(formula = 'MYOPIC ~ SPHEQ', data=myopia)\n",
    "result = lg.fit()\n",
    "# print result.summary()\n",
    "intercept, SPHEQ = result.params['Intercept'], result.params['SPHEQ']\n",
    "\n",
    "numerator = np.exp(intercept + SPHEQ * myopia.SPHEQ)\n",
    "sub = plt.subplot()\n",
    "sub.plot(myopia.SPHEQ, numerator / (1 + numerator))\n",
    "sub.scatter(x=myopia['SPHEQ'], y=myopia['MYOPIC'])\n",
    "sub.set_xlabel('SPHEQ')\n",
    "sub.set_ylabel('Pr(MYOPIC)')\n",
    "sub.set_title('Pr(MYOPIC) vs SPHEQ')\n",
    "sub.grid(True)\n",
    "plt.show()"
   ]
  },
  {
   "cell_type": "markdown",
   "metadata": {},
   "source": [
    "### Exercise 2"
   ]
  },
  {
   "cell_type": "code",
   "execution_count": 6,
   "metadata": {
    "collapsed": false
   },
   "outputs": [
    {
     "name": "stdout",
     "output_type": "stream",
     "text": [
      "40\n",
      "160\n"
     ]
    }
   ],
   "source": [
    "icu = pd.read_csv('./data/icu.csv')\n",
    "icu.head()\n",
    "print len(icu[icu.STA == 1])\n",
    "print len(icu[icu.STA == 0])"
   ]
  },
  {
   "cell_type": "markdown",
   "metadata": {},
   "source": [
    "#### Exercise 2a\n",
    "- x -> AGE\n",
    "- **logistic regression model** : $\\pi(x) = \\frac{e^{\\beta_0 + \\beta_1x}} {1 + e^{\\beta_0 + \\beta_1x}}$, \n",
    "$1 - \\pi(x) = \\frac{1}{1 + e^{\\beta_0 + \\beta_1x}}$\n",
    "\n",
    "- **logit transformation** : $g(x) = ln(\\frac{\\pi(x)} {1-\\pi(x)}) = ln(e^{\\beta_0 + \\beta_1x}) = \\beta_0 + \\beta_1x$\n",
    "\n",
    "- the values of outcome variable (STA) are binary which is discrete and not continuous, thus logistic model is more suitable than linear regression model."
   ]
  },
  {
   "cell_type": "markdown",
   "metadata": {},
   "source": [
    "#### Exercise 2b"
   ]
  },
  {
   "cell_type": "code",
   "execution_count": 7,
   "metadata": {
    "collapsed": false
   },
   "outputs": [
    {
     "data": {
      "image/png": "[encoded data removed]",
      "text/plain": [
       "<matplotlib.figure.Figure at 0x1125a8ed0>"
      ]
     },
     "metadata": {},
     "output_type": "display_data"
    }
   ],
   "source": [
    "sub = plt.subplot()\n",
    "sub.scatter(x=icu.AGE, y=icu.STA)\n",
    "sub.set_xlabel('AGE')\n",
    "sub.set_ylabel('STA')\n",
    "sub.set_title('STA vs AGE')\n",
    "sub.grid(True)\n",
    "plt.show()"
   ]
  },
  {
   "cell_type": "markdown",
   "metadata": {},
   "source": [
    "#### Exercise 2c\n",
    "likelihood / log-likelihood function, n=160, (y=1 for 40, y=0 for 120)\n",
    "\n",
    "- **likelihood function** : $\\xi(x_i) = \\Pi_{i=1}^n \\xi(x_i) = \\Pi_{i=1}^n \\pi(x_i)^{y_i}[1-\\pi(x_i)]^{1-y_i}]$\n",
    "\n",
    "- **log likelihood function** : $ln(\\xi(x_i)) = \\sum_{i=1}^n [ y_i ln(\\pi(x_i)) + (1-y_i) ln(1-\\pi(x_i))] $"
   ]
  },
  {
   "cell_type": "markdown",
   "metadata": {},
   "source": [
    "#### Exercise 2d\n",
    "- **logit estimation**: $\\pi(x) = \\frac{e^{-3.0585 + 0.0275x}} {1 + e^{-3.0585 + 0.0275x}}$\n",
    "- **logit estimation log**: $lg(\\pi(x)) = -3.0585\\beta_0 + 0.0275\\beta_1x$"
   ]
  },
  {
   "cell_type": "code",
   "execution_count": 11,
   "metadata": {
    "collapsed": false
   },
   "outputs": [
    {
     "name": "stdout",
     "output_type": "stream",
     "text": [
      "Optimization terminated successfully.\n",
      "         Current function value: 0.480766\n",
      "         Iterations 6\n",
      "                           Logit Regression Results                           \n",
      "==============================================================================\n",
      "Dep. Variable:                    STA   No. Observations:                  200\n",
      "Model:                          Logit   Df Residuals:                      198\n",
      "Method:                           MLE   Df Model:                            1\n",
      "Date:                Sun, 18 Oct 2015   Pseudo R-squ.:                 0.03924\n",
      "Time:                        22:24:07   Log-Likelihood:                -96.153\n",
      "converged:                       True   LL-Null:                       -100.08\n",
      "                                        LLR p-value:                  0.005069\n",
      "==============================================================================\n",
      "                 coef    std err          z      P>|z|      [95.0% Conf. Int.]\n",
      "------------------------------------------------------------------------------\n",
      "Intercept     -3.0585      0.696     -4.394      0.000        -4.423    -1.694\n",
      "AGE            0.0275      0.011      2.607      0.009         0.007     0.048\n",
      "==============================================================================\n"
     ]
    },
    {
     "data": {
      "image/png": "[encoded data removed]",
      "text/plain": [
       "<matplotlib.figure.Figure at 0x10a291750>"
      ]
     },
     "metadata": {},
     "output_type": "display_data"
    }
   ],
   "source": [
    "iculg = logit(formula = 'STA ~ AGE', data=icu)\n",
    "result = iculg.fit()\n",
    "print result.summary()\n",
    "intercept, AGE = result.params['Intercept'], result.params['AGE']\n",
    "\n",
    "numerator = np.exp(intercept + AGE * icu.AGE)\n",
    "sub = plt.subplot()\n",
    "sub.plot(icu.AGE, numerator / (1 + numerator))\n",
    "sub.scatter(x=icu.AGE, y=icu.STA)\n",
    "sub.set_xlabel('AGE')\n",
    "sub.set_ylabel('Pr(STA)')\n",
    "sub.set_title('Pr(STA) vs AGE')\n",
    "sub.grid(True)\n",
    "plt.show()"
   ]
  },
  {
   "cell_type": "markdown",
   "metadata": {},
   "source": [
    "#### Exercise 2e\n",
    "Summary: from the initial scatter plot, STA seemed only vaguely positively correated with AGE, but after logistic estimation, it was easy to notice that the probability of STA increased with AGE."
   ]
  },
  {
   "cell_type": "markdown",
   "metadata": {},
   "source": [
    "#Week2\n",
    "the comparison of `observed` to `predicted` values using the likelihood function \n",
    "- **likelihood ratio** : $[\\frac{model\\>likelihood} {saturated\\>model\\>likelihood}]$\n",
    "\n",
    "- **likelihood ratio test** : $ -2ln\\, [ likelihood\\>ratio ] $\n",
    "\n",
    "to assess the significance of an independent variable, compare the value D with/without the independent variable.\n",
    "- ** G = D(model without variable) - D(model with the variable) ** = $-2ln\\,[\\frac{likelihood\\>without\\>variable} {likelihood\\> with\\>variable}]$\n",
    "\n",
    "- Under $H_0 : \\beta_1 = 0$, the statistics G ~ $\\chi^2(1)$ (distributed with $\\chi^2$ degree of freedom 1)\n",
    "\n",
    "- Wald Test(W) = $\\frac{ \\hat{\\beta_1} }  { \\widehat{SE}(\\hat{\\beta_1}) }$, and under $H_0 : \\beta_1 = 0$, W ~ $N(0,1)$\n",
    "\n",
    "- prefer Likelihood ratio test to Wald Test."
   ]
  },
  {
   "cell_type": "markdown",
   "metadata": {},
   "source": [
    "### Exercise 1"
   ]
  },
  {
   "cell_type": "code",
   "execution_count": 12,
   "metadata": {
    "collapsed": true
   },
   "outputs": [
    {
     "name": "stdout",
     "output_type": "stream",
     "text": [
      "Optimization terminated successfully.\n",
      "         Current function value: 0.272933\n",
      "         Iterations 8\n"
     ]
    },
    {
     "data": {
      "text/html": [
       "<table class=\"simpletable\">\n",
       "<caption>Logit Regression Results</caption>\n",
       "<tr>\n",
       "  <th>Dep. Variable:</th>      <td>MYOPIC</td>      <th>  No. Observations:  </th>  <td>   618</td>  \n",
       "</tr>\n",
       "<tr>\n",
       "  <th>Model:</th>               <td>Logit</td>      <th>  Df Residuals:      </th>  <td>   616</td>  \n",
       "</tr>\n",
       "<tr>\n",
       "  <th>Method:</th>               <td>MLE</td>       <th>  Df Model:          </th>  <td>     1</td>  \n",
       "</tr>\n",
       "<tr>\n",
       "  <th>Date:</th>          <td>Sun, 18 Oct 2015</td> <th>  Pseudo R-squ.:     </th>  <td>0.2973</td>  \n",
       "</tr>\n",
       "<tr>\n",
       "  <th>Time:</th>              <td>22:24:17</td>     <th>  Log-Likelihood:    </th> <td> -168.67</td> \n",
       "</tr>\n",
       "<tr>\n",
       "  <th>converged:</th>           <td>True</td>       <th>  LL-Null:           </th> <td> -240.04</td> \n",
       "</tr>\n",
       "<tr>\n",
       "  <th> </th>                      <td> </td>        <th>  LLR p-value:       </th> <td>6.727e-33</td>\n",
       "</tr>\n",
       "</table>\n",
       "<table class=\"simpletable\">\n",
       "<tr>\n",
       "      <td></td>         <th>coef</th>     <th>std err</th>      <th>z</th>      <th>P>|z|</th> <th>[95.0% Conf. Int.]</th> \n",
       "</tr>\n",
       "<tr>\n",
       "  <th>Intercept</th> <td>    0.0540</td> <td>    0.207</td> <td>    0.261</td> <td> 0.794</td> <td>   -0.351     0.459</td>\n",
       "</tr>\n",
       "<tr>\n",
       "  <th>SPHEQ</th>     <td>   -3.8331</td> <td>    0.418</td> <td>   -9.162</td> <td> 0.000</td> <td>   -4.653    -3.013</td>\n",
       "</tr>\n",
       "</table>"
      ],
      "text/plain": [
       "<class 'statsmodels.iolib.summary.Summary'>\n",
       "\"\"\"\n",
       "                           Logit Regression Results                           \n",
       "==============================================================================\n",
       "Dep. Variable:                 MYOPIC   No. Observations:                  618\n",
       "Model:                          Logit   Df Residuals:                      616\n",
       "Method:                           MLE   Df Model:                            1\n",
       "Date:                Sun, 18 Oct 2015   Pseudo R-squ.:                  0.2973\n",
       "Time:                        22:24:17   Log-Likelihood:                -168.67\n",
       "converged:                       True   LL-Null:                       -240.04\n",
       "                                        LLR p-value:                 6.727e-33\n",
       "==============================================================================\n",
       "                 coef    std err          z      P>|z|      [95.0% Conf. Int.]\n",
       "------------------------------------------------------------------------------\n",
       "Intercept      0.0540      0.207      0.261      0.794        -0.351     0.459\n",
       "SPHEQ         -3.8331      0.418     -9.162      0.000        -4.653    -3.013\n",
       "==============================================================================\n",
       "\"\"\""
      ]
     },
     "execution_count": 12,
     "metadata": {},
     "output_type": "execute_result"
    }
   ],
   "source": [
    "myopia2 = pd.read_csv('./data/MYOPIA-fixed.csv') # re-read the table\n",
    "lg2 = logit(formula = 'MYOPIC ~ SPHEQ', data=myopia2)\n",
    "mresult2 = lg2.fit()\n",
    "mresult2.summary()"
   ]
  },
  {
   "cell_type": "markdown",
   "metadata": {},
   "source": [
    "Using the results of the output from Stata, assess the significance of the slope coefficient for SPHEQ using the likelihood ratio test and the Wald test. What assumptions are needed for the p-values computed for each of these tests to be valid? Are the results of these tests consistent with one another? What is the value of the deviance for the fitted model?\n",
    "\n",
    "Test: $H_0 : \\beta_1 = 0$, $H_a: \\beta_1 \\neq 0$\n",
    "\n",
    "- Likelihood ratio test assumption: result G is distributed as $\\chi^2$ with df=1\n",
    "- Likelihood ratio test(G) = 142.7331 with 1 df(p-value) < 0.001\n",
    "    1. G = -2 * (-240.04) + 2 * (-168.67) = 142.7331\n",
    "- Wald test assumption: W is distributed as N(0,1)\n",
    "- Wald test = -9.162 with p-value < 0.001\n",
    "- Both test results indicates that SPHEQ is a significant variable in predicting MYOPIA."
   ]
  },
  {
   "cell_type": "code",
   "execution_count": 311,
   "metadata": {
    "collapsed": false
   },
   "outputs": [
    {
     "name": "stdout",
     "output_type": "stream",
     "text": [
      "-168.672439854 -240.038508429 142.732137151 6.72664045685e-33\n",
      "-9.17009569378\n"
     ]
    }
   ],
   "source": [
    "print result2.llf, result2.llnull, result2.llr, result2.llr_pvalue\n",
    "print -3.8331 / 0.418"
   ]
  },
  {
   "cell_type": "markdown",
   "metadata": {},
   "source": [
    "### Exercise 2"
   ]
  },
  {
   "cell_type": "code",
   "execution_count": 8,
   "metadata": {
    "collapsed": false
   },
   "outputs": [
    {
     "name": "stdout",
     "output_type": "stream",
     "text": [
      "Optimization terminated successfully.\n",
      "         Current function value: 0.480766\n",
      "         Iterations 6\n"
     ]
    },
    {
     "data": {
      "text/html": [
       "<table class=\"simpletable\">\n",
       "<caption>Logit Regression Results</caption>\n",
       "<tr>\n",
       "  <th>Dep. Variable:</th>        <td>STA</td>       <th>  No. Observations:  </th>  <td>   200</td> \n",
       "</tr>\n",
       "<tr>\n",
       "  <th>Model:</th>               <td>Logit</td>      <th>  Df Residuals:      </th>  <td>   198</td> \n",
       "</tr>\n",
       "<tr>\n",
       "  <th>Method:</th>               <td>MLE</td>       <th>  Df Model:          </th>  <td>     1</td> \n",
       "</tr>\n",
       "<tr>\n",
       "  <th>Date:</th>          <td>Tue, 27 Oct 2015</td> <th>  Pseudo R-squ.:     </th>  <td>0.03924</td>\n",
       "</tr>\n",
       "<tr>\n",
       "  <th>Time:</th>              <td>01:32:44</td>     <th>  Log-Likelihood:    </th> <td> -96.153</td>\n",
       "</tr>\n",
       "<tr>\n",
       "  <th>converged:</th>           <td>True</td>       <th>  LL-Null:           </th> <td> -100.08</td>\n",
       "</tr>\n",
       "<tr>\n",
       "  <th> </th>                      <td> </td>        <th>  LLR p-value:       </th> <td>0.005069</td>\n",
       "</tr>\n",
       "</table>\n",
       "<table class=\"simpletable\">\n",
       "<tr>\n",
       "      <td></td>         <th>coef</th>     <th>std err</th>      <th>z</th>      <th>P>|z|</th> <th>[95.0% Conf. Int.]</th> \n",
       "</tr>\n",
       "<tr>\n",
       "  <th>Intercept</th> <td>   -3.0585</td> <td>    0.696</td> <td>   -4.394</td> <td> 0.000</td> <td>   -4.423    -1.694</td>\n",
       "</tr>\n",
       "<tr>\n",
       "  <th>AGE</th>       <td>    0.0275</td> <td>    0.011</td> <td>    2.607</td> <td> 0.009</td> <td>    0.007     0.048</td>\n",
       "</tr>\n",
       "</table>"
      ],
      "text/plain": [
       "<class 'statsmodels.iolib.summary.Summary'>\n",
       "\"\"\"\n",
       "                           Logit Regression Results                           \n",
       "==============================================================================\n",
       "Dep. Variable:                    STA   No. Observations:                  200\n",
       "Model:                          Logit   Df Residuals:                      198\n",
       "Method:                           MLE   Df Model:                            1\n",
       "Date:                Tue, 27 Oct 2015   Pseudo R-squ.:                 0.03924\n",
       "Time:                        01:32:44   Log-Likelihood:                -96.153\n",
       "converged:                       True   LL-Null:                       -100.08\n",
       "                                        LLR p-value:                  0.005069\n",
       "==============================================================================\n",
       "                 coef    std err          z      P>|z|      [95.0% Conf. Int.]\n",
       "------------------------------------------------------------------------------\n",
       "Intercept     -3.0585      0.696     -4.394      0.000        -4.423    -1.694\n",
       "AGE            0.0275      0.011      2.607      0.009         0.007     0.048\n",
       "==============================================================================\n",
       "\"\"\""
      ]
     },
     "execution_count": 8,
     "metadata": {},
     "output_type": "execute_result"
    }
   ],
   "source": [
    "icu = pd.read_csv('./data/icu.csv')\n",
    "iculg2 = logit(formula = 'STA ~ AGE', data=icu)\n",
    "icuresult = iculg2.fit()\n",
    "icuresult.summary()"
   ]
  },
  {
   "cell_type": "markdown",
   "metadata": {},
   "source": [
    "Using the results of the output from the logistic regression package used for problem 2 part (d) of week 1, assess the significance of the slope coefficient for AGE using the likelihood ratio test and the Wald test. What assumptions are needed for the p-values computed for each of these tests to be valid? Are the results of these tests consistent with one another? What is the value of the deviance for the fitted model?\n",
    "\n",
    "Test: $H_0 : \\beta_1 = 0$, $H_a: \\beta_1 \\neq 0$\n",
    "- Likelihood ratio test assumption: statistic G is distributed as $\\chi^2$ with df=1\n",
    "- Likelihood ratio test(G) = 7.8546 with 1 df(p-value) < 0.05\n",
    "    1. G = -2 * (-100.08) + 2 * (-96.153) = 7.8546\n",
    "- Wald test assumption: W is distributed as N(0,1)\n",
    "- Wald test = -2.607 with p-value < 0.05\n",
    "- Both test results indicates that AGE is a significant variable in predicting STA. Thus reject $H_0$"
   ]
  },
  {
   "cell_type": "code",
   "execution_count": 14,
   "metadata": {
    "collapsed": true
   },
   "outputs": [
    {
     "name": "stdout",
     "output_type": "stream",
     "text": [
      "log likelihood with variable: -96.1531901919\n",
      "log likelihood without variable: -100.080484708\n",
      "log likelihood ratio(Deviance): 7.85458903155\n",
      "log likelihood ratio p-value: 0.00506918737428\n",
      "-7.85458903155\n"
     ]
    }
   ],
   "source": [
    "# print icuresult.llf, icuresult.llnull, icuresult.llr, icuresult.llr_pvalue\n",
    "print 'log likelihood with variable: %s' % icuresult.llf\n",
    "print 'log likelihood without variable: %s' % icuresult.llnull\n",
    "print 'log likelihood ratio(Deviance): %s' % icuresult.llr\n",
    "print 'log likelihood ratio p-value: %s' %icuresult.llr_pvalue\n",
    "print -2*icuresult.llf +2*icuresult.llnull"
   ]
  }
 ],
 "metadata": {
  "celltoolbar": "Raw Cell Format",
  "kernelspec": {
   "display_name": "Python 2",
   "language": "python",
   "name": "python2"
  },
  "language_info": {
   "codemirror_mode": {
    "name": "ipython",
    "version": 2
   },
   "file_extension": ".py",
   "mimetype": "text/x-python",
   "name": "python",
   "nbconvert_exporter": "python",
   "pygments_lexer": "ipython2",
   "version": "2.7.8"
  }
 },
 "nbformat": 4,
 "nbformat_minor": 0
}
